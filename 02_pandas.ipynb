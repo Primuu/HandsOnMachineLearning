{
 "cells": [
  {
   "cell_type": "markdown",
   "source": [
    "# Pandas module\n",
    "\n",
    "Pandas library contains efficient data structures and data analysis tools. The main data structure is a `DataFrame` object, which can be interpreted as a two-dimensional table (similar to a spreadsheet containing column names and row labels)."
   ],
   "metadata": {
    "collapsed": false
   },
   "id": "bb47b174543dd870"
  },
  {
   "cell_type": "code",
   "execution_count": 1,
   "id": "initial_id",
   "metadata": {
    "collapsed": true,
    "ExecuteTime": {
     "end_time": "2025-03-23T09:11:05.295744Z",
     "start_time": "2025-03-23T09:11:01.287051Z"
    }
   },
   "outputs": [],
   "source": [
    "import pandas as pd"
   ]
  },
  {
   "cell_type": "markdown",
   "source": [
    "## Series objects\n",
    "\n",
    "The `pandas` module contains the following data structures:\n",
    "* `Series` - one-dimensional array, similar to column in a spreadsheet.\n",
    "*  `DataFrame` - two-dimensional array, similar to a spreadsheet.\n",
    "* `Panel` - can be interpreted as dictionary of `DataFrame` objects (they are less commonly used). "
   ],
   "metadata": {
    "collapsed": false
   },
   "id": "b81ca07eb57357cc"
  },
  {
   "cell_type": "markdown",
   "source": [
    "#### Series object initialization"
   ],
   "metadata": {
    "collapsed": false
   },
   "id": "3512977be8d1e6f9"
  },
  {
   "cell_type": "code",
   "outputs": [
    {
     "data": {
      "text/plain": "0    2\n1   -1\n2    3\n3    5\ndtype: int64"
     },
     "execution_count": 2,
     "metadata": {},
     "output_type": "execute_result"
    }
   ],
   "source": [
    "s = pd.Series([2, -1, 3, 5])\n",
    "s"
   ],
   "metadata": {
    "collapsed": false,
    "ExecuteTime": {
     "end_time": "2025-03-23T09:11:05.322233Z",
     "start_time": "2025-03-23T09:11:05.299972Z"
    }
   },
   "id": "6079e40ac86adaee",
   "execution_count": 2
  },
  {
   "cell_type": "markdown",
   "source": [
    "#### Similarities to 1D `ndarray`\n",
    "\n",
    "`Series` objects behave similarly to the one-dimensional `ndarray` arrays of the NumPy module - in addition, we can often pass them as parameters to NumPy functions."
   ],
   "metadata": {
    "collapsed": false
   },
   "id": "a42fe1754d2d7d7e"
  },
  {
   "cell_type": "code",
   "outputs": [
    {
     "data": {
      "text/plain": "0      7.389056\n1      0.367879\n2     20.085537\n3    148.413159\ndtype: float64"
     },
     "execution_count": 3,
     "metadata": {},
     "output_type": "execute_result"
    }
   ],
   "source": [
    "import numpy as np\n",
    "\n",
    "np.exp(s)"
   ],
   "metadata": {
    "collapsed": false,
    "ExecuteTime": {
     "end_time": "2025-03-23T09:11:05.343074Z",
     "start_time": "2025-03-23T09:11:05.326981Z"
    }
   },
   "id": "d3bcece8109b831b",
   "execution_count": 3
  },
  {
   "cell_type": "markdown",
   "source": [
    "It is also possible to perform arithmetic operations on `Series` objects - they are carried out *element-wise*, similar to operations on `ndarray` objects."
   ],
   "metadata": {
    "collapsed": false
   },
   "id": "6d2a8f252078f070"
  },
  {
   "cell_type": "code",
   "outputs": [
    {
     "data": {
      "text/plain": "0    12\n1    19\n2    33\n3    45\ndtype: int64"
     },
     "execution_count": 4,
     "metadata": {},
     "output_type": "execute_result"
    }
   ],
   "source": [
    "s + [10, 20, 30 ,40]"
   ],
   "metadata": {
    "collapsed": false,
    "ExecuteTime": {
     "end_time": "2025-03-23T09:11:05.360818Z",
     "start_time": "2025-03-23T09:11:05.348871Z"
    }
   },
   "id": "3eeb2a30a65affb2",
   "execution_count": 4
  },
  {
   "cell_type": "markdown",
   "source": [
    "Similarly to `ndarray` tables, we can add a single number to a `Series` object - it is added to all elements of the `Series` object. This process is called *broadcasting*."
   ],
   "metadata": {
    "collapsed": false
   },
   "id": "bf1a6c7f448abdcf"
  },
  {
   "cell_type": "code",
   "outputs": [
    {
     "data": {
      "text/plain": "0    1002\n1     999\n2    1003\n3    1005\ndtype: int64"
     },
     "execution_count": 5,
     "metadata": {},
     "output_type": "execute_result"
    }
   ],
   "source": [
    "s + 1000"
   ],
   "metadata": {
    "collapsed": false,
    "ExecuteTime": {
     "end_time": "2025-03-23T09:11:05.378986Z",
     "start_time": "2025-03-23T09:11:05.365665Z"
    }
   },
   "id": "15144a560a89c9ec",
   "execution_count": 5
  },
  {
   "cell_type": "markdown",
   "source": [
    "The same also applies to all binary operations, such as `*` pr `/`, and even conditional statements."
   ],
   "metadata": {
    "collapsed": false
   },
   "id": "2ad85330c86432a6"
  },
  {
   "cell_type": "code",
   "outputs": [
    {
     "data": {
      "text/plain": "0     True\n1     True\n2    False\n3    False\ndtype: bool"
     },
     "execution_count": 6,
     "metadata": {},
     "output_type": "execute_result"
    }
   ],
   "source": [
    "s < 3"
   ],
   "metadata": {
    "collapsed": false,
    "ExecuteTime": {
     "end_time": "2025-03-23T09:11:05.399865Z",
     "start_time": "2025-03-23T09:11:05.383665Z"
    }
   },
   "id": "43e661a1b8ee8b4c",
   "execution_count": 6
  },
  {
   "cell_type": "markdown",
   "source": [
    "## Index labels\n",
    "\n",
    "Each `Series` element has a unique identifier called *index label*. By default, it simply specifies the rank of the element in the `Series` (starting with the value `0`), but it can also be manually specified."
   ],
   "metadata": {
    "collapsed": false
   },
   "id": "a3f2ad8a15c691ea"
  },
  {
   "cell_type": "code",
   "outputs": [
    {
     "data": {
      "text/plain": "a    1\nb    2\nc    3\nd    4\ne    5\ndtype: int64"
     },
     "execution_count": 7,
     "metadata": {},
     "output_type": "execute_result"
    }
   ],
   "source": [
    "s2 = pd.Series([1, 2, 3, 4, 5], index=['a', 'b', 'c', 'd', 'e'])\n",
    "s2"
   ],
   "metadata": {
    "collapsed": false,
    "ExecuteTime": {
     "end_time": "2025-03-23T09:11:05.426520Z",
     "start_time": "2025-03-23T09:11:05.405145Z"
    }
   },
   "id": "840df5f2efd4566c",
   "execution_count": 7
  },
  {
   "cell_type": "markdown",
   "source": [
    "`Series` object can also be used like a `dict`."
   ],
   "metadata": {
    "collapsed": false
   },
   "id": "2e50ec81fe39b9f7"
  },
  {
   "cell_type": "code",
   "outputs": [
    {
     "data": {
      "text/plain": "np.int64(2)"
     },
     "execution_count": 8,
     "metadata": {},
     "output_type": "execute_result"
    }
   ],
   "source": [
    "s2['b']"
   ],
   "metadata": {
    "collapsed": false,
    "ExecuteTime": {
     "end_time": "2025-03-23T09:11:05.442433Z",
     "start_time": "2025-03-23T09:11:05.430757Z"
    }
   },
   "id": "ff0380cae80e71f7",
   "execution_count": 8
  },
  {
   "cell_type": "code",
   "outputs": [
    {
     "name": "stderr",
     "output_type": "stream",
     "text": [
      "C:\\Users\\Adam\\AppData\\Local\\Temp\\ipykernel_14864\\691718004.py:1: FutureWarning: Series.__getitem__ treating keys as positions is deprecated. In a future version, integer keys will always be treated as labels (consistent with DataFrame behavior). To access a value by position, use `ser.iloc[pos]`\n",
      "  s2[1]\n"
     ]
    },
    {
     "data": {
      "text/plain": "np.int64(2)"
     },
     "execution_count": 9,
     "metadata": {},
     "output_type": "execute_result"
    }
   ],
   "source": [
    "s2[1]"
   ],
   "metadata": {
    "collapsed": false,
    "ExecuteTime": {
     "end_time": "2025-03-23T09:11:05.460610Z",
     "start_time": "2025-03-23T09:11:05.447115Z"
    }
   },
   "id": "8447ee4381267ada",
   "execution_count": 9
  },
  {
   "cell_type": "code",
   "outputs": [
    {
     "data": {
      "text/plain": "np.int64(2)"
     },
     "execution_count": 10,
     "metadata": {},
     "output_type": "execute_result"
    }
   ],
   "source": [
    "s2.iloc[1]  # iloc for index"
   ],
   "metadata": {
    "collapsed": false,
    "ExecuteTime": {
     "end_time": "2025-03-23T09:11:05.481534Z",
     "start_time": "2025-03-23T09:11:05.470609Z"
    }
   },
   "id": "4ec83c30a260fd15",
   "execution_count": 10
  },
  {
   "cell_type": "code",
   "outputs": [
    {
     "data": {
      "text/plain": "np.int64(2)"
     },
     "execution_count": 11,
     "metadata": {},
     "output_type": "execute_result"
    }
   ],
   "source": [
    "s2.loc['b']  # loc for label"
   ],
   "metadata": {
    "collapsed": false,
    "ExecuteTime": {
     "end_time": "2025-03-23T09:11:05.497813Z",
     "start_time": "2025-03-23T09:11:05.486169Z"
    }
   },
   "id": "34585e71cf025861",
   "execution_count": 11
  },
  {
   "cell_type": "markdown",
   "source": [
    "Splitting a `Series` object also splits the index labels."
   ],
   "metadata": {
    "collapsed": false
   },
   "id": "388a274a8b323bb4"
  },
  {
   "cell_type": "code",
   "outputs": [
    {
     "data": {
      "text/plain": "b    2\nc    3\ndtype: int64"
     },
     "execution_count": 12,
     "metadata": {},
     "output_type": "execute_result"
    }
   ],
   "source": [
    "s2.iloc[1:3]"
   ],
   "metadata": {
    "collapsed": false,
    "ExecuteTime": {
     "end_time": "2025-03-23T09:11:05.515126Z",
     "start_time": "2025-03-23T09:11:05.501500Z"
    }
   },
   "id": "bd88328dcce24d8a",
   "execution_count": 12
  },
  {
   "cell_type": "markdown",
   "source": [
    "This can lead to unexpected results when using the default numeric labels."
   ],
   "metadata": {
    "collapsed": false
   },
   "id": "61e762cbd03d729a"
  },
  {
   "cell_type": "code",
   "outputs": [
    {
     "data": {
      "text/plain": "0    1000\n1    1001\n2    1002\n3    1003\ndtype: int64"
     },
     "execution_count": 13,
     "metadata": {},
     "output_type": "execute_result"
    }
   ],
   "source": [
    "surprise = pd.Series([1000, 1001, 1002, 1003])\n",
    "surprise"
   ],
   "metadata": {
    "collapsed": false,
    "ExecuteTime": {
     "end_time": "2025-03-23T09:11:05.532925Z",
     "start_time": "2025-03-23T09:11:05.519389Z"
    }
   },
   "id": "2901babf1494189d",
   "execution_count": 13
  },
  {
   "cell_type": "code",
   "outputs": [
    {
     "data": {
      "text/plain": "2    1002\n3    1003\ndtype: int64"
     },
     "execution_count": 14,
     "metadata": {},
     "output_type": "execute_result"
    }
   ],
   "source": [
    "surprise_slice = surprise[2:]\n",
    "surprise_slice"
   ],
   "metadata": {
    "collapsed": false,
    "ExecuteTime": {
     "end_time": "2025-03-23T09:11:05.554431Z",
     "start_time": "2025-03-23T09:11:05.539187Z"
    }
   },
   "id": "ccae898cbd917ec8",
   "execution_count": 14
  },
  {
   "cell_type": "markdown",
   "source": [
    "The first element has an index label of `2`. We are missing an element with an index label of `0`."
   ],
   "metadata": {
    "collapsed": false
   },
   "id": "d04bfb6c9712d7cf"
  },
  {
   "cell_type": "code",
   "outputs": [
    {
     "name": "stdout",
     "output_type": "stream",
     "text": [
      "Key error: 0\n"
     ]
    }
   ],
   "source": [
    "try:\n",
    "    surprise_slice[0]\n",
    "except KeyError as e:\n",
    "    print(\"Key error:\", e)"
   ],
   "metadata": {
    "collapsed": false,
    "ExecuteTime": {
     "end_time": "2025-03-23T09:11:05.570555Z",
     "start_time": "2025-03-23T09:11:05.558663Z"
    }
   },
   "id": "7fada96140555a",
   "execution_count": 15
  },
  {
   "cell_type": "markdown",
   "source": [
    "Elements always can be accessed using the `iloc` attribute. This is another reason why it is always better to use the `loc` and `iloc` attributes to access `Series` objects."
   ],
   "metadata": {
    "collapsed": false
   },
   "id": "d6f59d445054d6d3"
  },
  {
   "cell_type": "code",
   "outputs": [
    {
     "data": {
      "text/plain": "np.int64(1002)"
     },
     "execution_count": 16,
     "metadata": {},
     "output_type": "execute_result"
    }
   ],
   "source": [
    "surprise_slice.iloc[0]"
   ],
   "metadata": {
    "collapsed": false,
    "ExecuteTime": {
     "end_time": "2025-03-23T09:11:05.589869Z",
     "start_time": "2025-03-23T09:11:05.576318Z"
    }
   },
   "id": "3a3d01fc7f63bde",
   "execution_count": 16
  },
  {
   "cell_type": "markdown",
   "source": [
    "## Initialization with `dict` object\n",
    "\n",
    "`Series` object can be created from `dict` object. Keys will be transformed into index labels."
   ],
   "metadata": {
    "collapsed": false
   },
   "id": "d68151f4ae3c0db6"
  },
  {
   "cell_type": "code",
   "outputs": [
    {
     "data": {
      "text/plain": "Alice    54\nBob      60\nCarol    78\ndtype: int64"
     },
     "execution_count": 17,
     "metadata": {},
     "output_type": "execute_result"
    }
   ],
   "source": [
    "weights = {'Alice': 54, 'Bob': 60, 'Carol': 78}\n",
    "s3 = pd.Series(weights)\n",
    "s3"
   ],
   "metadata": {
    "collapsed": false,
    "ExecuteTime": {
     "end_time": "2025-03-23T09:11:05.618593Z",
     "start_time": "2025-03-23T09:11:05.595711Z"
    }
   },
   "id": "7195b30bf4452a32",
   "execution_count": 17
  },
  {
   "cell_type": "markdown",
   "source": [
    "The appending of elements to the `Series` object can be controlled, as well as the order in which they appear, by explicitly defining the `index` parameter."
   ],
   "metadata": {
    "collapsed": false
   },
   "id": "f656ee8a417444b6"
  },
  {
   "cell_type": "code",
   "outputs": [
    {
     "data": {
      "text/plain": "Bob      60\nAlice    54\ndtype: int64"
     },
     "execution_count": 18,
     "metadata": {},
     "output_type": "execute_result"
    }
   ],
   "source": [
    "s4 = pd.Series(weights, index=['Bob', 'Alice'])\n",
    "s4"
   ],
   "metadata": {
    "collapsed": false,
    "ExecuteTime": {
     "end_time": "2025-03-23T09:11:05.642624Z",
     "start_time": "2025-03-23T09:11:05.623271Z"
    }
   },
   "id": "38115ab4d7652aab",
   "execution_count": 18
  },
  {
   "cell_type": "markdown",
   "source": [
    "## Automatic arrangement\n",
    "\n",
    "When multiple 'Series' objects are used in a given operation, the `pandas` module automatically arranges their elements by matching their index labels. "
   ],
   "metadata": {
    "collapsed": false
   },
   "id": "9a51b0d5b08a941e"
  },
  {
   "cell_type": "code",
   "outputs": [
    {
     "name": "stdout",
     "output_type": "stream",
     "text": [
      "Index(['a', 'b', 'c', 'd', 'e'], dtype='object')\n",
      "Index(['Alice', 'Bob', 'Carol'], dtype='object')\n"
     ]
    },
    {
     "data": {
      "text/plain": "Alice   NaN\nBob     NaN\nCarol   NaN\na       NaN\nb       NaN\nc       NaN\nd       NaN\ne       NaN\ndtype: float64"
     },
     "execution_count": 19,
     "metadata": {},
     "output_type": "execute_result"
    }
   ],
   "source": [
    "print(s2.keys())\n",
    "print(s3.keys())\n",
    "\n",
    "s2 + s3"
   ],
   "metadata": {
    "collapsed": false,
    "ExecuteTime": {
     "end_time": "2025-03-23T09:11:05.674320Z",
     "start_time": "2025-03-23T09:11:05.649642Z"
    }
   },
   "id": "1768832911cc9cbc",
   "execution_count": 19
  },
  {
   "cell_type": "code",
   "outputs": [
    {
     "name": "stdout",
     "output_type": "stream",
     "text": [
      "s2 = [1 2 3 4 5]\n",
      "s5 = [1000 1000 1000 1000]\n"
     ]
    },
    {
     "data": {
      "text/plain": "a   NaN\nb   NaN\nc   NaN\nd   NaN\ne   NaN\n0   NaN\n1   NaN\n2   NaN\n3   NaN\ndtype: float64"
     },
     "execution_count": 20,
     "metadata": {},
     "output_type": "execute_result"
    }
   ],
   "source": [
    "s5 = pd.Series([1000, 1000, 1000, 1000])\n",
    "print(\"s2 =\", s2.values)\n",
    "print(\"s5 =\", s5.values)\n",
    "\n",
    "s2 + s5"
   ],
   "metadata": {
    "collapsed": false,
    "ExecuteTime": {
     "end_time": "2025-03-23T09:11:05.718422Z",
     "start_time": "2025-03-23T09:11:05.681157Z"
    }
   },
   "id": "38c2ef2d7815724d",
   "execution_count": 20
  },
  {
   "cell_type": "markdown",
   "source": [
    "The pandas module was unable to bind the `Series` objects because their labels do not match at all, hence the result filled with `NaN` values."
   ],
   "metadata": {
    "collapsed": false
   },
   "id": "c9e01d9827ac316"
  },
  {
   "cell_type": "markdown",
   "source": [
    "## Initialization with a scalar value\n",
    "\n",
    "`Series` object can also be initialized with a scalar value and a list of index labels: all elements will be assigned this scalar."
   ],
   "metadata": {
    "collapsed": false
   },
   "id": "8c3e52c017a94d4d"
  },
  {
   "cell_type": "code",
   "outputs": [
    {
     "data": {
      "text/plain": "life          42\nuniverse      42\neverything    42\ndtype: int64"
     },
     "execution_count": 21,
     "metadata": {},
     "output_type": "execute_result"
    }
   ],
   "source": [
    "meaning = pd.Series(42, ['life', 'universe', 'everything'])\n",
    "meaning"
   ],
   "metadata": {
    "collapsed": false,
    "ExecuteTime": {
     "end_time": "2025-03-23T09:11:05.745001Z",
     "start_time": "2025-03-23T09:11:05.723215Z"
    }
   },
   "id": "41141938436fbb3",
   "execution_count": 21
  },
  {
   "cell_type": "markdown",
   "source": [
    "## Name of the `Series` object"
   ],
   "metadata": {
    "collapsed": false
   },
   "id": "e624877863f67b9e"
  },
  {
   "cell_type": "code",
   "outputs": [
    {
     "data": {
      "text/plain": "bob      83\nalice    68\nName: weights, dtype: int64"
     },
     "execution_count": 22,
     "metadata": {},
     "output_type": "execute_result"
    }
   ],
   "source": [
    "s6 = pd.Series([83, 68], index=['bob', 'alice'], name='weights')\n",
    "s6"
   ],
   "metadata": {
    "collapsed": false,
    "ExecuteTime": {
     "end_time": "2025-03-23T09:11:05.788947Z",
     "start_time": "2025-03-23T09:11:05.757039Z"
    }
   },
   "id": "3a650ee9909b50bb",
   "execution_count": 22
  },
  {
   "cell_type": "markdown",
   "source": [
    "## Plot a `Series` object\n",
    "\n",
    "The Pandas module allows to plot a `Series` data using the matplotlib library."
   ],
   "metadata": {
    "collapsed": false
   },
   "id": "bda8d06323572900"
  },
  {
   "cell_type": "code",
   "outputs": [
    {
     "data": {
      "text/plain": "<Figure size 640x480 with 1 Axes>",
      "image/png": "[encoded data removed]"
     },
     "metadata": {},
     "output_type": "display_data"
    }
   ],
   "source": [
    "import matplotlib.pyplot as plt\n",
    "\n",
    "temperatures = [4.4, 5.1, 6.1, 6.2, 6.1, 6.1, 5.7, 5.2, 4.7, 4.1, 3.9, 3.5]\n",
    "s7 = pd.Series(temperatures, name='temperature')\n",
    "\n",
    "s7.plot()\n",
    "plt.show()"
   ],
   "metadata": {
    "collapsed": false,
    "ExecuteTime": {
     "end_time": "2025-03-23T09:11:09.953046Z",
     "start_time": "2025-03-23T09:11:05.806173Z"
    }
   },
   "id": "9df62915b515751b",
   "execution_count": 23
  },
  {
   "cell_type": "markdown",
   "source": [
    "# Handling time data\n",
    "\n",
    "Many data sets contain timestamps, and the pandas module does a great job of handling them:\n",
    "* can represent periods (such as quarters) and frequencies (such as \"monthly\"),\n",
    "* can convert periods to actual timestamps and back,\n",
    "* can resample data and aggregate values in any way,\n",
    "* supports time zone functionality."
   ],
   "metadata": {
    "collapsed": false
   },
   "id": "d641ad2f4bb14e7e"
  },
  {
   "cell_type": "markdown",
   "source": [
    "## Time ranges\n",
    "\n",
    "The following `pd.date_range()` function returns a `DatetimeIndex` object containing one DateTime value every hour for 12 hours, starting at 17:30 on January 20, 2020."
   ],
   "metadata": {
    "collapsed": false
   },
   "id": "480b98988f89f5af"
  },
  {
   "cell_type": "code",
   "outputs": [
    {
     "data": {
      "text/plain": "DatetimeIndex(['2020-01-20 17:30:00', '2020-01-20 18:30:00',\n               '2020-01-20 19:30:00', '2020-01-20 20:30:00',\n               '2020-01-20 21:30:00', '2020-01-20 22:30:00',\n               '2020-01-20 23:30:00', '2020-01-21 00:30:00',\n               '2020-01-21 01:30:00', '2020-01-21 02:30:00',\n               '2020-01-21 03:30:00', '2020-01-21 04:30:00'],\n              dtype='datetime64[ns]', freq='h')"
     },
     "execution_count": 24,
     "metadata": {},
     "output_type": "execute_result"
    }
   ],
   "source": [
    "dates = pd.date_range('2020/01/20 5:30pm', periods=12, freq='h')\n",
    "dates"
   ],
   "metadata": {
    "collapsed": false,
    "ExecuteTime": {
     "end_time": "2025-03-23T09:11:09.980874Z",
     "start_time": "2025-03-23T09:11:09.959355Z"
    }
   },
   "id": "d78d493efe89ce95",
   "execution_count": 24
  },
  {
   "cell_type": "markdown",
   "source": [
    "This `DatetimeIndex` object can be used as index in a `Series` object."
   ],
   "metadata": {
    "collapsed": false
   },
   "id": "ef856f0212b05bb7"
  },
  {
   "cell_type": "code",
   "outputs": [
    {
     "data": {
      "text/plain": "2020-01-20 17:30:00    4.4\n2020-01-20 18:30:00    5.1\n2020-01-20 19:30:00    6.1\n2020-01-20 20:30:00    6.2\n2020-01-20 21:30:00    6.1\n2020-01-20 22:30:00    6.1\n2020-01-20 23:30:00    5.7\n2020-01-21 00:30:00    5.2\n2020-01-21 01:30:00    4.7\n2020-01-21 02:30:00    4.1\n2020-01-21 03:30:00    3.9\n2020-01-21 04:30:00    3.5\nFreq: h, dtype: float64"
     },
     "execution_count": 25,
     "metadata": {},
     "output_type": "execute_result"
    }
   ],
   "source": [
    "temp_series = pd.Series(temperatures, dates)\n",
    "temp_series"
   ],
   "metadata": {
    "collapsed": false,
    "ExecuteTime": {
     "end_time": "2025-03-23T09:11:10.001510Z",
     "start_time": "2025-03-23T09:11:09.985715Z"
    }
   },
   "id": "5abd92c57c4aa6fc",
   "execution_count": 25
  },
  {
   "cell_type": "code",
   "outputs": [
    {
     "data": {
      "text/plain": "<Figure size 640x480 with 1 Axes>",
      "image/png": "[encoded data removed]"
     },
     "metadata": {},
     "output_type": "display_data"
    }
   ],
   "source": [
    "temp_series.plot(kind='bar')\n",
    "\n",
    "plt.grid(True)\n",
    "plt.show()"
   ],
   "metadata": {
    "collapsed": false,
    "ExecuteTime": {
     "end_time": "2025-03-23T09:11:10.668352Z",
     "start_time": "2025-03-23T09:11:10.347767Z"
    }
   },
   "id": "84e8b93d7578ab58",
   "execution_count": 26
  },
  {
   "cell_type": "markdown",
   "source": [
    "## Resampling\n",
    "\n",
    "Pandas module allows to resample a time series in easy way."
   ],
   "metadata": {
    "collapsed": false
   },
   "id": "edcd0de5ea5c8b75"
  },
  {
   "cell_type": "code",
   "outputs": [
    {
     "data": {
      "text/plain": "<pandas.core.resample.DatetimeIndexResampler object at 0x000001FD410EB590>"
     },
     "execution_count": 27,
     "metadata": {},
     "output_type": "execute_result"
    }
   ],
   "source": [
    "temp_series_freq_2h = temp_series.resample('2h')\n",
    "temp_series_freq_2h"
   ],
   "metadata": {
    "collapsed": false,
    "ExecuteTime": {
     "end_time": "2025-03-23T09:11:10.692200Z",
     "start_time": "2025-03-23T09:11:10.671962Z"
    }
   },
   "id": "5b609f602b181a6e",
   "execution_count": 27
  },
  {
   "cell_type": "markdown",
   "source": [
    "The resampling operation is actually delayed, which is why a `Series` object is not returned, but a `DatetimeIndexResampler`. To perform the actual resampling operation, there is need to call the `mean()` method: the Pandas module will calculate the average of each pair of consecutive hours."
   ],
   "metadata": {
    "collapsed": false
   },
   "id": "d145499a9ed1feb3"
  },
  {
   "cell_type": "code",
   "outputs": [],
   "source": [
    "temp_series_freq_2h = temp_series_freq_2h.mean()"
   ],
   "metadata": {
    "collapsed": false,
    "ExecuteTime": {
     "end_time": "2025-03-23T09:11:11.272378Z",
     "start_time": "2025-03-23T09:11:11.227705Z"
    }
   },
   "id": "b0619103cc9595f8",
   "execution_count": 28
  },
  {
   "cell_type": "code",
   "outputs": [
    {
     "data": {
      "text/plain": "<Figure size 640x480 with 1 Axes>",
      "image/png": "[encoded data removed]"
     },
     "metadata": {},
     "output_type": "display_data"
    }
   ],
   "source": [
    "temp_series_freq_2h.plot(kind='bar')\n",
    "plt.show()"
   ],
   "metadata": {
    "collapsed": false,
    "ExecuteTime": {
     "end_time": "2025-03-23T09:11:11.749949Z",
     "start_time": "2025-03-23T09:11:11.336680Z"
    }
   },
   "id": "b783fc16c41bbbb1",
   "execution_count": 29
  },
  {
   "cell_type": "markdown",
   "source": [
    "The values have been automatically aggregated into two-hour periods. For example, at 6:30 p.m. the value was `5.1`, and at 7:30 p.m. it was `6.1`. After resampling, one value is obtained - `5.6`, which is the average of `5.1` and `6.1`. Instead of calculating the average, there is possibility to use any other aggregate function; for example, to leave the minimum value from each period."
   ],
   "metadata": {
    "collapsed": false
   },
   "id": "b8cb6c2d5edd4728"
  },
  {
   "cell_type": "code",
   "outputs": [
    {
     "data": {
      "text/plain": "2020-01-20 16:00:00    4.4\n2020-01-20 18:00:00    5.1\n2020-01-20 20:00:00    6.1\n2020-01-20 22:00:00    5.7\n2020-01-21 00:00:00    4.7\n2020-01-21 02:00:00    3.9\n2020-01-21 04:00:00    3.5\nFreq: 2h, dtype: float64"
     },
     "execution_count": 30,
     "metadata": {},
     "output_type": "execute_result"
    }
   ],
   "source": [
    "temp_series_freq_2H = temp_series.resample('2h').min()\n",
    "temp_series_freq_2H"
   ],
   "metadata": {
    "collapsed": false,
    "ExecuteTime": {
     "end_time": "2025-03-23T09:11:11.964386Z",
     "start_time": "2025-03-23T09:11:11.940087Z"
    }
   },
   "id": "85c9b323f7e01068",
   "execution_count": 30
  },
  {
   "cell_type": "markdown",
   "source": [
    "The same thing can be achieved using the `apply()` method."
   ],
   "metadata": {
    "collapsed": false
   },
   "id": "fd6c199b6ffffe15"
  },
  {
   "cell_type": "code",
   "outputs": [
    {
     "data": {
      "text/plain": "2020-01-20 16:00:00    4.4\n2020-01-20 18:00:00    5.1\n2020-01-20 20:00:00    6.1\n2020-01-20 22:00:00    5.7\n2020-01-21 00:00:00    4.7\n2020-01-21 02:00:00    3.9\n2020-01-21 04:00:00    3.5\nFreq: 2h, dtype: float64"
     },
     "execution_count": 31,
     "metadata": {},
     "output_type": "execute_result"
    }
   ],
   "source": [
    "temp_series_freq_2h = temp_series.resample('2h').apply('min')\n",
    "temp_series_freq_2h"
   ],
   "metadata": {
    "collapsed": false,
    "ExecuteTime": {
     "end_time": "2025-03-23T09:11:12.411221Z",
     "start_time": "2025-03-23T09:11:12.386374Z"
    }
   },
   "id": "feec2b09ab6810eb",
   "execution_count": 31
  },
  {
   "cell_type": "markdown",
   "source": [
    "## Increasing the sample rate and interpolation\n",
    "\n",
    "This was an example of decreasing the sample rate. We can also increase the sample rate, but then appears \"holes\" in the data."
   ],
   "metadata": {
    "collapsed": false
   },
   "id": "7a9105b0ff32d794"
  },
  {
   "cell_type": "code",
   "outputs": [
    {
     "data": {
      "text/plain": "2020-01-20 17:30:00    4.400000\n2020-01-20 17:45:00    4.452911\n2020-01-20 18:00:00    4.605113\n2020-01-20 18:15:00    4.829758\n2020-01-20 18:30:00    5.100000\n2020-01-20 18:45:00    5.388992\n2020-01-20 19:00:00    5.669887\n2020-01-20 19:15:00    5.915839\n2020-01-20 19:30:00    6.100000\n2020-01-20 19:45:00    6.203621\n2020-01-20 20:00:00    6.240339\n2020-01-20 20:15:00    6.231887\n2020-01-20 20:30:00    6.200000\n2020-01-20 20:45:00    6.163711\n2020-01-20 21:00:00    6.131257\nFreq: 15min, dtype: float64"
     },
     "execution_count": 32,
     "metadata": {},
     "output_type": "execute_result"
    }
   ],
   "source": [
    "temp_series_freq_15min = temp_series.resample('15min').interpolate(method='cubic')\n",
    "temp_series_freq_15min.head(15)"
   ],
   "metadata": {
    "collapsed": false,
    "ExecuteTime": {
     "end_time": "2025-03-23T09:11:20.843516Z",
     "start_time": "2025-03-23T09:11:12.765856Z"
    }
   },
   "id": "88f0a70922ba6a66",
   "execution_count": 32
  },
  {
   "cell_type": "code",
   "outputs": [
    {
     "data": {
      "text/plain": "<Figure size 640x480 with 1 Axes>",
      "image/png": "[encoded data removed]"
     },
     "metadata": {},
     "output_type": "display_data"
    }
   ],
   "source": [
    "temp_series.plot(label='Period: 1 hour')\n",
    "temp_series_freq_15min.plot(label='Period: 15 minutes')\n",
    "plt.legend()\n",
    "plt.show()"
   ],
   "metadata": {
    "collapsed": false,
    "ExecuteTime": {
     "end_time": "2025-03-23T09:11:21.246077Z",
     "start_time": "2025-03-23T09:11:20.847086Z"
    }
   },
   "id": "7f0371f6e50eb452",
   "execution_count": 33
  },
  {
   "cell_type": "markdown",
   "source": [
    "## Time zones\n",
    "\n",
    "Time zones are *naive* by default: the pandas module doesn't know what the time zone is, so the date 2016-10-30 02:30 could mean 2:30 on October 30, 2016, in both Paris and New York. Time zone *awareness* can be enabled using the `tz_localize()` method."
   ],
   "metadata": {
    "collapsed": false
   },
   "id": "30a894fa5c43c030"
  },
  {
   "cell_type": "code",
   "outputs": [],
   "source": [
    "dates = pd.date_range('2016/10/29 5:30pm', periods=12, freq='h')\n",
    "temp_series = pd.Series(temperatures, dates)"
   ],
   "metadata": {
    "collapsed": false,
    "ExecuteTime": {
     "end_time": "2025-03-23T09:11:21.263977Z",
     "start_time": "2025-03-23T09:11:21.252279Z"
    }
   },
   "id": "2f200c824527da30",
   "execution_count": 34
  },
  {
   "cell_type": "code",
   "outputs": [
    {
     "data": {
      "text/plain": "2016-10-29 17:30:00-04:00    4.4\n2016-10-29 18:30:00-04:00    5.1\n2016-10-29 19:30:00-04:00    6.1\n2016-10-29 20:30:00-04:00    6.2\n2016-10-29 21:30:00-04:00    6.1\n2016-10-29 22:30:00-04:00    6.1\n2016-10-29 23:30:00-04:00    5.7\n2016-10-30 00:30:00-04:00    5.2\n2016-10-30 01:30:00-04:00    4.7\n2016-10-30 02:30:00-04:00    4.1\n2016-10-30 03:30:00-04:00    3.9\n2016-10-30 04:30:00-04:00    3.5\ndtype: float64"
     },
     "execution_count": 35,
     "metadata": {},
     "output_type": "execute_result"
    }
   ],
   "source": [
    "temp_series_ny = temp_series.tz_localize('America/New_York')\n",
    "temp_series_ny"
   ],
   "metadata": {
    "collapsed": false,
    "ExecuteTime": {
     "end_time": "2025-03-23T09:11:26.045807Z",
     "start_time": "2025-03-23T09:11:21.270867Z"
    }
   },
   "id": "715c805e3041004f",
   "execution_count": 35
  },
  {
   "cell_type": "markdown",
   "source": [
    "There is a `-04:00` part for all time elements. This means that they refer to UTC - 4 hours."
   ],
   "metadata": {
    "collapsed": false
   },
   "id": "ec18bd5ff7b27fbb"
  },
  {
   "cell_type": "code",
   "outputs": [
    {
     "data": {
      "text/plain": "2016-10-29 23:30:00+02:00    4.4\n2016-10-30 00:30:00+02:00    5.1\n2016-10-30 01:30:00+02:00    6.1\n2016-10-30 02:30:00+02:00    6.2\n2016-10-30 02:30:00+01:00    6.1\n2016-10-30 03:30:00+01:00    6.1\n2016-10-30 04:30:00+01:00    5.7\n2016-10-30 05:30:00+01:00    5.2\n2016-10-30 06:30:00+01:00    4.7\n2016-10-30 07:30:00+01:00    4.1\n2016-10-30 08:30:00+01:00    3.9\n2016-10-30 09:30:00+01:00    3.5\ndtype: float64"
     },
     "execution_count": 36,
     "metadata": {},
     "output_type": "execute_result"
    }
   ],
   "source": [
    "temp_series_paris = temp_series_ny.tz_convert('Europe/Paris')\n",
    "temp_series_paris"
   ],
   "metadata": {
    "collapsed": false,
    "ExecuteTime": {
     "end_time": "2025-03-23T09:11:26.073041Z",
     "start_time": "2025-03-23T09:11:26.051092Z"
    }
   },
   "id": "fc7b07614b2c0698",
   "execution_count": 36
  },
  {
   "cell_type": "markdown",
   "source": [
    "The time offset has been changed from `+02:00` to `+01:00`: this is because France switches to winter time that day at 3 am (time is set back to 2 am). Time 2:30 appears twice."
   ],
   "metadata": {
    "collapsed": false
   },
   "id": "14aebfb62294abf7"
  },
  {
   "cell_type": "code",
   "outputs": [
    {
     "data": {
      "text/plain": "2016-10-29 23:30:00    4.4\n2016-10-30 00:30:00    5.1\n2016-10-30 01:30:00    6.1\n2016-10-30 02:30:00    6.2\n2016-10-30 02:30:00    6.1\n2016-10-30 03:30:00    6.1\n2016-10-30 04:30:00    5.7\n2016-10-30 05:30:00    5.2\n2016-10-30 06:30:00    4.7\n2016-10-30 07:30:00    4.1\n2016-10-30 08:30:00    3.9\n2016-10-30 09:30:00    3.5\ndtype: float64"
     },
     "execution_count": 37,
     "metadata": {},
     "output_type": "execute_result"
    }
   ],
   "source": [
    "temp_series_paris_naive = temp_series_paris.tz_localize(None)\n",
    "temp_series_paris_naive"
   ],
   "metadata": {
    "collapsed": false,
    "ExecuteTime": {
     "end_time": "2025-03-23T09:11:26.098058Z",
     "start_time": "2025-03-23T09:11:26.079894Z"
    }
   },
   "id": "b739a542671e0158",
   "execution_count": 37
  },
  {
   "cell_type": "markdown",
   "source": [
    "Now the time `02:30` is really confusing."
   ],
   "metadata": {
    "collapsed": false
   },
   "id": "3af97fd66e268065"
  },
  {
   "cell_type": "code",
   "outputs": [
    {
     "name": "stdout",
     "output_type": "stream",
     "text": [
      "<class 'pytz.exceptions.AmbiguousTimeError'>\n",
      "Cannot infer dst time from 2016-10-30 02:30:00, try using the 'ambiguous' argument\n"
     ]
    }
   ],
   "source": [
    "try:\n",
    "    temp_series_paris_naive.tz_localize('Europe/Paris')\n",
    "except Exception as e:\n",
    "    print(type(e))\n",
    "    print(e)"
   ],
   "metadata": {
    "collapsed": false,
    "ExecuteTime": {
     "end_time": "2025-03-23T09:11:26.119332Z",
     "start_time": "2025-03-23T09:11:26.104293Z"
    }
   },
   "id": "7d750e655c44def0",
   "execution_count": 38
  },
  {
   "cell_type": "markdown",
   "source": [
    "With the `ambiguous` argument, the pandas module infer the correct daylight saving time based on the order of these ambiguous timestamps:"
   ],
   "metadata": {
    "collapsed": false
   },
   "id": "c2c70a336bee5416"
  },
  {
   "cell_type": "code",
   "outputs": [
    {
     "data": {
      "text/plain": "2016-10-29 23:30:00+02:00    4.4\n2016-10-30 00:30:00+02:00    5.1\n2016-10-30 01:30:00+02:00    6.1\n2016-10-30 02:30:00+02:00    6.2\n2016-10-30 02:30:00+01:00    6.1\n2016-10-30 03:30:00+01:00    6.1\n2016-10-30 04:30:00+01:00    5.7\n2016-10-30 05:30:00+01:00    5.2\n2016-10-30 06:30:00+01:00    4.7\n2016-10-30 07:30:00+01:00    4.1\n2016-10-30 08:30:00+01:00    3.9\n2016-10-30 09:30:00+01:00    3.5\ndtype: float64"
     },
     "execution_count": 39,
     "metadata": {},
     "output_type": "execute_result"
    }
   ],
   "source": [
    "temp_series_paris_naive.tz_localize('Europe/Paris', ambiguous='infer')"
   ],
   "metadata": {
    "collapsed": false,
    "ExecuteTime": {
     "end_time": "2025-03-23T09:11:26.147257Z",
     "start_time": "2025-03-23T09:11:26.126329Z"
    }
   },
   "id": "a92d610b7d7214a9",
   "execution_count": 39
  },
  {
   "cell_type": "markdown",
   "source": [
    "## Periods\n",
    "The `pd.period_range()` function returns a `PeriodIndex` object instead of a `DatetimeIndex` object. For example, all quarters in the years 2016 and 2017:"
   ],
   "metadata": {
    "collapsed": false
   },
   "id": "da4bcb859c53a38a"
  },
  {
   "cell_type": "code",
   "outputs": [
    {
     "data": {
      "text/plain": "PeriodIndex(['2016Q1', '2016Q2', '2016Q3', '2016Q4', '2017Q1', '2017Q2',\n             '2017Q3', '2017Q4'],\n            dtype='period[Q-DEC]')"
     },
     "execution_count": 40,
     "metadata": {},
     "output_type": "execute_result"
    }
   ],
   "source": [
    "quarters = pd.period_range('2016Q1', periods=8, freq='Q')\n",
    "quarters"
   ],
   "metadata": {
    "collapsed": false,
    "ExecuteTime": {
     "end_time": "2025-03-23T09:11:26.166613Z",
     "start_time": "2025-03-23T09:11:26.150407Z"
    }
   },
   "id": "144f1def6efd1cc9",
   "execution_count": 40
  },
  {
   "cell_type": "markdown",
   "source": [
    "Adding the number `N` to the `PeriodIndex` object shifts the periods by `N` times the frequency of the `PeriodIndex` object."
   ],
   "metadata": {
    "collapsed": false
   },
   "id": "92c1a97aafd9fa58"
  },
  {
   "cell_type": "code",
   "outputs": [
    {
     "data": {
      "text/plain": "PeriodIndex(['2016Q4', '2017Q1', '2017Q2', '2017Q3', '2017Q4', '2018Q1',\n             '2018Q2', '2018Q3'],\n            dtype='period[Q-DEC]')"
     },
     "execution_count": 41,
     "metadata": {},
     "output_type": "execute_result"
    }
   ],
   "source": [
    "quarters + 3"
   ],
   "metadata": {
    "collapsed": false,
    "ExecuteTime": {
     "end_time": "2025-03-23T09:11:26.183469Z",
     "start_time": "2025-03-23T09:11:26.172456Z"
    }
   },
   "id": "ed4d2995eb2fee53",
   "execution_count": 41
  },
  {
   "cell_type": "markdown",
   "source": [
    "The `asfreq()` method allows to change the frequency of a `PeriodIndex` object. All periods are extended or shortened accordingly."
   ],
   "metadata": {
    "collapsed": false
   },
   "id": "88ddd2cc3af1dfc1"
  },
  {
   "cell_type": "code",
   "outputs": [
    {
     "data": {
      "text/plain": "PeriodIndex(['2016-03', '2016-06', '2016-09', '2016-12', '2017-03', '2017-06',\n             '2017-09', '2017-12'],\n            dtype='period[M]')"
     },
     "execution_count": 42,
     "metadata": {},
     "output_type": "execute_result"
    }
   ],
   "source": [
    "quarters.asfreq('M')"
   ],
   "metadata": {
    "collapsed": false,
    "ExecuteTime": {
     "end_time": "2025-03-23T09:11:26.197972Z",
     "start_time": "2025-03-23T09:11:26.187315Z"
    }
   },
   "id": "8006487aefd27e70",
   "execution_count": 42
  },
  {
   "cell_type": "markdown",
   "source": [
    "By default, the `asfreq` method focuses on the end of each period. This behavior can be changed, so it will focus on the beginning of each period."
   ],
   "metadata": {
    "collapsed": false
   },
   "id": "9f52eab834ac0541"
  },
  {
   "cell_type": "code",
   "outputs": [
    {
     "data": {
      "text/plain": "PeriodIndex(['2016-01', '2016-04', '2016-07', '2016-10', '2017-01', '2017-04',\n             '2017-07', '2017-10'],\n            dtype='period[M]')"
     },
     "execution_count": 43,
     "metadata": {},
     "output_type": "execute_result"
    }
   ],
   "source": [
    "quarters.asfreq('M', how='start')"
   ],
   "metadata": {
    "collapsed": false,
    "ExecuteTime": {
     "end_time": "2025-03-23T09:11:26.211393Z",
     "start_time": "2025-03-23T09:11:26.200617Z"
    }
   },
   "id": "7f80c2bc67dc7fe1",
   "execution_count": 43
  },
  {
   "cell_type": "markdown",
   "source": [
    "The zoom out."
   ],
   "metadata": {
    "collapsed": false
   },
   "id": "8f5a176cc73260d5"
  },
  {
   "cell_type": "code",
   "outputs": [
    {
     "data": {
      "text/plain": "PeriodIndex(['2016', '2016', '2016', '2016', '2017', '2017', '2017', '2017'], dtype='period[Y-DEC]')"
     },
     "execution_count": 44,
     "metadata": {},
     "output_type": "execute_result"
    }
   ],
   "source": [
    "quarters.asfreq(\"Y\")"
   ],
   "metadata": {
    "collapsed": false,
    "ExecuteTime": {
     "end_time": "2025-03-23T09:11:26.227580Z",
     "start_time": "2025-03-23T09:11:26.215069Z"
    }
   },
   "id": "2add172f79337ba1",
   "execution_count": 44
  },
  {
   "cell_type": "markdown",
   "source": [
    "`Series` object containing `PeriodIndex` can be created."
   ],
   "metadata": {
    "collapsed": false
   },
   "id": "79b025de9d5d771d"
  },
  {
   "cell_type": "code",
   "outputs": [
    {
     "data": {
      "text/plain": "2016Q1    300\n2016Q2    320\n2016Q3    290\n2016Q4    390\n2017Q1    320\n2017Q2    360\n2017Q3    310\n2017Q4    410\nFreq: Q-DEC, dtype: int64"
     },
     "execution_count": 45,
     "metadata": {},
     "output_type": "execute_result"
    }
   ],
   "source": [
    "quarterly_revenue = pd.Series([300, 320, 290, 390, 320, 360, 310, 410], index=quarters)\n",
    "quarterly_revenue"
   ],
   "metadata": {
    "collapsed": false,
    "ExecuteTime": {
     "end_time": "2025-03-23T09:11:26.243944Z",
     "start_time": "2025-03-23T09:11:26.231149Z"
    }
   },
   "id": "947b16b8b39b2243",
   "execution_count": 45
  },
  {
   "cell_type": "code",
   "outputs": [
    {
     "data": {
      "text/plain": "<Figure size 640x480 with 1 Axes>",
      "image/png": "[encoded data removed]"
     },
     "metadata": {},
     "output_type": "display_data"
    }
   ],
   "source": [
    "quarterly_revenue.plot(kind='line')\n",
    "plt.show()"
   ],
   "metadata": {
    "collapsed": false,
    "ExecuteTime": {
     "end_time": "2025-03-23T09:11:26.491015Z",
     "start_time": "2025-03-23T09:11:26.248255Z"
    }
   },
   "id": "b9a7493335fcebd0",
   "execution_count": 46
  },
  {
   "cell_type": "markdown",
   "source": [
    "Periods can be converted to timestamps by calling the `to_timestamp` method. By default, this will give the first day of each period, but using the `how` and `freq` attributes, this can be changed to get the last hour of each period."
   ],
   "metadata": {
    "collapsed": false
   },
   "id": "5b9c3226c419dbf4"
  },
  {
   "cell_type": "code",
   "outputs": [
    {
     "data": {
      "text/plain": "2016-03-31 23:59:59.999999999    300\n2016-06-30 23:59:59.999999999    320\n2016-09-30 23:59:59.999999999    290\n2016-12-31 23:59:59.999999999    390\n2017-03-31 23:59:59.999999999    320\n2017-06-30 23:59:59.999999999    360\n2017-09-30 23:59:59.999999999    310\n2017-12-31 23:59:59.999999999    410\ndtype: int64"
     },
     "execution_count": 47,
     "metadata": {},
     "output_type": "execute_result"
    }
   ],
   "source": [
    "last_hours = quarterly_revenue.to_timestamp(how='end', freq='h')\n",
    "last_hours"
   ],
   "metadata": {
    "collapsed": false,
    "ExecuteTime": {
     "end_time": "2025-03-23T09:11:26.512392Z",
     "start_time": "2025-03-23T09:11:26.494651Z"
    }
   },
   "id": "a6d2dcf41daeeb32",
   "execution_count": 47
  },
  {
   "cell_type": "code",
   "outputs": [
    {
     "data": {
      "text/plain": "2016Q1    300\n2016Q2    320\n2016Q3    290\n2016Q4    390\n2017Q1    320\n2017Q2    360\n2017Q3    310\n2017Q4    410\nFreq: Q-DEC, dtype: int64"
     },
     "execution_count": 48,
     "metadata": {},
     "output_type": "execute_result"
    }
   ],
   "source": [
    "last_hours.to_period()"
   ],
   "metadata": {
    "collapsed": false,
    "ExecuteTime": {
     "end_time": "2025-03-23T09:11:26.528231Z",
     "start_time": "2025-03-23T09:11:26.515519Z"
    }
   },
   "id": "d7c0ad675da7ce81",
   "execution_count": 48
  },
  {
   "cell_type": "markdown",
   "source": [
    "Displaying the last working day in each month of 2016 (for 9 a.m.)."
   ],
   "metadata": {
    "collapsed": false
   },
   "id": "c8ff84a857a3f62"
  },
  {
   "cell_type": "code",
   "outputs": [
    {
     "data": {
      "text/plain": "PeriodIndex(['2016-01-29 09:00', '2016-02-29 09:00', '2016-03-31 09:00',\n             '2016-04-29 09:00', '2016-05-31 09:00', '2016-06-30 09:00',\n             '2016-07-29 09:00', '2016-08-31 09:00', '2016-09-30 09:00',\n             '2016-10-31 09:00', '2016-11-30 09:00', '2016-12-30 09:00'],\n            dtype='period[h]')"
     },
     "execution_count": 49,
     "metadata": {},
     "output_type": "execute_result"
    }
   ],
   "source": [
    "months_2016 = pd.period_range('2016',  periods=12, freq='M')\n",
    "one_day_after_last_days = months_2016.asfreq('D') + 1\n",
    "last_bdays = one_day_after_last_days.to_timestamp() - pd.tseries.offsets.BDay()\n",
    "last_bdays.to_period('h') + 9"
   ],
   "metadata": {
    "collapsed": false,
    "ExecuteTime": {
     "end_time": "2025-03-23T09:11:26.547150Z",
     "start_time": "2025-03-23T09:11:26.531351Z"
    }
   },
   "id": "e3fb61698a5f3fcc",
   "execution_count": 49
  },
  {
   "cell_type": "markdown",
   "source": [
    "## `DataFrame` objects\n",
    "A DataFrame object represents a spreadsheet containing cell values, column names, and row index labels. Expressions that calculate column values from other columns, create shift tables, group rows, draw charts, etc. can be defined . `DataFrame` objects can be considered as dictionaries of `Series` objects."
   ],
   "metadata": {
    "collapsed": false
   },
   "id": "843925a14b2a63ee"
  },
  {
   "cell_type": "markdown",
   "source": [
    "DataFrame object can be created by passing a dictionary of `Series` objects."
   ],
   "metadata": {
    "collapsed": false
   },
   "id": "a4aa3a3dca029a90"
  },
  {
   "cell_type": "code",
   "outputs": [
    {
     "data": {
      "text/plain": "       weight  date of birth  kids interests\nalice      68           1985   NaN     Bikes\nbob        83           1984   3.0   Dancing\ncarol     112           1992   0.0       NaN",
      "text/html": "<div>\n<style scoped>\n    .dataframe tbody tr th:only-of-type {\n        vertical-align: middle;\n    }\n\n    .dataframe tbody tr th {\n        vertical-align: top;\n    }\n\n    .dataframe thead th {\n        text-align: right;\n    }\n</style>\n<table border=\"1\" class=\"dataframe\">\n  <thead>\n    <tr style=\"text-align: right;\">\n      <th></th>\n      <th>weight</th>\n      <th>date of birth</th>\n      <th>kids</th>\n      <th>interests</th>\n    </tr>\n  </thead>\n  <tbody>\n    <tr>\n      <th>alice</th>\n      <td>68</td>\n      <td>1985</td>\n      <td>NaN</td>\n      <td>Bikes</td>\n    </tr>\n    <tr>\n      <th>bob</th>\n      <td>83</td>\n      <td>1984</td>\n      <td>3.0</td>\n      <td>Dancing</td>\n    </tr>\n    <tr>\n      <th>carol</th>\n      <td>112</td>\n      <td>1992</td>\n      <td>0.0</td>\n      <td>NaN</td>\n    </tr>\n  </tbody>\n</table>\n</div>"
     },
     "execution_count": 50,
     "metadata": {},
     "output_type": "execute_result"
    }
   ],
   "source": [
    "people_dict = {\n",
    "    'weight': pd.Series([68, 83, 112], index=['alice', 'bob', 'carol']),\n",
    "    'date of birth': pd.Series([1984, 1985, 1992], index=['bob', 'alice', 'carol'], name='year'),\n",
    "    'kids': pd.Series([0, 3], index=['carol', 'bob']),\n",
    "    'interests': pd.Series(['Bikes', 'Dancing'], index=['alice', 'bob']),\n",
    "}\n",
    "\n",
    "people = pd.DataFrame(people_dict)\n",
    "people"
   ],
   "metadata": {
    "collapsed": false,
    "ExecuteTime": {
     "end_time": "2025-03-23T09:36:06.429093Z",
     "start_time": "2025-03-23T09:36:06.408878Z"
    }
   },
   "id": "904c74a6770bf3e5",
   "execution_count": 50
  },
  {
   "cell_type": "markdown",
   "source": [
    "Some things to note:\n",
    "* `Series` objects have been automatically assigned based on their indexes,\n",
    "* missing data is marked with `NaN`,\n",
    "* `Series` names are ignored (the name `\"year\"` is omitted)."
   ],
   "metadata": {
    "collapsed": false
   },
   "id": "e3c4060d23305665"
  },
  {
   "cell_type": "markdown",
   "source": [
    "The way to access the columns is pretty easy, they are returned as `Series` objects."
   ],
   "metadata": {
    "collapsed": false
   },
   "id": "f3310243ce2dc106"
  },
  {
   "cell_type": "code",
   "outputs": [
    {
     "data": {
      "text/plain": "alice    1985\nbob      1984\ncarol    1992\nName: date of birth, dtype: int64"
     },
     "execution_count": 51,
     "metadata": {},
     "output_type": "execute_result"
    }
   ],
   "source": [
    "people['date of birth']"
   ],
   "metadata": {
    "collapsed": false,
    "ExecuteTime": {
     "end_time": "2025-03-23T09:38:29.395940Z",
     "start_time": "2025-03-23T09:38:29.382547Z"
    }
   },
   "id": "7468a15c6e1c3cac",
   "execution_count": 51
  },
  {
   "cell_type": "markdown",
   "source": [
    "Many columns at once."
   ],
   "metadata": {
    "collapsed": false
   },
   "id": "9f014102da1c55dc"
  },
  {
   "cell_type": "code",
   "outputs": [
    {
     "data": {
      "text/plain": "      interests  date of birth\nalice     Bikes           1985\nbob     Dancing           1984\ncarol       NaN           1992",
      "text/html": "<div>\n<style scoped>\n    .dataframe tbody tr th:only-of-type {\n        vertical-align: middle;\n    }\n\n    .dataframe tbody tr th {\n        vertical-align: top;\n    }\n\n    .dataframe thead th {\n        text-align: right;\n    }\n</style>\n<table border=\"1\" class=\"dataframe\">\n  <thead>\n    <tr style=\"text-align: right;\">\n      <th></th>\n      <th>interests</th>\n      <th>date of birth</th>\n    </tr>\n  </thead>\n  <tbody>\n    <tr>\n      <th>alice</th>\n      <td>Bikes</td>\n      <td>1985</td>\n    </tr>\n    <tr>\n      <th>bob</th>\n      <td>Dancing</td>\n      <td>1984</td>\n    </tr>\n    <tr>\n      <th>carol</th>\n      <td>NaN</td>\n      <td>1992</td>\n    </tr>\n  </tbody>\n</table>\n</div>"
     },
     "execution_count": 53,
     "metadata": {},
     "output_type": "execute_result"
    }
   ],
   "source": [
    "people[['interests', 'date of birth']]"
   ],
   "metadata": {
    "collapsed": false,
    "ExecuteTime": {
     "end_time": "2025-03-23T09:39:30.828085Z",
     "start_time": "2025-03-23T09:39:30.810037Z"
    }
   },
   "id": "92ed90751571d8d",
   "execution_count": 53
  },
  {
   "cell_type": "markdown",
   "source": [
    "If list of columns and/or row index labels are passed to the `DataFrame` constructor, only those columns and/or rows will exist in that order."
   ],
   "metadata": {
    "collapsed": false
   },
   "id": "5be9f82d33c9c4b6"
  },
  {
   "cell_type": "code",
   "outputs": [
    {
     "data": {
      "text/plain": "        date of birth  weight height\nbob            1984.0    83.0    NaN\nalice          1985.0    68.0    NaN\neugene            NaN     NaN    NaN",
      "text/html": "<div>\n<style scoped>\n    .dataframe tbody tr th:only-of-type {\n        vertical-align: middle;\n    }\n\n    .dataframe tbody tr th {\n        vertical-align: top;\n    }\n\n    .dataframe thead th {\n        text-align: right;\n    }\n</style>\n<table border=\"1\" class=\"dataframe\">\n  <thead>\n    <tr style=\"text-align: right;\">\n      <th></th>\n      <th>date of birth</th>\n      <th>weight</th>\n      <th>height</th>\n    </tr>\n  </thead>\n  <tbody>\n    <tr>\n      <th>bob</th>\n      <td>1984.0</td>\n      <td>83.0</td>\n      <td>NaN</td>\n    </tr>\n    <tr>\n      <th>alice</th>\n      <td>1985.0</td>\n      <td>68.0</td>\n      <td>NaN</td>\n    </tr>\n    <tr>\n      <th>eugene</th>\n      <td>NaN</td>\n      <td>NaN</td>\n      <td>NaN</td>\n    </tr>\n  </tbody>\n</table>\n</div>"
     },
     "execution_count": 55,
     "metadata": {},
     "output_type": "execute_result"
    }
   ],
   "source": [
    "d2 = pd.DataFrame(people_dict,\n",
    "                  columns=['date of birth', 'weight', 'height'],\n",
    "                  index=['bob', 'alice', 'eugene']\n",
    "    )\n",
    "d2"
   ],
   "metadata": {
    "collapsed": false,
    "ExecuteTime": {
     "end_time": "2025-03-23T09:44:52.550718Z",
     "start_time": "2025-03-23T09:44:52.534233Z"
    }
   },
   "id": "c4d1d5e5e6aa521",
   "execution_count": 55
  },
  {
   "cell_type": "markdown",
   "source": [
    "Another  way to create a `DataFrame` object is to pass all values to the constructor as an `ndarray` array (or list of lists), and then specify the column names and row index labels separately:"
   ],
   "metadata": {
    "collapsed": false
   },
   "id": "3c369c3668233645"
  },
  {
   "cell_type": "code",
   "outputs": [
    {
     "data": {
      "text/plain": "       date of birth  kids interests  weight\nalice           1985   NaN     Bikes      68\nbob             1984   3.0   Dancing      83\ncarol           1992   0.0       NaN     112",
      "text/html": "<div>\n<style scoped>\n    .dataframe tbody tr th:only-of-type {\n        vertical-align: middle;\n    }\n\n    .dataframe tbody tr th {\n        vertical-align: top;\n    }\n\n    .dataframe thead th {\n        text-align: right;\n    }\n</style>\n<table border=\"1\" class=\"dataframe\">\n  <thead>\n    <tr style=\"text-align: right;\">\n      <th></th>\n      <th>date of birth</th>\n      <th>kids</th>\n      <th>interests</th>\n      <th>weight</th>\n    </tr>\n  </thead>\n  <tbody>\n    <tr>\n      <th>alice</th>\n      <td>1985</td>\n      <td>NaN</td>\n      <td>Bikes</td>\n      <td>68</td>\n    </tr>\n    <tr>\n      <th>bob</th>\n      <td>1984</td>\n      <td>3.0</td>\n      <td>Dancing</td>\n      <td>83</td>\n    </tr>\n    <tr>\n      <th>carol</th>\n      <td>1992</td>\n      <td>0.0</td>\n      <td>NaN</td>\n      <td>112</td>\n    </tr>\n  </tbody>\n</table>\n</div>"
     },
     "execution_count": 56,
     "metadata": {},
     "output_type": "execute_result"
    }
   ],
   "source": [
    "values = [\n",
    "            [1985, np.nan, 'Bikes',   68],\n",
    "            [1984, 3,      'Dancing', 83],\n",
    "            [1992, 0,      np.nan,    112]\n",
    "         ]\n",
    "d3 = pd.DataFrame(\n",
    "    values,\n",
    "    columns=['date of birth', 'kids', 'interests', 'weight'],\n",
    "    index=['alice', 'bob', 'carol']\n",
    ")\n",
    "d3"
   ],
   "metadata": {
    "collapsed": false,
    "ExecuteTime": {
     "end_time": "2025-03-23T09:48:48.203441Z",
     "start_time": "2025-03-23T09:48:48.187787Z"
    }
   },
   "id": "4a951a84046503be",
   "execution_count": 56
  },
  {
   "cell_type": "markdown",
   "source": [
    "To determine missing values, the `np.nan` method or the hidden array of the NumPy module can be used."
   ],
   "metadata": {
    "collapsed": false
   },
   "id": "af23c5a765755010"
  },
  {
   "cell_type": "code",
   "outputs": [
    {
     "data": {
      "text/plain": "      date of birth kids interests weight\nalice          1985  NaN     Bikes     68\nbob            1984    3   Dancing     83\ncarol          1992    0       NaN    112",
      "text/html": "<div>\n<style scoped>\n    .dataframe tbody tr th:only-of-type {\n        vertical-align: middle;\n    }\n\n    .dataframe tbody tr th {\n        vertical-align: top;\n    }\n\n    .dataframe thead th {\n        text-align: right;\n    }\n</style>\n<table border=\"1\" class=\"dataframe\">\n  <thead>\n    <tr style=\"text-align: right;\">\n      <th></th>\n      <th>date of birth</th>\n      <th>kids</th>\n      <th>interests</th>\n      <th>weight</th>\n    </tr>\n  </thead>\n  <tbody>\n    <tr>\n      <th>alice</th>\n      <td>1985</td>\n      <td>NaN</td>\n      <td>Bikes</td>\n      <td>68</td>\n    </tr>\n    <tr>\n      <th>bob</th>\n      <td>1984</td>\n      <td>3</td>\n      <td>Dancing</td>\n      <td>83</td>\n    </tr>\n    <tr>\n      <th>carol</th>\n      <td>1992</td>\n      <td>0</td>\n      <td>NaN</td>\n      <td>112</td>\n    </tr>\n  </tbody>\n</table>\n</div>"
     },
     "execution_count": 61,
     "metadata": {},
     "output_type": "execute_result"
    }
   ],
   "source": [
    "masked_array = np.ma.asanyarray(values, dtype=np.object_)\n",
    "masked_array[(0, 2), (1, 2)] = np.ma.masked\n",
    "d3 = pd.DataFrame(\n",
    "    masked_array,\n",
    "    columns=['date of birth', 'kids', 'interests', 'weight'],\n",
    "    index=['alice', 'bob', 'carol']\n",
    ")\n",
    "d3"
   ],
   "metadata": {
    "collapsed": false,
    "ExecuteTime": {
     "end_time": "2025-03-23T09:52:10.707502Z",
     "start_time": "2025-03-23T09:52:10.690243Z"
    }
   },
   "id": "6a4b8004cfdb8798",
   "execution_count": 61
  },
  {
   "cell_type": "markdown",
   "source": [
    "Instead of `ndarray` the `DataFrame` object can be passed."
   ],
   "metadata": {
    "collapsed": false
   },
   "id": "f23b7bb6c5476d7d"
  },
  {
   "cell_type": "code",
   "outputs": [
    {
     "data": {
      "text/plain": "      interests kids\nalice     Bikes  NaN\nbob     Dancing    3",
      "text/html": "<div>\n<style scoped>\n    .dataframe tbody tr th:only-of-type {\n        vertical-align: middle;\n    }\n\n    .dataframe tbody tr th {\n        vertical-align: top;\n    }\n\n    .dataframe thead th {\n        text-align: right;\n    }\n</style>\n<table border=\"1\" class=\"dataframe\">\n  <thead>\n    <tr style=\"text-align: right;\">\n      <th></th>\n      <th>interests</th>\n      <th>kids</th>\n    </tr>\n  </thead>\n  <tbody>\n    <tr>\n      <th>alice</th>\n      <td>Bikes</td>\n      <td>NaN</td>\n    </tr>\n    <tr>\n      <th>bob</th>\n      <td>Dancing</td>\n      <td>3</td>\n    </tr>\n  </tbody>\n</table>\n</div>"
     },
     "execution_count": 62,
     "metadata": {},
     "output_type": "execute_result"
    }
   ],
   "source": [
    "d4 = pd.DataFrame(\n",
    "         d3,\n",
    "         columns=['interests', 'kids'],\n",
    "         index=['alice', 'bob']\n",
    "     )\n",
    "d4"
   ],
   "metadata": {
    "collapsed": false,
    "ExecuteTime": {
     "end_time": "2025-03-23T09:54:48.492237Z",
     "start_time": "2025-03-23T09:54:48.479979Z"
    }
   },
   "id": "feb83e9b18fbbbf2",
   "execution_count": 62
  },
  {
   "cell_type": "markdown",
   "source": [
    "It is also possible to create a `DataFrame` object with a dictionary (or list) of dictionaries (or list)."
   ],
   "metadata": {
    "collapsed": false
   },
   "id": "977c00c1fc023992"
  },
  {
   "cell_type": "code",
   "outputs": [
    {
     "data": {
      "text/plain": "       date of birth interests  weight  kids\nalice           1985     Bikes      68   NaN\nbob             1984   Dancing      83   3.0\ncarol           1992       NaN     112   0.0",
      "text/html": "<div>\n<style scoped>\n    .dataframe tbody tr th:only-of-type {\n        vertical-align: middle;\n    }\n\n    .dataframe tbody tr th {\n        vertical-align: top;\n    }\n\n    .dataframe thead th {\n        text-align: right;\n    }\n</style>\n<table border=\"1\" class=\"dataframe\">\n  <thead>\n    <tr style=\"text-align: right;\">\n      <th></th>\n      <th>date of birth</th>\n      <th>interests</th>\n      <th>weight</th>\n      <th>kids</th>\n    </tr>\n  </thead>\n  <tbody>\n    <tr>\n      <th>alice</th>\n      <td>1985</td>\n      <td>Bikes</td>\n      <td>68</td>\n      <td>NaN</td>\n    </tr>\n    <tr>\n      <th>bob</th>\n      <td>1984</td>\n      <td>Dancing</td>\n      <td>83</td>\n      <td>3.0</td>\n    </tr>\n    <tr>\n      <th>carol</th>\n      <td>1992</td>\n      <td>NaN</td>\n      <td>112</td>\n      <td>0.0</td>\n    </tr>\n  </tbody>\n</table>\n</div>"
     },
     "execution_count": 63,
     "metadata": {},
     "output_type": "execute_result"
    }
   ],
   "source": [
    "people = pd.DataFrame({\n",
    "    'date of birth': {'alice': 1985, 'bob': 1984, 'carol': 1992},\n",
    "    'interests': {'alice': 'Bikes', 'bob': 'Dancing'},\n",
    "    'weight': {'alice': 68, 'bob': 83, 'carol': 112},\n",
    "    'kids': {'bob': 3, 'carol': 0}\n",
    "})\n",
    "people"
   ],
   "metadata": {
    "collapsed": false,
    "ExecuteTime": {
     "end_time": "2025-03-23T09:58:13.570616Z",
     "start_time": "2025-03-23T09:58:13.555703Z"
    }
   },
   "id": "46f2cb2debec61f3",
   "execution_count": 63
  },
  {
   "cell_type": "markdown",
   "source": [
    "## Multi-indexing\n",
    "\n",
    "If all columns are tuples of the same size, then they are considered as multi-indexed. The same applies to row index labels."
   ],
   "metadata": {
    "collapsed": false
   },
   "id": "ae54dc4f7b6bc676"
  },
  {
   "cell_type": "code",
   "outputs": [
    {
     "data": {
      "text/plain": "                 public           private         \n             birth year interests  weight children\nParis  alice       1985  Bicycles      68      NaN\n       bob         1984     Dance      83      3.0\nLondon carol       1992       NaN     112      0.0",
      "text/html": "<div>\n<style scoped>\n    .dataframe tbody tr th:only-of-type {\n        vertical-align: middle;\n    }\n\n    .dataframe tbody tr th {\n        vertical-align: top;\n    }\n\n    .dataframe thead tr th {\n        text-align: left;\n    }\n</style>\n<table border=\"1\" class=\"dataframe\">\n  <thead>\n    <tr>\n      <th></th>\n      <th></th>\n      <th colspan=\"2\" halign=\"left\">public</th>\n      <th colspan=\"2\" halign=\"left\">private</th>\n    </tr>\n    <tr>\n      <th></th>\n      <th></th>\n      <th>birth year</th>\n      <th>interests</th>\n      <th>weight</th>\n      <th>children</th>\n    </tr>\n  </thead>\n  <tbody>\n    <tr>\n      <th rowspan=\"2\" valign=\"top\">Paris</th>\n      <th>alice</th>\n      <td>1985</td>\n      <td>Bicycles</td>\n      <td>68</td>\n      <td>NaN</td>\n    </tr>\n    <tr>\n      <th>bob</th>\n      <td>1984</td>\n      <td>Dance</td>\n      <td>83</td>\n      <td>3.0</td>\n    </tr>\n    <tr>\n      <th>London</th>\n      <th>carol</th>\n      <td>1992</td>\n      <td>NaN</td>\n      <td>112</td>\n      <td>0.0</td>\n    </tr>\n  </tbody>\n</table>\n</div>"
     },
     "execution_count": 73,
     "metadata": {},
     "output_type": "execute_result"
    }
   ],
   "source": [
    "d5 = pd.DataFrame(\n",
    "    {\n",
    "        ('public', 'birth year'): \n",
    "            {('Paris', 'alice'): 1985, ('Paris', 'bob'): 1984, ('London', 'carol'): 1992},\n",
    "        ('public', 'interests'): \n",
    "            {('Paris', 'alice'): 'Bicycles', ('Paris', 'bob'): 'Dance'},\n",
    "        ('private', 'weight'): \n",
    "            {('Paris', 'alice'): 68, ('Paris', 'bob'): 83, ('London', 'carol'): 112},\n",
    "        ('private', 'children'): \n",
    "            {('Paris', 'alice'): np.nan, ('Paris', 'bob'): 3, ('London', 'carol'): 0}\n",
    "    }\n",
    ")\n",
    "d5"
   ],
   "metadata": {
    "collapsed": false,
    "ExecuteTime": {
     "end_time": "2025-03-23T10:14:34.578093Z",
     "start_time": "2025-03-23T10:14:34.558377Z"
    }
   },
   "id": "88b0c7cc0354d9fd",
   "execution_count": 73
  },
  {
   "cell_type": "markdown",
   "source": [
    "Now a `DataFrame` object containing all `\"public\"` columns can be easily obtained."
   ],
   "metadata": {
    "collapsed": false
   },
   "id": "6aff067df2a0cc95"
  },
  {
   "cell_type": "code",
   "outputs": [
    {
     "data": {
      "text/plain": "              birth year interests\nParis  alice        1985  Bicycles\n       bob          1984     Dance\nLondon carol        1992       NaN",
      "text/html": "<div>\n<style scoped>\n    .dataframe tbody tr th:only-of-type {\n        vertical-align: middle;\n    }\n\n    .dataframe tbody tr th {\n        vertical-align: top;\n    }\n\n    .dataframe thead th {\n        text-align: right;\n    }\n</style>\n<table border=\"1\" class=\"dataframe\">\n  <thead>\n    <tr style=\"text-align: right;\">\n      <th></th>\n      <th></th>\n      <th>birth year</th>\n      <th>interests</th>\n    </tr>\n  </thead>\n  <tbody>\n    <tr>\n      <th rowspan=\"2\" valign=\"top\">Paris</th>\n      <th>alice</th>\n      <td>1985</td>\n      <td>Bicycles</td>\n    </tr>\n    <tr>\n      <th>bob</th>\n      <td>1984</td>\n      <td>Dance</td>\n    </tr>\n    <tr>\n      <th>London</th>\n      <th>carol</th>\n      <td>1992</td>\n      <td>NaN</td>\n    </tr>\n  </tbody>\n</table>\n</div>"
     },
     "execution_count": 74,
     "metadata": {},
     "output_type": "execute_result"
    }
   ],
   "source": [
    "d5['public']"
   ],
   "metadata": {
    "collapsed": false,
    "ExecuteTime": {
     "end_time": "2025-03-23T10:14:35.768585Z",
     "start_time": "2025-03-23T10:14:35.752568Z"
    }
   },
   "id": "3e66da8eddea2d60",
   "execution_count": 74
  },
  {
   "cell_type": "code",
   "outputs": [
    {
     "data": {
      "text/plain": "Paris   alice    Bicycles\n        bob         Dance\nLondon  carol         NaN\nName: interests, dtype: object"
     },
     "execution_count": 75,
     "metadata": {},
     "output_type": "execute_result"
    }
   ],
   "source": [
    "d5['public']['interests']  # equals to: d5['public', 'interests']"
   ],
   "metadata": {
    "collapsed": false,
    "ExecuteTime": {
     "end_time": "2025-03-23T10:14:36.090410Z",
     "start_time": "2025-03-23T10:14:36.078558Z"
    }
   },
   "id": "7e49ad3ad0aed297",
   "execution_count": 75
  },
  {
   "cell_type": "markdown",
   "source": [
    "## Removing a level"
   ],
   "metadata": {
    "collapsed": false
   },
   "id": "a5713eb982b1948f"
  },
  {
   "cell_type": "code",
   "outputs": [
    {
     "data": {
      "text/plain": "                 public           private         \n             birth year interests  weight children\nParis  alice       1985  Bicycles      68      NaN\n       bob         1984     Dance      83      3.0\nLondon carol       1992       NaN     112      0.0",
      "text/html": "<div>\n<style scoped>\n    .dataframe tbody tr th:only-of-type {\n        vertical-align: middle;\n    }\n\n    .dataframe tbody tr th {\n        vertical-align: top;\n    }\n\n    .dataframe thead tr th {\n        text-align: left;\n    }\n</style>\n<table border=\"1\" class=\"dataframe\">\n  <thead>\n    <tr>\n      <th></th>\n      <th></th>\n      <th colspan=\"2\" halign=\"left\">public</th>\n      <th colspan=\"2\" halign=\"left\">private</th>\n    </tr>\n    <tr>\n      <th></th>\n      <th></th>\n      <th>birth year</th>\n      <th>interests</th>\n      <th>weight</th>\n      <th>children</th>\n    </tr>\n  </thead>\n  <tbody>\n    <tr>\n      <th rowspan=\"2\" valign=\"top\">Paris</th>\n      <th>alice</th>\n      <td>1985</td>\n      <td>Bicycles</td>\n      <td>68</td>\n      <td>NaN</td>\n    </tr>\n    <tr>\n      <th>bob</th>\n      <td>1984</td>\n      <td>Dance</td>\n      <td>83</td>\n      <td>3.0</td>\n    </tr>\n    <tr>\n      <th>London</th>\n      <th>carol</th>\n      <td>1992</td>\n      <td>NaN</td>\n      <td>112</td>\n      <td>0.0</td>\n    </tr>\n  </tbody>\n</table>\n</div>"
     },
     "execution_count": 76,
     "metadata": {},
     "output_type": "execute_result"
    }
   ],
   "source": [
    "d5"
   ],
   "metadata": {
    "collapsed": false,
    "ExecuteTime": {
     "end_time": "2025-03-23T10:14:38.079953Z",
     "start_time": "2025-03-23T10:14:38.066304Z"
    }
   },
   "id": "25c99a47e004a725",
   "execution_count": 76
  },
  {
   "cell_type": "markdown",
   "source": [
    "There are two levels of columns and two levels of indexes. A column level can be dropped by calling the `droplevel()` method (the same applies to indexes)."
   ],
   "metadata": {
    "collapsed": false
   },
   "id": "ce6d0c1d88aedef7"
  },
  {
   "cell_type": "code",
   "outputs": [
    {
     "data": {
      "text/plain": "              birth year interests  weight  children\nParis  alice        1985  Bicycles      68       NaN\n       bob          1984     Dance      83       3.0\nLondon carol        1992       NaN     112       0.0",
      "text/html": "<div>\n<style scoped>\n    .dataframe tbody tr th:only-of-type {\n        vertical-align: middle;\n    }\n\n    .dataframe tbody tr th {\n        vertical-align: top;\n    }\n\n    .dataframe thead th {\n        text-align: right;\n    }\n</style>\n<table border=\"1\" class=\"dataframe\">\n  <thead>\n    <tr style=\"text-align: right;\">\n      <th></th>\n      <th></th>\n      <th>birth year</th>\n      <th>interests</th>\n      <th>weight</th>\n      <th>children</th>\n    </tr>\n  </thead>\n  <tbody>\n    <tr>\n      <th rowspan=\"2\" valign=\"top\">Paris</th>\n      <th>alice</th>\n      <td>1985</td>\n      <td>Bicycles</td>\n      <td>68</td>\n      <td>NaN</td>\n    </tr>\n    <tr>\n      <th>bob</th>\n      <td>1984</td>\n      <td>Dance</td>\n      <td>83</td>\n      <td>3.0</td>\n    </tr>\n    <tr>\n      <th>London</th>\n      <th>carol</th>\n      <td>1992</td>\n      <td>NaN</td>\n      <td>112</td>\n      <td>0.0</td>\n    </tr>\n  </tbody>\n</table>\n</div>"
     },
     "execution_count": 77,
     "metadata": {},
     "output_type": "execute_result"
    }
   ],
   "source": [
    "d5.columns = d5.columns.droplevel(level=0)  # d5.index = d5.index.droplevel(level=0)\n",
    "d5"
   ],
   "metadata": {
    "collapsed": false,
    "ExecuteTime": {
     "end_time": "2025-03-23T10:15:22.193715Z",
     "start_time": "2025-03-23T10:15:22.180260Z"
    }
   },
   "id": "cedbb5d4517ad98c",
   "execution_count": 77
  },
  {
   "cell_type": "markdown",
   "source": [
    "## Transpose"
   ],
   "metadata": {
    "collapsed": false
   },
   "id": "c74facd91f5415ce"
  },
  {
   "cell_type": "code",
   "outputs": [
    {
     "data": {
      "text/plain": "               Paris        London\n               alice    bob  carol\nbirth year      1985   1984   1992\ninterests   Bicycles  Dance    NaN\nweight            68     83    112\nchildren         NaN    3.0    0.0",
      "text/html": "<div>\n<style scoped>\n    .dataframe tbody tr th:only-of-type {\n        vertical-align: middle;\n    }\n\n    .dataframe tbody tr th {\n        vertical-align: top;\n    }\n\n    .dataframe thead tr th {\n        text-align: left;\n    }\n</style>\n<table border=\"1\" class=\"dataframe\">\n  <thead>\n    <tr>\n      <th></th>\n      <th colspan=\"2\" halign=\"left\">Paris</th>\n      <th>London</th>\n    </tr>\n    <tr>\n      <th></th>\n      <th>alice</th>\n      <th>bob</th>\n      <th>carol</th>\n    </tr>\n  </thead>\n  <tbody>\n    <tr>\n      <th>birth year</th>\n      <td>1985</td>\n      <td>1984</td>\n      <td>1992</td>\n    </tr>\n    <tr>\n      <th>interests</th>\n      <td>Bicycles</td>\n      <td>Dance</td>\n      <td>NaN</td>\n    </tr>\n    <tr>\n      <th>weight</th>\n      <td>68</td>\n      <td>83</td>\n      <td>112</td>\n    </tr>\n    <tr>\n      <th>children</th>\n      <td>NaN</td>\n      <td>3.0</td>\n      <td>0.0</td>\n    </tr>\n  </tbody>\n</table>\n</div>"
     },
     "execution_count": 78,
     "metadata": {},
     "output_type": "execute_result"
    }
   ],
   "source": [
    "d6 = d5.T\n",
    "d6"
   ],
   "metadata": {
    "collapsed": false,
    "ExecuteTime": {
     "end_time": "2025-03-23T10:15:23.327324Z",
     "start_time": "2025-03-23T10:15:23.312554Z"
    }
   },
   "id": "9b98892c920c06ce",
   "execution_count": 78
  },
  {
   "cell_type": "markdown",
   "source": [
    "## Creating and Splitting Level Stacks\n",
    "Calling the `stack()` method places the lowest level column right after the lowest index."
   ],
   "metadata": {
    "collapsed": false
   },
   "id": "c1c7e6af228bb392"
  },
  {
   "cell_type": "code",
   "outputs": [
    {
     "name": "stderr",
     "output_type": "stream",
     "text": [
      "C:\\Users\\Adam\\AppData\\Local\\Temp\\ipykernel_14864\\375787799.py:1: FutureWarning: The previous implementation of stack is deprecated and will be removed in a future version of pandas. See the What's New notes for pandas 2.1.0 for details. Specify future_stack=True to adopt the new implementation and silence this warning.\n",
      "  d7 = d6.stack()\n"
     ]
    },
    {
     "data": {
      "text/plain": "                     Paris London\nbirth year alice      1985    NaN\n           bob        1984    NaN\n           carol       NaN   1992\ninterests  alice  Bicycles    NaN\n           bob       Dance    NaN\nweight     alice        68    NaN\n           bob          83    NaN\n           carol       NaN    112\nchildren   bob         3.0    NaN\n           carol       NaN    0.0",
      "text/html": "<div>\n<style scoped>\n    .dataframe tbody tr th:only-of-type {\n        vertical-align: middle;\n    }\n\n    .dataframe tbody tr th {\n        vertical-align: top;\n    }\n\n    .dataframe thead th {\n        text-align: right;\n    }\n</style>\n<table border=\"1\" class=\"dataframe\">\n  <thead>\n    <tr style=\"text-align: right;\">\n      <th></th>\n      <th></th>\n      <th>Paris</th>\n      <th>London</th>\n    </tr>\n  </thead>\n  <tbody>\n    <tr>\n      <th rowspan=\"3\" valign=\"top\">birth year</th>\n      <th>alice</th>\n      <td>1985</td>\n      <td>NaN</td>\n    </tr>\n    <tr>\n      <th>bob</th>\n      <td>1984</td>\n      <td>NaN</td>\n    </tr>\n    <tr>\n      <th>carol</th>\n      <td>NaN</td>\n      <td>1992</td>\n    </tr>\n    <tr>\n      <th rowspan=\"2\" valign=\"top\">interests</th>\n      <th>alice</th>\n      <td>Bicycles</td>\n      <td>NaN</td>\n    </tr>\n    <tr>\n      <th>bob</th>\n      <td>Dance</td>\n      <td>NaN</td>\n    </tr>\n    <tr>\n      <th rowspan=\"3\" valign=\"top\">weight</th>\n      <th>alice</th>\n      <td>68</td>\n      <td>NaN</td>\n    </tr>\n    <tr>\n      <th>bob</th>\n      <td>83</td>\n      <td>NaN</td>\n    </tr>\n    <tr>\n      <th>carol</th>\n      <td>NaN</td>\n      <td>112</td>\n    </tr>\n    <tr>\n      <th rowspan=\"2\" valign=\"top\">children</th>\n      <th>bob</th>\n      <td>3.0</td>\n      <td>NaN</td>\n    </tr>\n    <tr>\n      <th>carol</th>\n      <td>NaN</td>\n      <td>0.0</td>\n    </tr>\n  </tbody>\n</table>\n</div>"
     },
     "execution_count": 79,
     "metadata": {},
     "output_type": "execute_result"
    }
   ],
   "source": [
    "d7 = d6.stack()\n",
    "d7"
   ],
   "metadata": {
    "collapsed": false,
    "ExecuteTime": {
     "end_time": "2025-03-23T10:15:26.630999Z",
     "start_time": "2025-03-23T10:15:26.605072Z"
    }
   },
   "id": "c5835b05731cd765",
   "execution_count": 79
  },
  {
   "cell_type": "markdown",
   "source": [
    "There are a lot of `NaN` values. There weren't many new combinations before (e.g. there was no Bob in London).\n",
    "\n",
    "Calling `unstack()` will reverse this effect, so there will be many `NaN` values again."
   ],
   "metadata": {
    "collapsed": false
   },
   "id": "4881db175fed3235"
  },
  {
   "cell_type": "code",
   "outputs": [
    {
     "data": {
      "text/plain": "               Paris              London           \n               alice    bob carol  alice  bob carol\nbirth year      1985   1984   NaN    NaN  NaN  1992\nchildren         NaN    3.0   NaN    NaN  NaN   0.0\ninterests   Bicycles  Dance   NaN    NaN  NaN   NaN\nweight            68     83   NaN    NaN  NaN   112",
      "text/html": "<div>\n<style scoped>\n    .dataframe tbody tr th:only-of-type {\n        vertical-align: middle;\n    }\n\n    .dataframe tbody tr th {\n        vertical-align: top;\n    }\n\n    .dataframe thead tr th {\n        text-align: left;\n    }\n</style>\n<table border=\"1\" class=\"dataframe\">\n  <thead>\n    <tr>\n      <th></th>\n      <th colspan=\"3\" halign=\"left\">Paris</th>\n      <th colspan=\"3\" halign=\"left\">London</th>\n    </tr>\n    <tr>\n      <th></th>\n      <th>alice</th>\n      <th>bob</th>\n      <th>carol</th>\n      <th>alice</th>\n      <th>bob</th>\n      <th>carol</th>\n    </tr>\n  </thead>\n  <tbody>\n    <tr>\n      <th>birth year</th>\n      <td>1985</td>\n      <td>1984</td>\n      <td>NaN</td>\n      <td>NaN</td>\n      <td>NaN</td>\n      <td>1992</td>\n    </tr>\n    <tr>\n      <th>children</th>\n      <td>NaN</td>\n      <td>3.0</td>\n      <td>NaN</td>\n      <td>NaN</td>\n      <td>NaN</td>\n      <td>0.0</td>\n    </tr>\n    <tr>\n      <th>interests</th>\n      <td>Bicycles</td>\n      <td>Dance</td>\n      <td>NaN</td>\n      <td>NaN</td>\n      <td>NaN</td>\n      <td>NaN</td>\n    </tr>\n    <tr>\n      <th>weight</th>\n      <td>68</td>\n      <td>83</td>\n      <td>NaN</td>\n      <td>NaN</td>\n      <td>NaN</td>\n      <td>112</td>\n    </tr>\n  </tbody>\n</table>\n</div>"
     },
     "execution_count": 80,
     "metadata": {},
     "output_type": "execute_result"
    }
   ],
   "source": [
    "d8 = d7.unstack()\n",
    "d8"
   ],
   "metadata": {
    "collapsed": false,
    "ExecuteTime": {
     "end_time": "2025-03-23T10:16:38.791033Z",
     "start_time": "2025-03-23T10:16:38.765942Z"
    }
   },
   "id": "c589d977238b2da1",
   "execution_count": 80
  },
  {
   "cell_type": "code",
   "outputs": [
    {
     "data": {
      "text/plain": "Paris   alice  birth year        1985\n               children           NaN\n               interests     Bicycles\n               weight              68\n        bob    birth year        1984\n               children           3.0\n               interests        Dance\n               weight              83\n        carol  birth year         NaN\n               children           NaN\n               interests          NaN\n               weight             NaN\nLondon  alice  birth year         NaN\n               children           NaN\n               interests          NaN\n               weight             NaN\n        bob    birth year         NaN\n               children           NaN\n               interests          NaN\n               weight             NaN\n        carol  birth year        1992\n               children           0.0\n               interests          NaN\n               weight             112\ndtype: object"
     },
     "execution_count": 81,
     "metadata": {},
     "output_type": "execute_result"
    }
   ],
   "source": [
    "d9 = d8.unstack()\n",
    "d9"
   ],
   "metadata": {
    "collapsed": false,
    "ExecuteTime": {
     "end_time": "2025-03-23T10:17:47.200256Z",
     "start_time": "2025-03-23T10:17:47.183804Z"
    }
   },
   "id": "e677f738bc9a5833",
   "execution_count": 81
  },
  {
   "cell_type": "markdown",
   "source": [
    "The `stack()` and `unstack()` methods also allows  to select the `level` to be put into or taken out of the stack. Create/remove many stacks from multiple levels at once:"
   ],
   "metadata": {
    "collapsed": false
   },
   "id": "e00eb62ac1fd1815"
  },
  {
   "cell_type": "code",
   "outputs": [
    {
     "data": {
      "text/plain": "               Paris              London           \n               alice    bob carol  alice  bob carol\nbirth year      1985   1984   NaN    NaN  NaN  1992\nchildren         NaN    3.0   NaN    NaN  NaN   0.0\ninterests   Bicycles  Dance   NaN    NaN  NaN   NaN\nweight            68     83   NaN    NaN  NaN   112",
      "text/html": "<div>\n<style scoped>\n    .dataframe tbody tr th:only-of-type {\n        vertical-align: middle;\n    }\n\n    .dataframe tbody tr th {\n        vertical-align: top;\n    }\n\n    .dataframe thead tr th {\n        text-align: left;\n    }\n</style>\n<table border=\"1\" class=\"dataframe\">\n  <thead>\n    <tr>\n      <th></th>\n      <th colspan=\"3\" halign=\"left\">Paris</th>\n      <th colspan=\"3\" halign=\"left\">London</th>\n    </tr>\n    <tr>\n      <th></th>\n      <th>alice</th>\n      <th>bob</th>\n      <th>carol</th>\n      <th>alice</th>\n      <th>bob</th>\n      <th>carol</th>\n    </tr>\n  </thead>\n  <tbody>\n    <tr>\n      <th>birth year</th>\n      <td>1985</td>\n      <td>1984</td>\n      <td>NaN</td>\n      <td>NaN</td>\n      <td>NaN</td>\n      <td>1992</td>\n    </tr>\n    <tr>\n      <th>children</th>\n      <td>NaN</td>\n      <td>3.0</td>\n      <td>NaN</td>\n      <td>NaN</td>\n      <td>NaN</td>\n      <td>0.0</td>\n    </tr>\n    <tr>\n      <th>interests</th>\n      <td>Bicycles</td>\n      <td>Dance</td>\n      <td>NaN</td>\n      <td>NaN</td>\n      <td>NaN</td>\n      <td>NaN</td>\n    </tr>\n    <tr>\n      <th>weight</th>\n      <td>68</td>\n      <td>83</td>\n      <td>NaN</td>\n      <td>NaN</td>\n      <td>NaN</td>\n      <td>112</td>\n    </tr>\n  </tbody>\n</table>\n</div>"
     },
     "execution_count": 82,
     "metadata": {},
     "output_type": "execute_result"
    }
   ],
   "source": [
    "d10 = d9.unstack(level = (0,1))\n",
    "d10"
   ],
   "metadata": {
    "collapsed": false,
    "ExecuteTime": {
     "end_time": "2025-03-23T10:18:39.685773Z",
     "start_time": "2025-03-23T10:18:39.668351Z"
    }
   },
   "id": "d38e041bf9293bc9",
   "execution_count": 82
  },
  {
   "cell_type": "markdown",
   "source": [
    "## Most methods return modified copies\n",
    "\n",
    "The `stack()` and `unstack()` methods do not modify the objects they are applied to. Instead, they process a copy and return it. This is also true for most methods in the pandas module."
   ],
   "metadata": {
    "collapsed": false
   },
   "id": "e858734e9d213e1a"
  },
  {
   "cell_type": "markdown",
   "source": [
    "## Accessing rows"
   ],
   "metadata": {
    "collapsed": false
   },
   "id": "1e9fb5ea8f644157"
  },
  {
   "cell_type": "code",
   "outputs": [
    {
     "data": {
      "text/plain": "       date of birth interests  weight  kids\nalice           1985     Bikes      68   NaN\nbob             1984   Dancing      83   3.0\ncarol           1992       NaN     112   0.0",
      "text/html": "<div>\n<style scoped>\n    .dataframe tbody tr th:only-of-type {\n        vertical-align: middle;\n    }\n\n    .dataframe tbody tr th {\n        vertical-align: top;\n    }\n\n    .dataframe thead th {\n        text-align: right;\n    }\n</style>\n<table border=\"1\" class=\"dataframe\">\n  <thead>\n    <tr style=\"text-align: right;\">\n      <th></th>\n      <th>date of birth</th>\n      <th>interests</th>\n      <th>weight</th>\n      <th>kids</th>\n    </tr>\n  </thead>\n  <tbody>\n    <tr>\n      <th>alice</th>\n      <td>1985</td>\n      <td>Bikes</td>\n      <td>68</td>\n      <td>NaN</td>\n    </tr>\n    <tr>\n      <th>bob</th>\n      <td>1984</td>\n      <td>Dancing</td>\n      <td>83</td>\n      <td>3.0</td>\n    </tr>\n    <tr>\n      <th>carol</th>\n      <td>1992</td>\n      <td>NaN</td>\n      <td>112</td>\n      <td>0.0</td>\n    </tr>\n  </tbody>\n</table>\n</div>"
     },
     "execution_count": 83,
     "metadata": {},
     "output_type": "execute_result"
    }
   ],
   "source": [
    "people"
   ],
   "metadata": {
    "collapsed": false,
    "ExecuteTime": {
     "end_time": "2025-03-23T10:21:05.910033Z",
     "start_time": "2025-03-23T10:21:05.898965Z"
    }
   },
   "id": "d25672f0b149949c",
   "execution_count": 83
  },
  {
   "cell_type": "markdown",
   "source": [
    "The `loc` attribute allows to access rows instead of columns. The result is a `Series` object where the column names of the `DataFrame` object are mapped to row index labels."
   ],
   "metadata": {
    "collapsed": false
   },
   "id": "bca5a3cc1563c2e6"
  },
  {
   "cell_type": "code",
   "outputs": [
    {
     "data": {
      "text/plain": "date of birth    1992\ninterests         NaN\nweight            112\nkids              0.0\nName: carol, dtype: object"
     },
     "execution_count": 84,
     "metadata": {},
     "output_type": "execute_result"
    }
   ],
   "source": [
    "people.loc['carol']"
   ],
   "metadata": {
    "collapsed": false,
    "ExecuteTime": {
     "end_time": "2025-03-23T10:21:41.213427Z",
     "start_time": "2025-03-23T10:21:41.202961Z"
    }
   },
   "id": "ebf3d998b7e85040",
   "execution_count": 84
  },
  {
   "cell_type": "markdown",
   "source": [
    "Accessing rows using the numeric index (`iloc` attribute)."
   ],
   "metadata": {
    "collapsed": false
   },
   "id": "42026f410f54f472"
  },
  {
   "cell_type": "code",
   "outputs": [
    {
     "data": {
      "text/plain": "date of birth    1992\ninterests         NaN\nweight            112\nkids              0.0\nName: carol, dtype: object"
     },
     "execution_count": 85,
     "metadata": {},
     "output_type": "execute_result"
    }
   ],
   "source": [
    "people.iloc[2]"
   ],
   "metadata": {
    "collapsed": false,
    "ExecuteTime": {
     "end_time": "2025-03-23T10:22:18.417531Z",
     "start_time": "2025-03-23T10:22:18.408428Z"
    }
   },
   "id": "30682e01985423cd",
   "execution_count": 85
  },
  {
   "cell_type": "markdown",
   "source": [
    "Also selecting parts of rows is possible, which will return a `DataFrame` object."
   ],
   "metadata": {
    "collapsed": false
   },
   "id": "180d114cfede682"
  },
  {
   "cell_type": "code",
   "outputs": [
    {
     "data": {
      "text/plain": "       date of birth interests  weight  kids\nbob             1984   Dancing      83   3.0\ncarol           1992       NaN     112   0.0",
      "text/html": "<div>\n<style scoped>\n    .dataframe tbody tr th:only-of-type {\n        vertical-align: middle;\n    }\n\n    .dataframe tbody tr th {\n        vertical-align: top;\n    }\n\n    .dataframe thead th {\n        text-align: right;\n    }\n</style>\n<table border=\"1\" class=\"dataframe\">\n  <thead>\n    <tr style=\"text-align: right;\">\n      <th></th>\n      <th>date of birth</th>\n      <th>interests</th>\n      <th>weight</th>\n      <th>kids</th>\n    </tr>\n  </thead>\n  <tbody>\n    <tr>\n      <th>bob</th>\n      <td>1984</td>\n      <td>Dancing</td>\n      <td>83</td>\n      <td>3.0</td>\n    </tr>\n    <tr>\n      <th>carol</th>\n      <td>1992</td>\n      <td>NaN</td>\n      <td>112</td>\n      <td>0.0</td>\n    </tr>\n  </tbody>\n</table>\n</div>"
     },
     "execution_count": 86,
     "metadata": {},
     "output_type": "execute_result"
    }
   ],
   "source": [
    "people.iloc[1:3]"
   ],
   "metadata": {
    "collapsed": false,
    "ExecuteTime": {
     "end_time": "2025-03-23T10:22:33.501637Z",
     "start_time": "2025-03-23T10:22:33.488497Z"
    }
   },
   "id": "6dbf7178fb9a9d0a",
   "execution_count": 86
  },
  {
   "cell_type": "markdown",
   "source": [
    "Finally, an array of binaries can be passed to get the appropriate rows."
   ],
   "metadata": {
    "collapsed": false
   },
   "id": "189aaa71d79562ab"
  },
  {
   "cell_type": "code",
   "outputs": [
    {
     "data": {
      "text/plain": "       date of birth interests  weight  kids\nalice           1985     Bikes      68   NaN\ncarol           1992       NaN     112   0.0",
      "text/html": "<div>\n<style scoped>\n    .dataframe tbody tr th:only-of-type {\n        vertical-align: middle;\n    }\n\n    .dataframe tbody tr th {\n        vertical-align: top;\n    }\n\n    .dataframe thead th {\n        text-align: right;\n    }\n</style>\n<table border=\"1\" class=\"dataframe\">\n  <thead>\n    <tr style=\"text-align: right;\">\n      <th></th>\n      <th>date of birth</th>\n      <th>interests</th>\n      <th>weight</th>\n      <th>kids</th>\n    </tr>\n  </thead>\n  <tbody>\n    <tr>\n      <th>alice</th>\n      <td>1985</td>\n      <td>Bikes</td>\n      <td>68</td>\n      <td>NaN</td>\n    </tr>\n    <tr>\n      <th>carol</th>\n      <td>1992</td>\n      <td>NaN</td>\n      <td>112</td>\n      <td>0.0</td>\n    </tr>\n  </tbody>\n</table>\n</div>"
     },
     "execution_count": 87,
     "metadata": {},
     "output_type": "execute_result"
    }
   ],
   "source": [
    "people[np.array([True, False, True])]"
   ],
   "metadata": {
    "collapsed": false,
    "ExecuteTime": {
     "end_time": "2025-03-23T10:24:09.071669Z",
     "start_time": "2025-03-23T10:24:09.057395Z"
    }
   },
   "id": "88c469ff6368660f",
   "execution_count": 87
  },
  {
   "cell_type": "markdown",
   "source": [
    "This solution is most effective when combined with logical expressions."
   ],
   "metadata": {
    "collapsed": false
   },
   "id": "c55839a3d804ef6b"
  },
  {
   "cell_type": "code",
   "outputs": [
    {
     "data": {
      "text/plain": "       date of birth interests  weight  kids\nalice           1985     Bikes      68   NaN\nbob             1984   Dancing      83   3.0",
      "text/html": "<div>\n<style scoped>\n    .dataframe tbody tr th:only-of-type {\n        vertical-align: middle;\n    }\n\n    .dataframe tbody tr th {\n        vertical-align: top;\n    }\n\n    .dataframe thead th {\n        text-align: right;\n    }\n</style>\n<table border=\"1\" class=\"dataframe\">\n  <thead>\n    <tr style=\"text-align: right;\">\n      <th></th>\n      <th>date of birth</th>\n      <th>interests</th>\n      <th>weight</th>\n      <th>kids</th>\n    </tr>\n  </thead>\n  <tbody>\n    <tr>\n      <th>alice</th>\n      <td>1985</td>\n      <td>Bikes</td>\n      <td>68</td>\n      <td>NaN</td>\n    </tr>\n    <tr>\n      <th>bob</th>\n      <td>1984</td>\n      <td>Dancing</td>\n      <td>83</td>\n      <td>3.0</td>\n    </tr>\n  </tbody>\n</table>\n</div>"
     },
     "execution_count": 88,
     "metadata": {},
     "output_type": "execute_result"
    }
   ],
   "source": [
    "people[people['date of birth'] < 1990]"
   ],
   "metadata": {
    "collapsed": false,
    "ExecuteTime": {
     "end_time": "2025-03-23T10:24:56.923123Z",
     "start_time": "2025-03-23T10:24:56.909945Z"
    }
   },
   "id": "2144fd25b4982477",
   "execution_count": 88
  },
  {
   "cell_type": "markdown",
   "source": [
    "## Adding and removing columns\n",
    "\n",
    "In general the `DataFrame` objects can be treated as dictionaries of `Series` objects, so the following technique will work fine:"
   ],
   "metadata": {
    "collapsed": false
   },
   "id": "83595b34f4f511f3"
  },
  {
   "cell_type": "code",
   "outputs": [
    {
     "data": {
      "text/plain": "       date of birth interests  weight  kids\nalice           1985     Bikes      68   NaN\nbob             1984   Dancing      83   3.0\ncarol           1992       NaN     112   0.0",
      "text/html": "<div>\n<style scoped>\n    .dataframe tbody tr th:only-of-type {\n        vertical-align: middle;\n    }\n\n    .dataframe tbody tr th {\n        vertical-align: top;\n    }\n\n    .dataframe thead th {\n        text-align: right;\n    }\n</style>\n<table border=\"1\" class=\"dataframe\">\n  <thead>\n    <tr style=\"text-align: right;\">\n      <th></th>\n      <th>date of birth</th>\n      <th>interests</th>\n      <th>weight</th>\n      <th>kids</th>\n    </tr>\n  </thead>\n  <tbody>\n    <tr>\n      <th>alice</th>\n      <td>1985</td>\n      <td>Bikes</td>\n      <td>68</td>\n      <td>NaN</td>\n    </tr>\n    <tr>\n      <th>bob</th>\n      <td>1984</td>\n      <td>Dancing</td>\n      <td>83</td>\n      <td>3.0</td>\n    </tr>\n    <tr>\n      <th>carol</th>\n      <td>1992</td>\n      <td>NaN</td>\n      <td>112</td>\n      <td>0.0</td>\n    </tr>\n  </tbody>\n</table>\n</div>"
     },
     "execution_count": 89,
     "metadata": {},
     "output_type": "execute_result"
    }
   ],
   "source": [
    "people"
   ],
   "metadata": {
    "collapsed": false,
    "ExecuteTime": {
     "end_time": "2025-03-23T10:26:50.599159Z",
     "start_time": "2025-03-23T10:26:50.588725Z"
    }
   },
   "id": "4855b7c42c4fcb6",
   "execution_count": 89
  },
  {
   "cell_type": "code",
   "outputs": [
    {
     "data": {
      "text/plain": "      interests  weight  age  above 30 years\nalice     Bikes      68   40            True\nbob     Dancing      83   41            True\ncarol       NaN     112   33            True",
      "text/html": "<div>\n<style scoped>\n    .dataframe tbody tr th:only-of-type {\n        vertical-align: middle;\n    }\n\n    .dataframe tbody tr th {\n        vertical-align: top;\n    }\n\n    .dataframe thead th {\n        text-align: right;\n    }\n</style>\n<table border=\"1\" class=\"dataframe\">\n  <thead>\n    <tr style=\"text-align: right;\">\n      <th></th>\n      <th>interests</th>\n      <th>weight</th>\n      <th>age</th>\n      <th>above 30 years</th>\n    </tr>\n  </thead>\n  <tbody>\n    <tr>\n      <th>alice</th>\n      <td>Bikes</td>\n      <td>68</td>\n      <td>40</td>\n      <td>True</td>\n    </tr>\n    <tr>\n      <th>bob</th>\n      <td>Dancing</td>\n      <td>83</td>\n      <td>41</td>\n      <td>True</td>\n    </tr>\n    <tr>\n      <th>carol</th>\n      <td>NaN</td>\n      <td>112</td>\n      <td>33</td>\n      <td>True</td>\n    </tr>\n  </tbody>\n</table>\n</div>"
     },
     "execution_count": 91,
     "metadata": {},
     "output_type": "execute_result"
    }
   ],
   "source": [
    "people['age'] = 2025 - people['date of birth']  # adds new column 'age'\n",
    "people['above 30 years'] = people['age'] > 30   # adds new column 'above 30 years'\n",
    "birthyears = people.pop('date of birth')\n",
    "del people['kids']\n",
    "\n",
    "people"
   ],
   "metadata": {
    "collapsed": false,
    "ExecuteTime": {
     "end_time": "2025-03-23T10:29:24.119227Z",
     "start_time": "2025-03-23T10:29:24.106314Z"
    }
   },
   "id": "20e93587c79c583",
   "execution_count": 91
  },
  {
   "cell_type": "code",
   "outputs": [
    {
     "data": {
      "text/plain": "alice    1985\nbob      1984\ncarol    1992\nName: date of birth, dtype: int64"
     },
     "execution_count": 92,
     "metadata": {},
     "output_type": "execute_result"
    }
   ],
   "source": [
    "birthyears"
   ],
   "metadata": {
    "collapsed": false,
    "ExecuteTime": {
     "end_time": "2025-03-23T10:29:38.563003Z",
     "start_time": "2025-03-23T10:29:38.554689Z"
    }
   },
   "id": "34911c494440e606",
   "execution_count": 92
  },
  {
   "cell_type": "markdown",
   "source": [
    "The new column must contain the same number of rows. Missing rows are filled with NaN values, while excess rows are ignored."
   ],
   "metadata": {
    "collapsed": false
   },
   "id": "94e6c5c12afd49d"
  },
  {
   "cell_type": "code",
   "outputs": [
    {
     "data": {
      "text/plain": "      interests  weight  age  above 30 years  pets\nalice     Bikes      68   40            True   NaN\nbob     Dancing      83   41            True   0.0\ncarol       NaN     112   33            True   5.0",
      "text/html": "<div>\n<style scoped>\n    .dataframe tbody tr th:only-of-type {\n        vertical-align: middle;\n    }\n\n    .dataframe tbody tr th {\n        vertical-align: top;\n    }\n\n    .dataframe thead th {\n        text-align: right;\n    }\n</style>\n<table border=\"1\" class=\"dataframe\">\n  <thead>\n    <tr style=\"text-align: right;\">\n      <th></th>\n      <th>interests</th>\n      <th>weight</th>\n      <th>age</th>\n      <th>above 30 years</th>\n      <th>pets</th>\n    </tr>\n  </thead>\n  <tbody>\n    <tr>\n      <th>alice</th>\n      <td>Bikes</td>\n      <td>68</td>\n      <td>40</td>\n      <td>True</td>\n      <td>NaN</td>\n    </tr>\n    <tr>\n      <th>bob</th>\n      <td>Dancing</td>\n      <td>83</td>\n      <td>41</td>\n      <td>True</td>\n      <td>0.0</td>\n    </tr>\n    <tr>\n      <th>carol</th>\n      <td>NaN</td>\n      <td>112</td>\n      <td>33</td>\n      <td>True</td>\n      <td>5.0</td>\n    </tr>\n  </tbody>\n</table>\n</div>"
     },
     "execution_count": 93,
     "metadata": {},
     "output_type": "execute_result"
    }
   ],
   "source": [
    "people['pets'] = pd.Series({'bob': 0, 'carol': 5, 'eugene': 1})  # alice is missing, eugene is ignored\n",
    "people"
   ],
   "metadata": {
    "collapsed": false,
    "ExecuteTime": {
     "end_time": "2025-03-23T10:31:06.031522Z",
     "start_time": "2025-03-23T10:31:06.018447Z"
    }
   },
   "id": "f8dee5b43e19afb6",
   "execution_count": 93
  },
  {
   "cell_type": "markdown",
   "source": [
    "By default, the new column is placed at the end (on the right). Using the `insert()` method, it can inserted it anywhere."
   ],
   "metadata": {
    "collapsed": false
   },
   "id": "de47ae73b96c223c"
  },
  {
   "cell_type": "code",
   "outputs": [
    {
     "data": {
      "text/plain": "      interests  height  weight  age  above 30 years  pets\nalice     Bikes     172      68   40            True   NaN\nbob     Dancing     181      83   41            True   0.0\ncarol       NaN     185     112   33            True   5.0",
      "text/html": "<div>\n<style scoped>\n    .dataframe tbody tr th:only-of-type {\n        vertical-align: middle;\n    }\n\n    .dataframe tbody tr th {\n        vertical-align: top;\n    }\n\n    .dataframe thead th {\n        text-align: right;\n    }\n</style>\n<table border=\"1\" class=\"dataframe\">\n  <thead>\n    <tr style=\"text-align: right;\">\n      <th></th>\n      <th>interests</th>\n      <th>height</th>\n      <th>weight</th>\n      <th>age</th>\n      <th>above 30 years</th>\n      <th>pets</th>\n    </tr>\n  </thead>\n  <tbody>\n    <tr>\n      <th>alice</th>\n      <td>Bikes</td>\n      <td>172</td>\n      <td>68</td>\n      <td>40</td>\n      <td>True</td>\n      <td>NaN</td>\n    </tr>\n    <tr>\n      <th>bob</th>\n      <td>Dancing</td>\n      <td>181</td>\n      <td>83</td>\n      <td>41</td>\n      <td>True</td>\n      <td>0.0</td>\n    </tr>\n    <tr>\n      <th>carol</th>\n      <td>NaN</td>\n      <td>185</td>\n      <td>112</td>\n      <td>33</td>\n      <td>True</td>\n      <td>5.0</td>\n    </tr>\n  </tbody>\n</table>\n</div>"
     },
     "execution_count": 94,
     "metadata": {},
     "output_type": "execute_result"
    }
   ],
   "source": [
    "people.insert(1, 'height', [172, 181, 185])\n",
    "people"
   ],
   "metadata": {
    "collapsed": false,
    "ExecuteTime": {
     "end_time": "2025-03-23T10:32:03.888708Z",
     "start_time": "2025-03-23T10:32:03.870694Z"
    }
   },
   "id": "315440617365c58d",
   "execution_count": 94
  },
  {
   "cell_type": "markdown",
   "source": [
    "## Assigning new columns\n",
    "\n",
    "Also new columns can be created by calling the `assign()` method. New `DataFrame` object is returned, while the original one remains unmodified."
   ],
   "metadata": {
    "collapsed": false
   },
   "id": "9373f757f8dcc857"
  },
  {
   "cell_type": "code",
   "outputs": [
    {
     "data": {
      "text/plain": "      interests  height  weight  age  above 30 years  pets  body_mass_index  \\\nalice     Bikes     172      68   40            True   NaN        22.985398   \nbob     Dancing     181      83   41            True   0.0        25.335002   \ncarol       NaN     185     112   33            True   5.0        32.724617   \n\n       has_pets  \nalice     False  \nbob       False  \ncarol      True  ",
      "text/html": "<div>\n<style scoped>\n    .dataframe tbody tr th:only-of-type {\n        vertical-align: middle;\n    }\n\n    .dataframe tbody tr th {\n        vertical-align: top;\n    }\n\n    .dataframe thead th {\n        text-align: right;\n    }\n</style>\n<table border=\"1\" class=\"dataframe\">\n  <thead>\n    <tr style=\"text-align: right;\">\n      <th></th>\n      <th>interests</th>\n      <th>height</th>\n      <th>weight</th>\n      <th>age</th>\n      <th>above 30 years</th>\n      <th>pets</th>\n      <th>body_mass_index</th>\n      <th>has_pets</th>\n    </tr>\n  </thead>\n  <tbody>\n    <tr>\n      <th>alice</th>\n      <td>Bikes</td>\n      <td>172</td>\n      <td>68</td>\n      <td>40</td>\n      <td>True</td>\n      <td>NaN</td>\n      <td>22.985398</td>\n      <td>False</td>\n    </tr>\n    <tr>\n      <th>bob</th>\n      <td>Dancing</td>\n      <td>181</td>\n      <td>83</td>\n      <td>41</td>\n      <td>True</td>\n      <td>0.0</td>\n      <td>25.335002</td>\n      <td>False</td>\n    </tr>\n    <tr>\n      <th>carol</th>\n      <td>NaN</td>\n      <td>185</td>\n      <td>112</td>\n      <td>33</td>\n      <td>True</td>\n      <td>5.0</td>\n      <td>32.724617</td>\n      <td>True</td>\n    </tr>\n  </tbody>\n</table>\n</div>"
     },
     "execution_count": 95,
     "metadata": {},
     "output_type": "execute_result"
    }
   ],
   "source": [
    "people.assign(\n",
    "    body_mass_index = people['weight'] / (people['height'] / 100) ** 2,\n",
    "    has_pets = people['pets'] > 0\n",
    ")"
   ],
   "metadata": {
    "collapsed": false,
    "ExecuteTime": {
     "end_time": "2025-03-23T11:04:56.998964Z",
     "start_time": "2025-03-23T11:04:56.985064Z"
    }
   },
   "id": "67b69787a3c349ec",
   "execution_count": 95
  },
  {
   "cell_type": "markdown",
   "source": [
    "Columns created within the same assignment cannot be accessed."
   ],
   "metadata": {
    "collapsed": false
   },
   "id": "f5d97fd8a7013f2d"
  },
  {
   "cell_type": "code",
   "outputs": [
    {
     "name": "stdout",
     "output_type": "stream",
     "text": [
      "Key error: 'body_mass_index'\n"
     ]
    }
   ],
   "source": [
    "try:\n",
    "    people.assign(\n",
    "        body_mass_index = people['weight'] / (people['height'] / 100) ** 2,\n",
    "        overweight = people['body_mass_index'] > 25\n",
    "    )\n",
    "except KeyError as e:\n",
    "    print(f'Key error: {e}')"
   ],
   "metadata": {
    "collapsed": false,
    "ExecuteTime": {
     "end_time": "2025-03-23T11:07:12.577753Z",
     "start_time": "2025-03-23T11:07:12.568261Z"
    }
   },
   "id": "1b789b5bea16cea1",
   "execution_count": 96
  },
  {
   "cell_type": "markdown",
   "source": [
    "The solution is to divide this allocation into two smaller, consecutive allocations."
   ],
   "metadata": {
    "collapsed": false
   },
   "id": "27a66032348d0aff"
  },
  {
   "cell_type": "code",
   "outputs": [
    {
     "data": {
      "text/plain": "      interests  height  weight  age  above 30 years  pets  body_mass_index  \\\nalice     Bikes     172      68   40            True   NaN        22.985398   \nbob     Dancing     181      83   41            True   0.0        25.335002   \ncarol       NaN     185     112   33            True   5.0        32.724617   \n\n       overweight  \nalice       False  \nbob          True  \ncarol        True  ",
      "text/html": "<div>\n<style scoped>\n    .dataframe tbody tr th:only-of-type {\n        vertical-align: middle;\n    }\n\n    .dataframe tbody tr th {\n        vertical-align: top;\n    }\n\n    .dataframe thead th {\n        text-align: right;\n    }\n</style>\n<table border=\"1\" class=\"dataframe\">\n  <thead>\n    <tr style=\"text-align: right;\">\n      <th></th>\n      <th>interests</th>\n      <th>height</th>\n      <th>weight</th>\n      <th>age</th>\n      <th>above 30 years</th>\n      <th>pets</th>\n      <th>body_mass_index</th>\n      <th>overweight</th>\n    </tr>\n  </thead>\n  <tbody>\n    <tr>\n      <th>alice</th>\n      <td>Bikes</td>\n      <td>172</td>\n      <td>68</td>\n      <td>40</td>\n      <td>True</td>\n      <td>NaN</td>\n      <td>22.985398</td>\n      <td>False</td>\n    </tr>\n    <tr>\n      <th>bob</th>\n      <td>Dancing</td>\n      <td>181</td>\n      <td>83</td>\n      <td>41</td>\n      <td>True</td>\n      <td>0.0</td>\n      <td>25.335002</td>\n      <td>True</td>\n    </tr>\n    <tr>\n      <th>carol</th>\n      <td>NaN</td>\n      <td>185</td>\n      <td>112</td>\n      <td>33</td>\n      <td>True</td>\n      <td>5.0</td>\n      <td>32.724617</td>\n      <td>True</td>\n    </tr>\n  </tbody>\n</table>\n</div>"
     },
     "execution_count": 103,
     "metadata": {},
     "output_type": "execute_result"
    }
   ],
   "source": [
    "d6 = people.assign(\n",
    "    body_mass_index = people['weight'] / (people['height'] / 100) ** 2)\n",
    "d6.assign(overweight = d6['body_mass_index'] > 25)"
   ],
   "metadata": {
    "collapsed": false,
    "ExecuteTime": {
     "end_time": "2025-03-23T11:09:34.631697Z",
     "start_time": "2025-03-23T11:09:34.614314Z"
    }
   },
   "id": "77ec59775a147793",
   "execution_count": 103
  },
  {
   "cell_type": "markdown",
   "source": [
    "Creating a temporary variable `d6` is not very convenient."
   ],
   "metadata": {
    "collapsed": false
   },
   "id": "d1654bf4fa5702f1"
  },
  {
   "cell_type": "code",
   "outputs": [
    {
     "name": "stdout",
     "output_type": "stream",
     "text": [
      "Key error: 'body_mass_index'\n"
     ]
    }
   ],
   "source": [
    "try:\n",
    "    (people\n",
    "    .assign(body_mass_index = people['weight'] / (people['height'] / 100) ** 2)\n",
    "    .assign(overweight = people['body_mass_index'] > 25)\n",
    "     )\n",
    "except KeyError as e:\n",
    "    print(f'Key error: {e}')"
   ],
   "metadata": {
    "collapsed": false,
    "ExecuteTime": {
     "end_time": "2025-03-23T11:14:04.211567Z",
     "start_time": "2025-03-23T11:14:04.202175Z"
    }
   },
   "id": "9df3903f189a66b",
   "execution_count": 104
  },
  {
   "cell_type": "markdown",
   "source": [
    "Solution: a function can be passed to the `assign()` method (usually a `lambda` function) and it will be called with a `DataFrame` object as parameter."
   ],
   "metadata": {
    "collapsed": false
   },
   "id": "d8858579b99d7f92"
  },
  {
   "cell_type": "code",
   "outputs": [
    {
     "data": {
      "text/plain": "      interests  height  weight  age  above 30 years  pets  body_mass_index  \\\nalice     Bikes     172      68   40            True   NaN        22.985398   \nbob     Dancing     181      83   41            True   0.0        25.335002   \ncarol       NaN     185     112   33            True   5.0        32.724617   \n\n       overweight  \nalice       False  \nbob          True  \ncarol        True  ",
      "text/html": "<div>\n<style scoped>\n    .dataframe tbody tr th:only-of-type {\n        vertical-align: middle;\n    }\n\n    .dataframe tbody tr th {\n        vertical-align: top;\n    }\n\n    .dataframe thead th {\n        text-align: right;\n    }\n</style>\n<table border=\"1\" class=\"dataframe\">\n  <thead>\n    <tr style=\"text-align: right;\">\n      <th></th>\n      <th>interests</th>\n      <th>height</th>\n      <th>weight</th>\n      <th>age</th>\n      <th>above 30 years</th>\n      <th>pets</th>\n      <th>body_mass_index</th>\n      <th>overweight</th>\n    </tr>\n  </thead>\n  <tbody>\n    <tr>\n      <th>alice</th>\n      <td>Bikes</td>\n      <td>172</td>\n      <td>68</td>\n      <td>40</td>\n      <td>True</td>\n      <td>NaN</td>\n      <td>22.985398</td>\n      <td>False</td>\n    </tr>\n    <tr>\n      <th>bob</th>\n      <td>Dancing</td>\n      <td>181</td>\n      <td>83</td>\n      <td>41</td>\n      <td>True</td>\n      <td>0.0</td>\n      <td>25.335002</td>\n      <td>True</td>\n    </tr>\n    <tr>\n      <th>carol</th>\n      <td>NaN</td>\n      <td>185</td>\n      <td>112</td>\n      <td>33</td>\n      <td>True</td>\n      <td>5.0</td>\n      <td>32.724617</td>\n      <td>True</td>\n    </tr>\n  </tbody>\n</table>\n</div>"
     },
     "execution_count": 105,
     "metadata": {},
     "output_type": "execute_result"
    }
   ],
   "source": [
    "(people\n",
    " .assign(body_mass_index = lambda df: df['weight'] / (df['height'] / 100) ** 2)\n",
    " .assign(overweight = lambda df: df['body_mass_index'] > 25)\n",
    ")"
   ],
   "metadata": {
    "collapsed": false,
    "ExecuteTime": {
     "end_time": "2025-03-23T11:16:07.645195Z",
     "start_time": "2025-03-23T11:16:07.629706Z"
    }
   },
   "id": "5ade186217cc4019",
   "execution_count": 105
  },
  {
   "cell_type": "markdown",
   "source": [
    "## Expression evaluation\n",
    "\n",
    "Expression evaluation is a feature of the pandas module. It uses the `numexpr` library, which must be installed."
   ],
   "metadata": {
    "collapsed": false
   },
   "id": "3a4c1bdd78b6af60"
  },
  {
   "cell_type": "code",
   "outputs": [
    {
     "data": {
      "text/plain": "alice    False\nbob       True\ncarol     True\ndtype: bool"
     },
     "execution_count": 106,
     "metadata": {},
     "output_type": "execute_result"
    }
   ],
   "source": [
    "people.eval('weight / (height/100) ** 2 > 25')"
   ],
   "metadata": {
    "collapsed": false,
    "ExecuteTime": {
     "end_time": "2025-03-23T11:17:28.780848Z",
     "start_time": "2025-03-23T11:17:28.766176Z"
    }
   },
   "id": "ed8ce26bc524eb27",
   "execution_count": 106
  },
  {
   "cell_type": "markdown",
   "source": [
    "Allocation expressions are also supported. The `inplace=True` parameter is used to modify the `DataFrame` object directly, rather than its copy."
   ],
   "metadata": {
    "collapsed": false
   },
   "id": "e1684d420ec2a371"
  },
  {
   "cell_type": "code",
   "outputs": [
    {
     "data": {
      "text/plain": "      interests  height  weight  age  above 30 years  pets  body_mass_index\nalice     Bikes     172      68   40            True   NaN        22.985398\nbob     Dancing     181      83   41            True   0.0        25.335002\ncarol       NaN     185     112   33            True   5.0        32.724617",
      "text/html": "<div>\n<style scoped>\n    .dataframe tbody tr th:only-of-type {\n        vertical-align: middle;\n    }\n\n    .dataframe tbody tr th {\n        vertical-align: top;\n    }\n\n    .dataframe thead th {\n        text-align: right;\n    }\n</style>\n<table border=\"1\" class=\"dataframe\">\n  <thead>\n    <tr style=\"text-align: right;\">\n      <th></th>\n      <th>interests</th>\n      <th>height</th>\n      <th>weight</th>\n      <th>age</th>\n      <th>above 30 years</th>\n      <th>pets</th>\n      <th>body_mass_index</th>\n    </tr>\n  </thead>\n  <tbody>\n    <tr>\n      <th>alice</th>\n      <td>Bikes</td>\n      <td>172</td>\n      <td>68</td>\n      <td>40</td>\n      <td>True</td>\n      <td>NaN</td>\n      <td>22.985398</td>\n    </tr>\n    <tr>\n      <th>bob</th>\n      <td>Dancing</td>\n      <td>181</td>\n      <td>83</td>\n      <td>41</td>\n      <td>True</td>\n      <td>0.0</td>\n      <td>25.335002</td>\n    </tr>\n    <tr>\n      <th>carol</th>\n      <td>NaN</td>\n      <td>185</td>\n      <td>112</td>\n      <td>33</td>\n      <td>True</td>\n      <td>5.0</td>\n      <td>32.724617</td>\n    </tr>\n  </tbody>\n</table>\n</div>"
     },
     "execution_count": 107,
     "metadata": {},
     "output_type": "execute_result"
    }
   ],
   "source": [
    "people.eval('body_mass_index = weight / (height/100) ** 2', inplace=True)\n",
    "people"
   ],
   "metadata": {
    "collapsed": false,
    "ExecuteTime": {
     "end_time": "2025-03-23T11:20:01.375645Z",
     "start_time": "2025-03-23T11:20:01.356862Z"
    }
   },
   "id": "74de9f2e90dde266",
   "execution_count": 107
  },
  {
   "cell_type": "markdown",
   "source": [
    "Local or global variable can be used in an expression by prefixing it with `'@'`."
   ],
   "metadata": {
    "collapsed": false
   },
   "id": "5691740eb86a83cf"
  },
  {
   "cell_type": "code",
   "outputs": [
    {
     "data": {
      "text/plain": "      interests  height  weight  age  above 30 years  pets  body_mass_index  \\\nalice     Bikes     172      68   40            True   NaN        22.985398   \nbob     Dancing     181      83   41            True   0.0        25.335002   \ncarol       NaN     185     112   33            True   5.0        32.724617   \n\n       overweight  \nalice       False  \nbob         False  \ncarol        True  ",
      "text/html": "<div>\n<style scoped>\n    .dataframe tbody tr th:only-of-type {\n        vertical-align: middle;\n    }\n\n    .dataframe tbody tr th {\n        vertical-align: top;\n    }\n\n    .dataframe thead th {\n        text-align: right;\n    }\n</style>\n<table border=\"1\" class=\"dataframe\">\n  <thead>\n    <tr style=\"text-align: right;\">\n      <th></th>\n      <th>interests</th>\n      <th>height</th>\n      <th>weight</th>\n      <th>age</th>\n      <th>above 30 years</th>\n      <th>pets</th>\n      <th>body_mass_index</th>\n      <th>overweight</th>\n    </tr>\n  </thead>\n  <tbody>\n    <tr>\n      <th>alice</th>\n      <td>Bikes</td>\n      <td>172</td>\n      <td>68</td>\n      <td>40</td>\n      <td>True</td>\n      <td>NaN</td>\n      <td>22.985398</td>\n      <td>False</td>\n    </tr>\n    <tr>\n      <th>bob</th>\n      <td>Dancing</td>\n      <td>181</td>\n      <td>83</td>\n      <td>41</td>\n      <td>True</td>\n      <td>0.0</td>\n      <td>25.335002</td>\n      <td>False</td>\n    </tr>\n    <tr>\n      <th>carol</th>\n      <td>NaN</td>\n      <td>185</td>\n      <td>112</td>\n      <td>33</td>\n      <td>True</td>\n      <td>5.0</td>\n      <td>32.724617</td>\n      <td>True</td>\n    </tr>\n  </tbody>\n</table>\n</div>"
     },
     "execution_count": 108,
     "metadata": {},
     "output_type": "execute_result"
    }
   ],
   "source": [
    "overweight_threshold = 30\n",
    "people.eval('overweight = body_mass_index > @overweight_threshold', inplace=True)\n",
    "people"
   ],
   "metadata": {
    "collapsed": false,
    "ExecuteTime": {
     "end_time": "2025-03-23T11:21:25.885333Z",
     "start_time": "2025-03-23T11:21:25.868111Z"
    }
   },
   "id": "517c5f039de62191",
   "execution_count": 108
  },
  {
   "cell_type": "markdown",
   "source": [
    "## Queries on a `DataFrame` object\n",
    "\n",
    "The `query()` method allows to filter a `DataFrame` object based on a query expression."
   ],
   "metadata": {
    "collapsed": false
   },
   "id": "f3f8e8b2d9460afa"
  },
  {
   "cell_type": "code",
   "outputs": [
    {
     "data": {
      "text/plain": "    interests  height  weight  age  above 30 years  pets  body_mass_index  \\\nbob   Dancing     181      83   41            True   0.0        25.335002   \n\n     overweight  \nbob       False  ",
      "text/html": "<div>\n<style scoped>\n    .dataframe tbody tr th:only-of-type {\n        vertical-align: middle;\n    }\n\n    .dataframe tbody tr th {\n        vertical-align: top;\n    }\n\n    .dataframe thead th {\n        text-align: right;\n    }\n</style>\n<table border=\"1\" class=\"dataframe\">\n  <thead>\n    <tr style=\"text-align: right;\">\n      <th></th>\n      <th>interests</th>\n      <th>height</th>\n      <th>weight</th>\n      <th>age</th>\n      <th>above 30 years</th>\n      <th>pets</th>\n      <th>body_mass_index</th>\n      <th>overweight</th>\n    </tr>\n  </thead>\n  <tbody>\n    <tr>\n      <th>bob</th>\n      <td>Dancing</td>\n      <td>181</td>\n      <td>83</td>\n      <td>41</td>\n      <td>True</td>\n      <td>0.0</td>\n      <td>25.335002</td>\n      <td>False</td>\n    </tr>\n  </tbody>\n</table>\n</div>"
     },
     "execution_count": 109,
     "metadata": {},
     "output_type": "execute_result"
    }
   ],
   "source": [
    "people.query('age > 30 and pets == 0')"
   ],
   "metadata": {
    "collapsed": false,
    "ExecuteTime": {
     "end_time": "2025-03-23T11:24:27.398363Z",
     "start_time": "2025-03-23T11:24:27.380038Z"
    }
   },
   "id": "cd0d79089a6ece19",
   "execution_count": 109
  },
  {
   "cell_type": "markdown",
   "source": [
    "## Sorting a `DataFrame` object\n",
    "\n",
    "`DataFrame` object can be sorted by calling its `sort_index` method. By default, rows are sorted based on the index label in ascending order."
   ],
   "metadata": {
    "collapsed": false
   },
   "id": "2a00d12dc66d8fc7"
  },
  {
   "cell_type": "code",
   "outputs": [
    {
     "data": {
      "text/plain": "      interests  height  weight  age  above 30 years  pets  body_mass_index  \\\ncarol       NaN     185     112   33            True   5.0        32.724617   \nbob     Dancing     181      83   41            True   0.0        25.335002   \nalice     Bikes     172      68   40            True   NaN        22.985398   \n\n       overweight  \ncarol        True  \nbob         False  \nalice       False  ",
      "text/html": "<div>\n<style scoped>\n    .dataframe tbody tr th:only-of-type {\n        vertical-align: middle;\n    }\n\n    .dataframe tbody tr th {\n        vertical-align: top;\n    }\n\n    .dataframe thead th {\n        text-align: right;\n    }\n</style>\n<table border=\"1\" class=\"dataframe\">\n  <thead>\n    <tr style=\"text-align: right;\">\n      <th></th>\n      <th>interests</th>\n      <th>height</th>\n      <th>weight</th>\n      <th>age</th>\n      <th>above 30 years</th>\n      <th>pets</th>\n      <th>body_mass_index</th>\n      <th>overweight</th>\n    </tr>\n  </thead>\n  <tbody>\n    <tr>\n      <th>carol</th>\n      <td>NaN</td>\n      <td>185</td>\n      <td>112</td>\n      <td>33</td>\n      <td>True</td>\n      <td>5.0</td>\n      <td>32.724617</td>\n      <td>True</td>\n    </tr>\n    <tr>\n      <th>bob</th>\n      <td>Dancing</td>\n      <td>181</td>\n      <td>83</td>\n      <td>41</td>\n      <td>True</td>\n      <td>0.0</td>\n      <td>25.335002</td>\n      <td>False</td>\n    </tr>\n    <tr>\n      <th>alice</th>\n      <td>Bikes</td>\n      <td>172</td>\n      <td>68</td>\n      <td>40</td>\n      <td>True</td>\n      <td>NaN</td>\n      <td>22.985398</td>\n      <td>False</td>\n    </tr>\n  </tbody>\n</table>\n</div>"
     },
     "execution_count": 110,
     "metadata": {},
     "output_type": "execute_result"
    }
   ],
   "source": [
    "people.sort_index(ascending=False)"
   ],
   "metadata": {
    "collapsed": false,
    "ExecuteTime": {
     "end_time": "2025-03-23T11:25:22.552745Z",
     "start_time": "2025-03-23T11:25:22.538174Z"
    }
   },
   "id": "dbcbae0c112cde9a",
   "execution_count": 110
  },
  {
   "cell_type": "markdown",
   "source": [
    "`sort_index` method returned a sorted *copy* of the `DataFrame` object. To modify the `people` object directly, the `inplace` argument can be set to `True`. Furthermore, by setting the `axis=1` parameter, columns can be sorted instead of rows."
   ],
   "metadata": {
    "collapsed": false
   },
   "id": "1ec799bc8524b519"
  },
  {
   "cell_type": "code",
   "outputs": [
    {
     "data": {
      "text/plain": "       above 30 years  age  body_mass_index  height interests  overweight  \\\nalice            True   40        22.985398     172     Bikes       False   \nbob              True   41        25.335002     181   Dancing       False   \ncarol            True   33        32.724617     185       NaN        True   \n\n       pets  weight  \nalice   NaN      68  \nbob     0.0      83  \ncarol   5.0     112  ",
      "text/html": "<div>\n<style scoped>\n    .dataframe tbody tr th:only-of-type {\n        vertical-align: middle;\n    }\n\n    .dataframe tbody tr th {\n        vertical-align: top;\n    }\n\n    .dataframe thead th {\n        text-align: right;\n    }\n</style>\n<table border=\"1\" class=\"dataframe\">\n  <thead>\n    <tr style=\"text-align: right;\">\n      <th></th>\n      <th>above 30 years</th>\n      <th>age</th>\n      <th>body_mass_index</th>\n      <th>height</th>\n      <th>interests</th>\n      <th>overweight</th>\n      <th>pets</th>\n      <th>weight</th>\n    </tr>\n  </thead>\n  <tbody>\n    <tr>\n      <th>alice</th>\n      <td>True</td>\n      <td>40</td>\n      <td>22.985398</td>\n      <td>172</td>\n      <td>Bikes</td>\n      <td>False</td>\n      <td>NaN</td>\n      <td>68</td>\n    </tr>\n    <tr>\n      <th>bob</th>\n      <td>True</td>\n      <td>41</td>\n      <td>25.335002</td>\n      <td>181</td>\n      <td>Dancing</td>\n      <td>False</td>\n      <td>0.0</td>\n      <td>83</td>\n    </tr>\n    <tr>\n      <th>carol</th>\n      <td>True</td>\n      <td>33</td>\n      <td>32.724617</td>\n      <td>185</td>\n      <td>NaN</td>\n      <td>True</td>\n      <td>5.0</td>\n      <td>112</td>\n    </tr>\n  </tbody>\n</table>\n</div>"
     },
     "execution_count": 112,
     "metadata": {},
     "output_type": "execute_result"
    }
   ],
   "source": [
    "people.sort_index(axis=1, inplace=True)\n",
    "people"
   ],
   "metadata": {
    "collapsed": false,
    "ExecuteTime": {
     "end_time": "2025-03-23T11:26:53.321197Z",
     "start_time": "2025-03-23T11:26:53.307528Z"
    }
   },
   "id": "5a6b5950ff96ce54",
   "execution_count": 112
  },
  {
   "cell_type": "markdown",
   "source": [
    "To sort a `DataFrame` object by values rather than labels, the `sort_values` method can be used with specified the column in which these values should be sorted."
   ],
   "metadata": {
    "collapsed": false
   },
   "id": "475afa31c9dc6009"
  },
  {
   "cell_type": "code",
   "outputs": [
    {
     "data": {
      "text/plain": "       above 30 years  age  body_mass_index  height interests  overweight  \\\ncarol            True   33        32.724617     185       NaN        True   \nalice            True   40        22.985398     172     Bikes       False   \nbob              True   41        25.335002     181   Dancing       False   \n\n       pets  weight  \ncarol   5.0     112  \nalice   NaN      68  \nbob     0.0      83  ",
      "text/html": "<div>\n<style scoped>\n    .dataframe tbody tr th:only-of-type {\n        vertical-align: middle;\n    }\n\n    .dataframe tbody tr th {\n        vertical-align: top;\n    }\n\n    .dataframe thead th {\n        text-align: right;\n    }\n</style>\n<table border=\"1\" class=\"dataframe\">\n  <thead>\n    <tr style=\"text-align: right;\">\n      <th></th>\n      <th>above 30 years</th>\n      <th>age</th>\n      <th>body_mass_index</th>\n      <th>height</th>\n      <th>interests</th>\n      <th>overweight</th>\n      <th>pets</th>\n      <th>weight</th>\n    </tr>\n  </thead>\n  <tbody>\n    <tr>\n      <th>carol</th>\n      <td>True</td>\n      <td>33</td>\n      <td>32.724617</td>\n      <td>185</td>\n      <td>NaN</td>\n      <td>True</td>\n      <td>5.0</td>\n      <td>112</td>\n    </tr>\n    <tr>\n      <th>alice</th>\n      <td>True</td>\n      <td>40</td>\n      <td>22.985398</td>\n      <td>172</td>\n      <td>Bikes</td>\n      <td>False</td>\n      <td>NaN</td>\n      <td>68</td>\n    </tr>\n    <tr>\n      <th>bob</th>\n      <td>True</td>\n      <td>41</td>\n      <td>25.335002</td>\n      <td>181</td>\n      <td>Dancing</td>\n      <td>False</td>\n      <td>0.0</td>\n      <td>83</td>\n    </tr>\n  </tbody>\n</table>\n</div>"
     },
     "execution_count": 113,
     "metadata": {},
     "output_type": "execute_result"
    }
   ],
   "source": [
    "people.sort_values(by='age', inplace=True)\n",
    "people"
   ],
   "metadata": {
    "collapsed": false,
    "ExecuteTime": {
     "end_time": "2025-03-23T11:29:09.496813Z",
     "start_time": "2025-03-23T11:29:09.483688Z"
    }
   },
   "id": "b3ce8d4381ad1902",
   "execution_count": 113
  },
  {
   "cell_type": "markdown",
   "source": [
    "## Graphing a `DataFrame` object"
   ],
   "metadata": {
    "collapsed": false
   },
   "id": "f3a9af351135ce5d"
  },
  {
   "cell_type": "code",
   "outputs": [
    {
     "data": {
      "text/plain": "<Figure size 640x480 with 1 Axes>",
      "image/png": "[encoded data removed]"
     },
     "metadata": {},
     "output_type": "display_data"
    }
   ],
   "source": [
    "people.sort_values(by='body_mass_index', inplace=True)\n",
    "people.plot(kind='line', x='body_mass_index', y=['height', 'weight'])\n",
    "plt.show()"
   ],
   "metadata": {
    "collapsed": false,
    "ExecuteTime": {
     "end_time": "2025-03-23T11:31:08.626550Z",
     "start_time": "2025-03-23T11:31:08.435661Z"
    }
   },
   "id": "8e05a356739dfc69",
   "execution_count": 114
  },
  {
   "cell_type": "markdown",
   "source": [
    "Additional arguments supported by matplotlib module functions can be passed. For example, a scatter plot can be created with passed a list of sizes using the `s` argument to the `scatter()` function."
   ],
   "metadata": {
    "collapsed": false
   },
   "id": "3341c576f7ceea74"
  },
  {
   "cell_type": "code",
   "outputs": [
    {
     "data": {
      "text/plain": "<Figure size 640x480 with 1 Axes>",
      "image/png": "[encoded data removed]"
     },
     "metadata": {},
     "output_type": "display_data"
    }
   ],
   "source": [
    "people.plot(kind='scatter', x='height', y='weight', s=[40, 120, 200])\n",
    "plt.show()"
   ],
   "metadata": {
    "collapsed": false,
    "ExecuteTime": {
     "end_time": "2025-03-23T11:33:06.751914Z",
     "start_time": "2025-03-23T11:33:06.590886Z"
    }
   },
   "id": "ecdc9611273827d6",
   "execution_count": 115
  },
  {
   "cell_type": "markdown",
   "source": [
    "## Operations on `DataFrame` objects\n",
    "\n",
    "The `DataFrame` object does not try to imitate NumPy arrays, but some similarities between the two classes of objects can be found."
   ],
   "metadata": {
    "collapsed": false
   },
   "id": "9869e45b0f9f32f9"
  },
  {
   "cell_type": "code",
   "outputs": [
    {
     "data": {
      "text/plain": "        sep  oct  nov\nalice     8    8    9\nbob      10    9    9\ncarol     4    8    2\ndarwin    9   10   10",
      "text/html": "<div>\n<style scoped>\n    .dataframe tbody tr th:only-of-type {\n        vertical-align: middle;\n    }\n\n    .dataframe tbody tr th {\n        vertical-align: top;\n    }\n\n    .dataframe thead th {\n        text-align: right;\n    }\n</style>\n<table border=\"1\" class=\"dataframe\">\n  <thead>\n    <tr style=\"text-align: right;\">\n      <th></th>\n      <th>sep</th>\n      <th>oct</th>\n      <th>nov</th>\n    </tr>\n  </thead>\n  <tbody>\n    <tr>\n      <th>alice</th>\n      <td>8</td>\n      <td>8</td>\n      <td>9</td>\n    </tr>\n    <tr>\n      <th>bob</th>\n      <td>10</td>\n      <td>9</td>\n      <td>9</td>\n    </tr>\n    <tr>\n      <th>carol</th>\n      <td>4</td>\n      <td>8</td>\n      <td>2</td>\n    </tr>\n    <tr>\n      <th>darwin</th>\n      <td>9</td>\n      <td>10</td>\n      <td>10</td>\n    </tr>\n  </tbody>\n</table>\n</div>"
     },
     "execution_count": 116,
     "metadata": {},
     "output_type": "execute_result"
    }
   ],
   "source": [
    "grades_array = np.array([[8, 8, 9], [10, 9, 9], [4, 8, 2], [9, 10, 10]])\n",
    "grades = pd.DataFrame(grades_array, columns=['sep', 'oct', 'nov'], index=['alice', 'bob', 'carol', 'darwin'])\n",
    "grades"
   ],
   "metadata": {
    "collapsed": false,
    "ExecuteTime": {
     "end_time": "2025-03-23T11:36:12.191118Z",
     "start_time": "2025-03-23T11:36:12.179170Z"
    }
   },
   "id": "3a7effef24d41511",
   "execution_count": 116
  },
  {
   "cell_type": "markdown",
   "source": [
    "The mathematical functions of the NumPy module can be applied to the `DataFrame` object; such a function is applied to all values."
   ],
   "metadata": {
    "collapsed": false
   },
   "id": "94a362cb0830ef03"
  },
  {
   "cell_type": "code",
   "outputs": [
    {
     "data": {
      "text/plain": "             sep       oct       nov\nalice   2.828427  2.828427  3.000000\nbob     3.162278  3.000000  3.000000\ncarol   2.000000  2.828427  1.414214\ndarwin  3.000000  3.162278  3.162278",
      "text/html": "<div>\n<style scoped>\n    .dataframe tbody tr th:only-of-type {\n        vertical-align: middle;\n    }\n\n    .dataframe tbody tr th {\n        vertical-align: top;\n    }\n\n    .dataframe thead th {\n        text-align: right;\n    }\n</style>\n<table border=\"1\" class=\"dataframe\">\n  <thead>\n    <tr style=\"text-align: right;\">\n      <th></th>\n      <th>sep</th>\n      <th>oct</th>\n      <th>nov</th>\n    </tr>\n  </thead>\n  <tbody>\n    <tr>\n      <th>alice</th>\n      <td>2.828427</td>\n      <td>2.828427</td>\n      <td>3.000000</td>\n    </tr>\n    <tr>\n      <th>bob</th>\n      <td>3.162278</td>\n      <td>3.000000</td>\n      <td>3.000000</td>\n    </tr>\n    <tr>\n      <th>carol</th>\n      <td>2.000000</td>\n      <td>2.828427</td>\n      <td>1.414214</td>\n    </tr>\n    <tr>\n      <th>darwin</th>\n      <td>3.000000</td>\n      <td>3.162278</td>\n      <td>3.162278</td>\n    </tr>\n  </tbody>\n</table>\n</div>"
     },
     "execution_count": 117,
     "metadata": {},
     "output_type": "execute_result"
    }
   ],
   "source": [
    "np.sqrt(grades)"
   ],
   "metadata": {
    "collapsed": false,
    "ExecuteTime": {
     "end_time": "2025-03-23T11:37:20.489838Z",
     "start_time": "2025-03-23T11:37:20.479685Z"
    }
   },
   "id": "7804540d912a4895",
   "execution_count": 117
  },
  {
   "cell_type": "markdown",
   "source": [
    "Similarly, adding a single value to a `DataFrame` object will add it to all elements of that object. This is called *broadcasting*."
   ],
   "metadata": {
    "collapsed": false
   },
   "id": "3d2e11886e4516cc"
  },
  {
   "cell_type": "code",
   "outputs": [
    {
     "data": {
      "text/plain": "        sep  oct  nov\nalice     9    9   10\nbob      11   10   10\ncarol     5    9    3\ndarwin   10   11   11",
      "text/html": "<div>\n<style scoped>\n    .dataframe tbody tr th:only-of-type {\n        vertical-align: middle;\n    }\n\n    .dataframe tbody tr th {\n        vertical-align: top;\n    }\n\n    .dataframe thead th {\n        text-align: right;\n    }\n</style>\n<table border=\"1\" class=\"dataframe\">\n  <thead>\n    <tr style=\"text-align: right;\">\n      <th></th>\n      <th>sep</th>\n      <th>oct</th>\n      <th>nov</th>\n    </tr>\n  </thead>\n  <tbody>\n    <tr>\n      <th>alice</th>\n      <td>9</td>\n      <td>9</td>\n      <td>10</td>\n    </tr>\n    <tr>\n      <th>bob</th>\n      <td>11</td>\n      <td>10</td>\n      <td>10</td>\n    </tr>\n    <tr>\n      <th>carol</th>\n      <td>5</td>\n      <td>9</td>\n      <td>3</td>\n    </tr>\n    <tr>\n      <th>darwin</th>\n      <td>10</td>\n      <td>11</td>\n      <td>11</td>\n    </tr>\n  </tbody>\n</table>\n</div>"
     },
     "execution_count": 118,
     "metadata": {},
     "output_type": "execute_result"
    }
   ],
   "source": [
    "grades + 1"
   ],
   "metadata": {
    "collapsed": false,
    "ExecuteTime": {
     "end_time": "2025-03-23T11:37:50.503055Z",
     "start_time": "2025-03-23T11:37:50.492394Z"
    }
   },
   "id": "dc114bd52806458a",
   "execution_count": 118
  },
  {
   "cell_type": "markdown",
   "source": [
    "The same, applies to the remaining binary operations, both arithmetic (`*`,`/`,`**`...) and conditional (`>`, `==`...):"
   ],
   "metadata": {
    "collapsed": false
   },
   "id": "69ead98024b3bb64"
  },
  {
   "cell_type": "code",
   "outputs": [
    {
     "data": {
      "text/plain": "          sep   oct    nov\nalice    True  True   True\nbob      True  True   True\ncarol   False  True  False\ndarwin   True  True   True",
      "text/html": "<div>\n<style scoped>\n    .dataframe tbody tr th:only-of-type {\n        vertical-align: middle;\n    }\n\n    .dataframe tbody tr th {\n        vertical-align: top;\n    }\n\n    .dataframe thead th {\n        text-align: right;\n    }\n</style>\n<table border=\"1\" class=\"dataframe\">\n  <thead>\n    <tr style=\"text-align: right;\">\n      <th></th>\n      <th>sep</th>\n      <th>oct</th>\n      <th>nov</th>\n    </tr>\n  </thead>\n  <tbody>\n    <tr>\n      <th>alice</th>\n      <td>True</td>\n      <td>True</td>\n      <td>True</td>\n    </tr>\n    <tr>\n      <th>bob</th>\n      <td>True</td>\n      <td>True</td>\n      <td>True</td>\n    </tr>\n    <tr>\n      <th>carol</th>\n      <td>False</td>\n      <td>True</td>\n      <td>False</td>\n    </tr>\n    <tr>\n      <th>darwin</th>\n      <td>True</td>\n      <td>True</td>\n      <td>True</td>\n    </tr>\n  </tbody>\n</table>\n</div>"
     },
     "execution_count": 119,
     "metadata": {},
     "output_type": "execute_result"
    }
   ],
   "source": [
    "grades >= 5"
   ],
   "metadata": {
    "collapsed": false,
    "ExecuteTime": {
     "end_time": "2025-03-23T11:38:25.539733Z",
     "start_time": "2025-03-23T11:38:25.529623Z"
    }
   },
   "id": "b021791588e0dfa3",
   "execution_count": 119
  },
  {
   "cell_type": "markdown",
   "source": [
    "Aggregation operations, such as calculating the maximum (`max`), sum (`sum`), or average (`mean`) of a `DataFrame` object, are applied to each column, and a `Series` object as the result is obtained."
   ],
   "metadata": {
    "collapsed": false
   },
   "id": "7951e8161fa55eee"
  },
  {
   "cell_type": "code",
   "outputs": [
    {
     "data": {
      "text/plain": "sep    7.75\noct    8.75\nnov    7.50\ndtype: float64"
     },
     "execution_count": 120,
     "metadata": {},
     "output_type": "execute_result"
    }
   ],
   "source": [
    "grades.mean()"
   ],
   "metadata": {
    "collapsed": false,
    "ExecuteTime": {
     "end_time": "2025-03-23T11:40:20.207050Z",
     "start_time": "2025-03-23T11:40:20.197754Z"
    }
   },
   "id": "dc0c1b6bdb114881",
   "execution_count": 120
  },
  {
   "cell_type": "markdown",
   "source": [
    "The `all` method is also an aggregate operation: it checks if all all values are `True` or not."
   ],
   "metadata": {
    "collapsed": false
   },
   "id": "e109b43914091b57"
  },
  {
   "cell_type": "code",
   "outputs": [
    {
     "data": {
      "text/plain": "sep    False\noct     True\nnov    False\ndtype: bool"
     },
     "execution_count": 121,
     "metadata": {},
     "output_type": "execute_result"
    }
   ],
   "source": [
    "(grades > 5).all()"
   ],
   "metadata": {
    "collapsed": false,
    "ExecuteTime": {
     "end_time": "2025-03-23T11:41:03.993922Z",
     "start_time": "2025-03-23T11:41:03.984079Z"
    }
   },
   "id": "fb0f20b7e50a2e14",
   "execution_count": 121
  },
  {
   "cell_type": "markdown",
   "source": [
    "In most of these functions an additional parameter `axis` can be added, which allows to specify the axis of the `DataFrame` object along which the operations are to be performed. By default, the axis is set to `axis=0`, which means that the operation will be performed vertically (across columns). Setting the value `axis=1` is needed to perform the operations horizontally (across rows)."
   ],
   "metadata": {
    "collapsed": false
   },
   "id": "53b68293346b7fc7"
  },
  {
   "cell_type": "code",
   "outputs": [
    {
     "data": {
      "text/plain": "alice      True\nbob        True\ncarol     False\ndarwin     True\ndtype: bool"
     },
     "execution_count": 122,
     "metadata": {},
     "output_type": "execute_result"
    }
   ],
   "source": [
    "(grades > 5).all(axis=1)"
   ],
   "metadata": {
    "collapsed": false,
    "ExecuteTime": {
     "end_time": "2025-03-23T11:42:34.547578Z",
     "start_time": "2025-03-23T11:42:34.538098Z"
    }
   },
   "id": "8d8bbd91a40dd63",
   "execution_count": 122
  },
  {
   "cell_type": "markdown",
   "source": [
    "The `any` method returns `True` if any value is equal to 1 (`True`)."
   ],
   "metadata": {
    "collapsed": false
   },
   "id": "a38d035cc47b6ec8"
  },
  {
   "cell_type": "code",
   "outputs": [
    {
     "data": {
      "text/plain": "alice     False\nbob        True\ncarol     False\ndarwin     True\ndtype: bool"
     },
     "execution_count": 125,
     "metadata": {},
     "output_type": "execute_result"
    }
   ],
   "source": [
    "(grades == 10).any(axis=1)"
   ],
   "metadata": {
    "collapsed": false,
    "ExecuteTime": {
     "end_time": "2025-03-23T11:43:19.108297Z",
     "start_time": "2025-03-23T11:43:19.099015Z"
    }
   },
   "id": "f10aa9f6e1c327f0",
   "execution_count": 125
  },
  {
   "cell_type": "markdown",
   "source": [
    "If you a `Series` object will be added to a `DataFrame` object (or perform any other binary operation), pandas will try to broadcast the operation to all *rows* in the `DataFrame` object. This only works if the `Series` object is the same size as the rows of the `DataFrame` object. For example, subtraction the mean of the `DataFrame` object (the `Series` object) from the `DataFrame` object:"
   ],
   "metadata": {
    "collapsed": false
   },
   "id": "3a5ddb77e75f48d9"
  },
  {
   "cell_type": "code",
   "outputs": [
    {
     "data": {
      "text/plain": "         sep   oct  nov\nalice   0.25 -0.75  1.5\nbob     2.25  0.25  1.5\ncarol  -3.75 -0.75 -5.5\ndarwin  1.25  1.25  2.5",
      "text/html": "<div>\n<style scoped>\n    .dataframe tbody tr th:only-of-type {\n        vertical-align: middle;\n    }\n\n    .dataframe tbody tr th {\n        vertical-align: top;\n    }\n\n    .dataframe thead th {\n        text-align: right;\n    }\n</style>\n<table border=\"1\" class=\"dataframe\">\n  <thead>\n    <tr style=\"text-align: right;\">\n      <th></th>\n      <th>sep</th>\n      <th>oct</th>\n      <th>nov</th>\n    </tr>\n  </thead>\n  <tbody>\n    <tr>\n      <th>alice</th>\n      <td>0.25</td>\n      <td>-0.75</td>\n      <td>1.5</td>\n    </tr>\n    <tr>\n      <th>bob</th>\n      <td>2.25</td>\n      <td>0.25</td>\n      <td>1.5</td>\n    </tr>\n    <tr>\n      <th>carol</th>\n      <td>-3.75</td>\n      <td>-0.75</td>\n      <td>-5.5</td>\n    </tr>\n    <tr>\n      <th>darwin</th>\n      <td>1.25</td>\n      <td>1.25</td>\n      <td>2.5</td>\n    </tr>\n  </tbody>\n</table>\n</div>"
     },
     "execution_count": 126,
     "metadata": {},
     "output_type": "execute_result"
    }
   ],
   "source": [
    "grades - grades.mean()  # equals to: grades - [7.75, 8.75, 7.50]"
   ],
   "metadata": {
    "collapsed": false,
    "ExecuteTime": {
     "end_time": "2025-03-23T11:44:46.182180Z",
     "start_time": "2025-03-23T11:44:46.169076Z"
    }
   },
   "id": "358099ab5dd88175",
   "execution_count": 126
  },
  {
   "cell_type": "markdown",
   "source": [
    "`7.75` have been subtracted from all the grades received in September, `8.75` from the grades received in October and `7.50` from the grades received in November. This is equivalent to the following subtraction:"
   ],
   "metadata": {
    "collapsed": false
   },
   "id": "213a1a4a37b729a6"
  },
  {
   "cell_type": "code",
   "outputs": [
    {
     "data": {
      "text/plain": "         sep   oct  nov\nalice   7.75  8.75  7.5\nbob     7.75  8.75  7.5\ncarol   7.75  8.75  7.5\ndarwin  7.75  8.75  7.5",
      "text/html": "<div>\n<style scoped>\n    .dataframe tbody tr th:only-of-type {\n        vertical-align: middle;\n    }\n\n    .dataframe tbody tr th {\n        vertical-align: top;\n    }\n\n    .dataframe thead th {\n        text-align: right;\n    }\n</style>\n<table border=\"1\" class=\"dataframe\">\n  <thead>\n    <tr style=\"text-align: right;\">\n      <th></th>\n      <th>sep</th>\n      <th>oct</th>\n      <th>nov</th>\n    </tr>\n  </thead>\n  <tbody>\n    <tr>\n      <th>alice</th>\n      <td>7.75</td>\n      <td>8.75</td>\n      <td>7.5</td>\n    </tr>\n    <tr>\n      <th>bob</th>\n      <td>7.75</td>\n      <td>8.75</td>\n      <td>7.5</td>\n    </tr>\n    <tr>\n      <th>carol</th>\n      <td>7.75</td>\n      <td>8.75</td>\n      <td>7.5</td>\n    </tr>\n    <tr>\n      <th>darwin</th>\n      <td>7.75</td>\n      <td>8.75</td>\n      <td>7.5</td>\n    </tr>\n  </tbody>\n</table>\n</div>"
     },
     "execution_count": 129,
     "metadata": {},
     "output_type": "execute_result"
    }
   ],
   "source": [
    "x = pd.DataFrame([[7.75, 8.75, 7.50]] * 4, index=grades.index, columns=grades.columns)\n",
    "x"
   ],
   "metadata": {
    "collapsed": false,
    "ExecuteTime": {
     "end_time": "2025-03-23T11:47:17.379295Z",
     "start_time": "2025-03-23T11:47:17.364584Z"
    }
   },
   "id": "297d78e1e2ace4c7",
   "execution_count": 129
  },
  {
   "cell_type": "code",
   "outputs": [
    {
     "data": {
      "text/plain": "         sep   oct  nov\nalice   0.25 -0.75  1.5\nbob     2.25  0.25  1.5\ncarol  -3.75 -0.75 -5.5\ndarwin  1.25  1.25  2.5",
      "text/html": "<div>\n<style scoped>\n    .dataframe tbody tr th:only-of-type {\n        vertical-align: middle;\n    }\n\n    .dataframe tbody tr th {\n        vertical-align: top;\n    }\n\n    .dataframe thead th {\n        text-align: right;\n    }\n</style>\n<table border=\"1\" class=\"dataframe\">\n  <thead>\n    <tr style=\"text-align: right;\">\n      <th></th>\n      <th>sep</th>\n      <th>oct</th>\n      <th>nov</th>\n    </tr>\n  </thead>\n  <tbody>\n    <tr>\n      <th>alice</th>\n      <td>0.25</td>\n      <td>-0.75</td>\n      <td>1.5</td>\n    </tr>\n    <tr>\n      <th>bob</th>\n      <td>2.25</td>\n      <td>0.25</td>\n      <td>1.5</td>\n    </tr>\n    <tr>\n      <th>carol</th>\n      <td>-3.75</td>\n      <td>-0.75</td>\n      <td>-5.5</td>\n    </tr>\n    <tr>\n      <th>darwin</th>\n      <td>1.25</td>\n      <td>1.25</td>\n      <td>2.5</td>\n    </tr>\n  </tbody>\n</table>\n</div>"
     },
     "execution_count": 130,
     "metadata": {},
     "output_type": "execute_result"
    }
   ],
   "source": [
    "grades - x"
   ],
   "metadata": {
    "collapsed": false,
    "ExecuteTime": {
     "end_time": "2025-03-23T11:47:23.193407Z",
     "start_time": "2025-03-23T11:47:23.182154Z"
    }
   },
   "id": "51d51bb8c3bc2433",
   "execution_count": 130
  },
  {
   "cell_type": "markdown",
   "source": [
    "If the global average has to be subtracted from each rating:"
   ],
   "metadata": {
    "collapsed": false
   },
   "id": "76fa580fafaf793b"
  },
  {
   "cell_type": "code",
   "outputs": [
    {
     "data": {
      "text/plain": "        sep  oct  nov\nalice   0.0  0.0  1.0\nbob     2.0  1.0  1.0\ncarol  -4.0  0.0 -6.0\ndarwin  1.0  2.0  2.0",
      "text/html": "<div>\n<style scoped>\n    .dataframe tbody tr th:only-of-type {\n        vertical-align: middle;\n    }\n\n    .dataframe tbody tr th {\n        vertical-align: top;\n    }\n\n    .dataframe thead th {\n        text-align: right;\n    }\n</style>\n<table border=\"1\" class=\"dataframe\">\n  <thead>\n    <tr style=\"text-align: right;\">\n      <th></th>\n      <th>sep</th>\n      <th>oct</th>\n      <th>nov</th>\n    </tr>\n  </thead>\n  <tbody>\n    <tr>\n      <th>alice</th>\n      <td>0.0</td>\n      <td>0.0</td>\n      <td>1.0</td>\n    </tr>\n    <tr>\n      <th>bob</th>\n      <td>2.0</td>\n      <td>1.0</td>\n      <td>1.0</td>\n    </tr>\n    <tr>\n      <th>carol</th>\n      <td>-4.0</td>\n      <td>0.0</td>\n      <td>-6.0</td>\n    </tr>\n    <tr>\n      <th>darwin</th>\n      <td>1.0</td>\n      <td>2.0</td>\n      <td>2.0</td>\n    </tr>\n  </tbody>\n</table>\n</div>"
     },
     "execution_count": 131,
     "metadata": {},
     "output_type": "execute_result"
    }
   ],
   "source": [
    "grades - grades.values.mean()"
   ],
   "metadata": {
    "collapsed": false,
    "ExecuteTime": {
     "end_time": "2025-03-23T11:48:21.095456Z",
     "start_time": "2025-03-23T11:48:21.080809Z"
    }
   },
   "id": "5b7355874352c88b",
   "execution_count": 131
  },
  {
   "cell_type": "markdown",
   "source": [
    "## Automatic allocation\n",
    "\n",
    "Similar to `Series` objects, when operating on multiple `DataFrame` objects, pandas automatically allocates them based on the row index label, but also the column names."
   ],
   "metadata": {
    "collapsed": false
   },
   "id": "fb6f70114fe2f69e"
  },
  {
   "cell_type": "code",
   "outputs": [
    {
     "data": {
      "text/plain": "         oct  nov  dec\nbob      0.0  NaN  2.0\nczeslaw  NaN  1.0  0.0\ndarwin   0.0  1.0  0.0\ncarol    3.0  3.0  0.0",
      "text/html": "<div>\n<style scoped>\n    .dataframe tbody tr th:only-of-type {\n        vertical-align: middle;\n    }\n\n    .dataframe tbody tr th {\n        vertical-align: top;\n    }\n\n    .dataframe thead th {\n        text-align: right;\n    }\n</style>\n<table border=\"1\" class=\"dataframe\">\n  <thead>\n    <tr style=\"text-align: right;\">\n      <th></th>\n      <th>oct</th>\n      <th>nov</th>\n      <th>dec</th>\n    </tr>\n  </thead>\n  <tbody>\n    <tr>\n      <th>bob</th>\n      <td>0.0</td>\n      <td>NaN</td>\n      <td>2.0</td>\n    </tr>\n    <tr>\n      <th>czeslaw</th>\n      <td>NaN</td>\n      <td>1.0</td>\n      <td>0.0</td>\n    </tr>\n    <tr>\n      <th>darwin</th>\n      <td>0.0</td>\n      <td>1.0</td>\n      <td>0.0</td>\n    </tr>\n    <tr>\n      <th>carol</th>\n      <td>3.0</td>\n      <td>3.0</td>\n      <td>0.0</td>\n    </tr>\n  </tbody>\n</table>\n</div>"
     },
     "execution_count": 142,
     "metadata": {},
     "output_type": "execute_result"
    }
   ],
   "source": [
    "bonus_array = np.array([[0, np.nan, 2], [np.nan, 1, 0], [0, 1, 0], [3, 3, 0]])\n",
    "bonus_points = pd.DataFrame(bonus_array, columns=['oct', 'nov', 'dec'], index=['bob', 'czeslaw', 'darwin', 'carol'])\n",
    "bonus_points"
   ],
   "metadata": {
    "collapsed": false,
    "ExecuteTime": {
     "end_time": "2025-03-23T12:51:03.504295Z",
     "start_time": "2025-03-23T12:51:03.491267Z"
    }
   },
   "id": "289f2bc946ddc49",
   "execution_count": 142
  },
  {
   "cell_type": "code",
   "outputs": [
    {
     "data": {
      "text/plain": "         dec   nov   oct  sep\nalice    NaN   NaN   NaN  NaN\nbob      NaN   NaN   9.0  NaN\ncarol    NaN   5.0  11.0  NaN\nczeslaw  NaN   NaN   NaN  NaN\ndarwin   NaN  11.0  10.0  NaN",
      "text/html": "<div>\n<style scoped>\n    .dataframe tbody tr th:only-of-type {\n        vertical-align: middle;\n    }\n\n    .dataframe tbody tr th {\n        vertical-align: top;\n    }\n\n    .dataframe thead th {\n        text-align: right;\n    }\n</style>\n<table border=\"1\" class=\"dataframe\">\n  <thead>\n    <tr style=\"text-align: right;\">\n      <th></th>\n      <th>dec</th>\n      <th>nov</th>\n      <th>oct</th>\n      <th>sep</th>\n    </tr>\n  </thead>\n  <tbody>\n    <tr>\n      <th>alice</th>\n      <td>NaN</td>\n      <td>NaN</td>\n      <td>NaN</td>\n      <td>NaN</td>\n    </tr>\n    <tr>\n      <th>bob</th>\n      <td>NaN</td>\n      <td>NaN</td>\n      <td>9.0</td>\n      <td>NaN</td>\n    </tr>\n    <tr>\n      <th>carol</th>\n      <td>NaN</td>\n      <td>5.0</td>\n      <td>11.0</td>\n      <td>NaN</td>\n    </tr>\n    <tr>\n      <th>czeslaw</th>\n      <td>NaN</td>\n      <td>NaN</td>\n      <td>NaN</td>\n      <td>NaN</td>\n    </tr>\n    <tr>\n      <th>darwin</th>\n      <td>NaN</td>\n      <td>11.0</td>\n      <td>10.0</td>\n      <td>NaN</td>\n    </tr>\n  </tbody>\n</table>\n</div>"
     },
     "execution_count": 143,
     "metadata": {},
     "output_type": "execute_result"
    }
   ],
   "source": [
    "grades + bonus_points"
   ],
   "metadata": {
    "collapsed": false,
    "ExecuteTime": {
     "end_time": "2025-03-23T12:51:08.391671Z",
     "start_time": "2025-03-23T12:51:08.377504Z"
    }
   },
   "id": "46c62ab9d70c2459",
   "execution_count": 143
  },
  {
   "cell_type": "markdown",
   "source": [
    "It seems that adding worked in some cases, but now too many elements are empty. This is because when allocating `DataFrame` objects, some columns and rows were only available on one side, so they were considered missing (`NaN`) on the other side. Adding `NaN` to a number results in `NaN`, hence the result.\n",
    "\n",
    "## Handling missing data\n",
    "Pandas has several tools to handle it properly."
   ],
   "metadata": {
    "collapsed": false
   },
   "id": "ffd70d3074f7dee2"
  },
  {
   "cell_type": "code",
   "outputs": [
    {
     "data": {
      "text/plain": "         dec   nov   oct  sep\nalice    0.0   0.0   0.0  0.0\nbob      0.0   0.0   9.0  0.0\ncarol    0.0   5.0  11.0  0.0\nczeslaw  0.0   0.0   0.0  0.0\ndarwin   0.0  11.0  10.0  0.0",
      "text/html": "<div>\n<style scoped>\n    .dataframe tbody tr th:only-of-type {\n        vertical-align: middle;\n    }\n\n    .dataframe tbody tr th {\n        vertical-align: top;\n    }\n\n    .dataframe thead th {\n        text-align: right;\n    }\n</style>\n<table border=\"1\" class=\"dataframe\">\n  <thead>\n    <tr style=\"text-align: right;\">\n      <th></th>\n      <th>dec</th>\n      <th>nov</th>\n      <th>oct</th>\n      <th>sep</th>\n    </tr>\n  </thead>\n  <tbody>\n    <tr>\n      <th>alice</th>\n      <td>0.0</td>\n      <td>0.0</td>\n      <td>0.0</td>\n      <td>0.0</td>\n    </tr>\n    <tr>\n      <th>bob</th>\n      <td>0.0</td>\n      <td>0.0</td>\n      <td>9.0</td>\n      <td>0.0</td>\n    </tr>\n    <tr>\n      <th>carol</th>\n      <td>0.0</td>\n      <td>5.0</td>\n      <td>11.0</td>\n      <td>0.0</td>\n    </tr>\n    <tr>\n      <th>czeslaw</th>\n      <td>0.0</td>\n      <td>0.0</td>\n      <td>0.0</td>\n      <td>0.0</td>\n    </tr>\n    <tr>\n      <th>darwin</th>\n      <td>0.0</td>\n      <td>11.0</td>\n      <td>10.0</td>\n      <td>0.0</td>\n    </tr>\n  </tbody>\n</table>\n</div>"
     },
     "execution_count": 144,
     "metadata": {},
     "output_type": "execute_result"
    }
   ],
   "source": [
    "(grades + bonus_points).fillna(0)"
   ],
   "metadata": {
    "collapsed": false,
    "ExecuteTime": {
     "end_time": "2025-03-23T12:51:26.753628Z",
     "start_time": "2025-03-23T12:51:26.738840Z"
    }
   },
   "id": "3f18fbf79997ff05",
   "execution_count": 144
  },
  {
   "cell_type": "markdown",
   "source": [
    "It's a bit unfair though that zero grades in September are assigned. Maybe missing bonus points should be replaced by zeros."
   ],
   "metadata": {
    "collapsed": false
   },
   "id": "6de625d72ea999d9"
  },
  {
   "cell_type": "code",
   "outputs": [
    {
     "data": {
      "text/plain": "         dec   nov   oct   sep\nalice    NaN   9.0   8.0   8.0\nbob      NaN   9.0   9.0  10.0\ncarol    NaN   5.0  11.0   4.0\nczeslaw  NaN   NaN   NaN   NaN\ndarwin   NaN  11.0  10.0   9.0",
      "text/html": "<div>\n<style scoped>\n    .dataframe tbody tr th:only-of-type {\n        vertical-align: middle;\n    }\n\n    .dataframe tbody tr th {\n        vertical-align: top;\n    }\n\n    .dataframe thead th {\n        text-align: right;\n    }\n</style>\n<table border=\"1\" class=\"dataframe\">\n  <thead>\n    <tr style=\"text-align: right;\">\n      <th></th>\n      <th>dec</th>\n      <th>nov</th>\n      <th>oct</th>\n      <th>sep</th>\n    </tr>\n  </thead>\n  <tbody>\n    <tr>\n      <th>alice</th>\n      <td>NaN</td>\n      <td>9.0</td>\n      <td>8.0</td>\n      <td>8.0</td>\n    </tr>\n    <tr>\n      <th>bob</th>\n      <td>NaN</td>\n      <td>9.0</td>\n      <td>9.0</td>\n      <td>10.0</td>\n    </tr>\n    <tr>\n      <th>carol</th>\n      <td>NaN</td>\n      <td>5.0</td>\n      <td>11.0</td>\n      <td>4.0</td>\n    </tr>\n    <tr>\n      <th>czeslaw</th>\n      <td>NaN</td>\n      <td>NaN</td>\n      <td>NaN</td>\n      <td>NaN</td>\n    </tr>\n    <tr>\n      <th>darwin</th>\n      <td>NaN</td>\n      <td>11.0</td>\n      <td>10.0</td>\n      <td>9.0</td>\n    </tr>\n  </tbody>\n</table>\n</div>"
     },
     "execution_count": 151,
     "metadata": {},
     "output_type": "execute_result"
    }
   ],
   "source": [
    "fixed_bonus_points = bonus_points.fillna(0)\n",
    "fixed_bonus_points.insert(0, 'sep', 0)\n",
    "fixed_bonus_points.loc['alice'] = 0\n",
    "grades + fixed_bonus_points"
   ],
   "metadata": {
    "collapsed": false,
    "ExecuteTime": {
     "end_time": "2025-03-23T12:52:51.613260Z",
     "start_time": "2025-03-23T12:52:51.597263Z"
    }
   },
   "id": "800a39d333076735",
   "execution_count": 151
  },
  {
   "cell_type": "markdown",
   "source": [
    "Another way to deal with missing data is interpolation."
   ],
   "metadata": {
    "collapsed": false
   },
   "id": "5a8bac7244e3da0"
  },
  {
   "cell_type": "code",
   "outputs": [
    {
     "data": {
      "text/plain": "         oct  nov  dec\nbob      0.0  NaN  2.0\nczeslaw  NaN  1.0  0.0\ndarwin   0.0  1.0  0.0\ncarol    3.0  3.0  0.0",
      "text/html": "<div>\n<style scoped>\n    .dataframe tbody tr th:only-of-type {\n        vertical-align: middle;\n    }\n\n    .dataframe tbody tr th {\n        vertical-align: top;\n    }\n\n    .dataframe thead th {\n        text-align: right;\n    }\n</style>\n<table border=\"1\" class=\"dataframe\">\n  <thead>\n    <tr style=\"text-align: right;\">\n      <th></th>\n      <th>oct</th>\n      <th>nov</th>\n      <th>dec</th>\n    </tr>\n  </thead>\n  <tbody>\n    <tr>\n      <th>bob</th>\n      <td>0.0</td>\n      <td>NaN</td>\n      <td>2.0</td>\n    </tr>\n    <tr>\n      <th>czeslaw</th>\n      <td>NaN</td>\n      <td>1.0</td>\n      <td>0.0</td>\n    </tr>\n    <tr>\n      <th>darwin</th>\n      <td>0.0</td>\n      <td>1.0</td>\n      <td>0.0</td>\n    </tr>\n    <tr>\n      <th>carol</th>\n      <td>3.0</td>\n      <td>3.0</td>\n      <td>0.0</td>\n    </tr>\n  </tbody>\n</table>\n</div>"
     },
     "execution_count": 152,
     "metadata": {},
     "output_type": "execute_result"
    }
   ],
   "source": [
    "bonus_points"
   ],
   "metadata": {
    "collapsed": false,
    "ExecuteTime": {
     "end_time": "2025-03-23T12:54:42.016994Z",
     "start_time": "2025-03-23T12:54:42.004136Z"
    }
   },
   "id": "5c5dbe996eff1127",
   "execution_count": 152
  },
  {
   "cell_type": "markdown",
   "source": [
    "Call the `interpolate` method. By default, interpolation is done vertically (`axis=0`)."
   ],
   "metadata": {
    "collapsed": false
   },
   "id": "109f6ade665d6956"
  },
  {
   "cell_type": "code",
   "outputs": [
    {
     "data": {
      "text/plain": "         oct  nov  dec\nbob      0.0  1.0  2.0\nczeslaw  NaN  1.0  0.0\ndarwin   0.0  1.0  0.0\ncarol    3.0  3.0  0.0",
      "text/html": "<div>\n<style scoped>\n    .dataframe tbody tr th:only-of-type {\n        vertical-align: middle;\n    }\n\n    .dataframe tbody tr th {\n        vertical-align: top;\n    }\n\n    .dataframe thead th {\n        text-align: right;\n    }\n</style>\n<table border=\"1\" class=\"dataframe\">\n  <thead>\n    <tr style=\"text-align: right;\">\n      <th></th>\n      <th>oct</th>\n      <th>nov</th>\n      <th>dec</th>\n    </tr>\n  </thead>\n  <tbody>\n    <tr>\n      <th>bob</th>\n      <td>0.0</td>\n      <td>1.0</td>\n      <td>2.0</td>\n    </tr>\n    <tr>\n      <th>czeslaw</th>\n      <td>NaN</td>\n      <td>1.0</td>\n      <td>0.0</td>\n    </tr>\n    <tr>\n      <th>darwin</th>\n      <td>0.0</td>\n      <td>1.0</td>\n      <td>0.0</td>\n    </tr>\n    <tr>\n      <th>carol</th>\n      <td>3.0</td>\n      <td>3.0</td>\n      <td>0.0</td>\n    </tr>\n  </tbody>\n</table>\n</div>"
     },
     "execution_count": 153,
     "metadata": {},
     "output_type": "execute_result"
    }
   ],
   "source": [
    "bonus_points.interpolate(axis=1)"
   ],
   "metadata": {
    "collapsed": false,
    "ExecuteTime": {
     "end_time": "2025-03-23T12:55:27.261756Z",
     "start_time": "2025-03-23T12:55:27.243209Z"
    }
   },
   "id": "f45a37acf40d23e5",
   "execution_count": 153
  },
  {
   "cell_type": "markdown",
   "source": [
    "Bob didn't get any extra points in October, but he did get two points in December. Interpolating for December gives an average value - one point. Czeslaw got one point in November, but unknown is how many points he got in September, so it's impossible to  interpolate, and that's why October is missing. This problem can be solved by inserting zero extra points in September just before interpolating."
   ],
   "metadata": {
    "collapsed": false
   },
   "id": "85dfcefeffb2d2c5"
  },
  {
   "cell_type": "code",
   "outputs": [
    {
     "data": {
      "text/plain": "         sep  oct  nov  dec\nbob      0.0  0.0  1.0  2.0\nczeslaw  0.0  0.5  1.0  0.0\ndarwin   0.0  0.0  1.0  0.0\ncarol    0.0  3.0  3.0  0.0\nalice    0.0  0.0  0.0  0.0",
      "text/html": "<div>\n<style scoped>\n    .dataframe tbody tr th:only-of-type {\n        vertical-align: middle;\n    }\n\n    .dataframe tbody tr th {\n        vertical-align: top;\n    }\n\n    .dataframe thead th {\n        text-align: right;\n    }\n</style>\n<table border=\"1\" class=\"dataframe\">\n  <thead>\n    <tr style=\"text-align: right;\">\n      <th></th>\n      <th>sep</th>\n      <th>oct</th>\n      <th>nov</th>\n      <th>dec</th>\n    </tr>\n  </thead>\n  <tbody>\n    <tr>\n      <th>bob</th>\n      <td>0.0</td>\n      <td>0.0</td>\n      <td>1.0</td>\n      <td>2.0</td>\n    </tr>\n    <tr>\n      <th>czeslaw</th>\n      <td>0.0</td>\n      <td>0.5</td>\n      <td>1.0</td>\n      <td>0.0</td>\n    </tr>\n    <tr>\n      <th>darwin</th>\n      <td>0.0</td>\n      <td>0.0</td>\n      <td>1.0</td>\n      <td>0.0</td>\n    </tr>\n    <tr>\n      <th>carol</th>\n      <td>0.0</td>\n      <td>3.0</td>\n      <td>3.0</td>\n      <td>0.0</td>\n    </tr>\n    <tr>\n      <th>alice</th>\n      <td>0.0</td>\n      <td>0.0</td>\n      <td>0.0</td>\n      <td>0.0</td>\n    </tr>\n  </tbody>\n</table>\n</div>"
     },
     "execution_count": 154,
     "metadata": {},
     "output_type": "execute_result"
    }
   ],
   "source": [
    "better_bonus_points = bonus_points.copy()\n",
    "better_bonus_points.insert(0, 'sep', 0)\n",
    "better_bonus_points.loc['alice'] = 0\n",
    "better_bonus_points = better_bonus_points.interpolate(axis=1)\n",
    "better_bonus_points"
   ],
   "metadata": {
    "collapsed": false,
    "ExecuteTime": {
     "end_time": "2025-03-23T12:58:56.459889Z",
     "start_time": "2025-03-23T12:58:56.439592Z"
    }
   },
   "id": "38e19095cf5c4f3a",
   "execution_count": 154
  },
  {
   "cell_type": "code",
   "outputs": [
    {
     "data": {
      "text/plain": "         dec   nov   oct   sep\nalice    NaN   9.0   8.0   8.0\nbob      NaN  10.0   9.0  10.0\ncarol    NaN   5.0  11.0   4.0\nczeslaw  NaN   NaN   NaN   NaN\ndarwin   NaN  11.0  10.0   9.0",
      "text/html": "<div>\n<style scoped>\n    .dataframe tbody tr th:only-of-type {\n        vertical-align: middle;\n    }\n\n    .dataframe tbody tr th {\n        vertical-align: top;\n    }\n\n    .dataframe thead th {\n        text-align: right;\n    }\n</style>\n<table border=\"1\" class=\"dataframe\">\n  <thead>\n    <tr style=\"text-align: right;\">\n      <th></th>\n      <th>dec</th>\n      <th>nov</th>\n      <th>oct</th>\n      <th>sep</th>\n    </tr>\n  </thead>\n  <tbody>\n    <tr>\n      <th>alice</th>\n      <td>NaN</td>\n      <td>9.0</td>\n      <td>8.0</td>\n      <td>8.0</td>\n    </tr>\n    <tr>\n      <th>bob</th>\n      <td>NaN</td>\n      <td>10.0</td>\n      <td>9.0</td>\n      <td>10.0</td>\n    </tr>\n    <tr>\n      <th>carol</th>\n      <td>NaN</td>\n      <td>5.0</td>\n      <td>11.0</td>\n      <td>4.0</td>\n    </tr>\n    <tr>\n      <th>czeslaw</th>\n      <td>NaN</td>\n      <td>NaN</td>\n      <td>NaN</td>\n      <td>NaN</td>\n    </tr>\n    <tr>\n      <th>darwin</th>\n      <td>NaN</td>\n      <td>11.0</td>\n      <td>10.0</td>\n      <td>9.0</td>\n    </tr>\n  </tbody>\n</table>\n</div>"
     },
     "execution_count": 155,
     "metadata": {},
     "output_type": "execute_result"
    }
   ],
   "source": [
    "grades + better_bonus_points"
   ],
   "metadata": {
    "collapsed": false,
    "ExecuteTime": {
     "end_time": "2025-03-23T12:59:11.082522Z",
     "start_time": "2025-03-23T12:59:11.060329Z"
    }
   },
   "id": "46848a456bbad75f",
   "execution_count": 155
  },
  {
   "cell_type": "markdown",
   "source": [
    "It's a bit annoying that the month columns are so mixed up. This is because the `DataFrame` objects which are added don't have exactly the same columns (the `grades` object is missing a `\"dec\"` column), so for predictability, pandas puts the final columns in alphabetical order."
   ],
   "metadata": {
    "collapsed": false
   },
   "id": "baef9e9f24a65858"
  },
  {
   "cell_type": "code",
   "outputs": [
    {
     "data": {
      "text/plain": "          sep   oct   nov  dec\nalice     8.0   8.0   9.0  NaN\nbob      10.0   9.0  10.0  NaN\ncarol     4.0  11.0   5.0  NaN\nczeslaw   NaN   NaN   NaN  NaN\ndarwin    9.0  10.0  11.0  NaN",
      "text/html": "<div>\n<style scoped>\n    .dataframe tbody tr th:only-of-type {\n        vertical-align: middle;\n    }\n\n    .dataframe tbody tr th {\n        vertical-align: top;\n    }\n\n    .dataframe thead th {\n        text-align: right;\n    }\n</style>\n<table border=\"1\" class=\"dataframe\">\n  <thead>\n    <tr style=\"text-align: right;\">\n      <th></th>\n      <th>sep</th>\n      <th>oct</th>\n      <th>nov</th>\n      <th>dec</th>\n    </tr>\n  </thead>\n  <tbody>\n    <tr>\n      <th>alice</th>\n      <td>8.0</td>\n      <td>8.0</td>\n      <td>9.0</td>\n      <td>NaN</td>\n    </tr>\n    <tr>\n      <th>bob</th>\n      <td>10.0</td>\n      <td>9.0</td>\n      <td>10.0</td>\n      <td>NaN</td>\n    </tr>\n    <tr>\n      <th>carol</th>\n      <td>4.0</td>\n      <td>11.0</td>\n      <td>5.0</td>\n      <td>NaN</td>\n    </tr>\n    <tr>\n      <th>czeslaw</th>\n      <td>NaN</td>\n      <td>NaN</td>\n      <td>NaN</td>\n      <td>NaN</td>\n    </tr>\n    <tr>\n      <th>darwin</th>\n      <td>9.0</td>\n      <td>10.0</td>\n      <td>11.0</td>\n      <td>NaN</td>\n    </tr>\n  </tbody>\n</table>\n</div>"
     },
     "execution_count": 156,
     "metadata": {},
     "output_type": "execute_result"
    }
   ],
   "source": [
    "grades['dec'] = np.nan\n",
    "final_grades = grades + better_bonus_points\n",
    "final_grades"
   ],
   "metadata": {
    "collapsed": false,
    "ExecuteTime": {
     "end_time": "2025-03-23T13:01:09.128637Z",
     "start_time": "2025-03-23T13:01:09.115216Z"
    }
   },
   "id": "18da4e551da56d95",
   "execution_count": 156
  },
  {
   "cell_type": "markdown",
   "source": [
    "There's not much that can be done about Czeslaw and december: it's bad enough that there is need to come up with extra points, but it can't be done the same with grades. Calling the `dropna()` method will get rid of the rows filled with `NaN` values."
   ],
   "metadata": {
    "collapsed": false
   },
   "id": "eca46a9ae3083f39"
  },
  {
   "cell_type": "code",
   "outputs": [
    {
     "data": {
      "text/plain": "         sep   oct   nov  dec\nalice    8.0   8.0   9.0  NaN\nbob     10.0   9.0  10.0  NaN\ncarol    4.0  11.0   5.0  NaN\ndarwin   9.0  10.0  11.0  NaN",
      "text/html": "<div>\n<style scoped>\n    .dataframe tbody tr th:only-of-type {\n        vertical-align: middle;\n    }\n\n    .dataframe tbody tr th {\n        vertical-align: top;\n    }\n\n    .dataframe thead th {\n        text-align: right;\n    }\n</style>\n<table border=\"1\" class=\"dataframe\">\n  <thead>\n    <tr style=\"text-align: right;\">\n      <th></th>\n      <th>sep</th>\n      <th>oct</th>\n      <th>nov</th>\n      <th>dec</th>\n    </tr>\n  </thead>\n  <tbody>\n    <tr>\n      <th>alice</th>\n      <td>8.0</td>\n      <td>8.0</td>\n      <td>9.0</td>\n      <td>NaN</td>\n    </tr>\n    <tr>\n      <th>bob</th>\n      <td>10.0</td>\n      <td>9.0</td>\n      <td>10.0</td>\n      <td>NaN</td>\n    </tr>\n    <tr>\n      <th>carol</th>\n      <td>4.0</td>\n      <td>11.0</td>\n      <td>5.0</td>\n      <td>NaN</td>\n    </tr>\n    <tr>\n      <th>darwin</th>\n      <td>9.0</td>\n      <td>10.0</td>\n      <td>11.0</td>\n      <td>NaN</td>\n    </tr>\n  </tbody>\n</table>\n</div>"
     },
     "execution_count": 157,
     "metadata": {},
     "output_type": "execute_result"
    }
   ],
   "source": [
    "final_grades_clean = final_grades.dropna(how='all')\n",
    "final_grades_clean"
   ],
   "metadata": {
    "collapsed": false,
    "ExecuteTime": {
     "end_time": "2025-03-23T13:04:01.808684Z",
     "start_time": "2025-03-23T13:04:01.793374Z"
    }
   },
   "id": "12c3a04ad462c053",
   "execution_count": 157
  },
  {
   "cell_type": "code",
   "outputs": [
    {
     "data": {
      "text/plain": "         sep   oct   nov\nalice    8.0   8.0   9.0\nbob     10.0   9.0  10.0\ncarol    4.0  11.0   5.0\ndarwin   9.0  10.0  11.0",
      "text/html": "<div>\n<style scoped>\n    .dataframe tbody tr th:only-of-type {\n        vertical-align: middle;\n    }\n\n    .dataframe tbody tr th {\n        vertical-align: top;\n    }\n\n    .dataframe thead th {\n        text-align: right;\n    }\n</style>\n<table border=\"1\" class=\"dataframe\">\n  <thead>\n    <tr style=\"text-align: right;\">\n      <th></th>\n      <th>sep</th>\n      <th>oct</th>\n      <th>nov</th>\n    </tr>\n  </thead>\n  <tbody>\n    <tr>\n      <th>alice</th>\n      <td>8.0</td>\n      <td>8.0</td>\n      <td>9.0</td>\n    </tr>\n    <tr>\n      <th>bob</th>\n      <td>10.0</td>\n      <td>9.0</td>\n      <td>10.0</td>\n    </tr>\n    <tr>\n      <th>carol</th>\n      <td>4.0</td>\n      <td>11.0</td>\n      <td>5.0</td>\n    </tr>\n    <tr>\n      <th>darwin</th>\n      <td>9.0</td>\n      <td>10.0</td>\n      <td>11.0</td>\n    </tr>\n  </tbody>\n</table>\n</div>"
     },
     "execution_count": 158,
     "metadata": {},
     "output_type": "execute_result"
    }
   ],
   "source": [
    "final_grades_clean = final_grades_clean.dropna(axis=1, how='all')\n",
    "final_grades_clean"
   ],
   "metadata": {
    "collapsed": false,
    "ExecuteTime": {
     "end_time": "2025-03-23T13:04:25.804813Z",
     "start_time": "2025-03-23T13:04:25.793377Z"
    }
   },
   "id": "4953d327cfbe1d7a",
   "execution_count": 158
  },
  {
   "cell_type": "markdown",
   "source": [
    "## Aggregation with `groupby`\n",
    "\n",
    "The pandas module, like SQL, allows to create groups of data on which individual calculations are performed.\n",
    "\n",
    "First, additional information about each person will be inserted so it will be possible to group them."
   ],
   "metadata": {
    "collapsed": false
   },
   "id": "6b38f45f0128a5b4"
  },
  {
   "cell_type": "code",
   "outputs": [
    {
     "data": {
      "text/plain": "          sep   oct   nov  dec interests\nalice     8.0   8.0   9.0  NaN     bikes\nbob      10.0   9.0  10.0  NaN   dancing\ncarol     4.0  11.0   5.0  NaN       NaN\nczeslaw   NaN   NaN   NaN  NaN   dancing\ndarwin    9.0  10.0  11.0  NaN     bikes",
      "text/html": "<div>\n<style scoped>\n    .dataframe tbody tr th:only-of-type {\n        vertical-align: middle;\n    }\n\n    .dataframe tbody tr th {\n        vertical-align: top;\n    }\n\n    .dataframe thead th {\n        text-align: right;\n    }\n</style>\n<table border=\"1\" class=\"dataframe\">\n  <thead>\n    <tr style=\"text-align: right;\">\n      <th></th>\n      <th>sep</th>\n      <th>oct</th>\n      <th>nov</th>\n      <th>dec</th>\n      <th>interests</th>\n    </tr>\n  </thead>\n  <tbody>\n    <tr>\n      <th>alice</th>\n      <td>8.0</td>\n      <td>8.0</td>\n      <td>9.0</td>\n      <td>NaN</td>\n      <td>bikes</td>\n    </tr>\n    <tr>\n      <th>bob</th>\n      <td>10.0</td>\n      <td>9.0</td>\n      <td>10.0</td>\n      <td>NaN</td>\n      <td>dancing</td>\n    </tr>\n    <tr>\n      <th>carol</th>\n      <td>4.0</td>\n      <td>11.0</td>\n      <td>5.0</td>\n      <td>NaN</td>\n      <td>NaN</td>\n    </tr>\n    <tr>\n      <th>czeslaw</th>\n      <td>NaN</td>\n      <td>NaN</td>\n      <td>NaN</td>\n      <td>NaN</td>\n      <td>dancing</td>\n    </tr>\n    <tr>\n      <th>darwin</th>\n      <td>9.0</td>\n      <td>10.0</td>\n      <td>11.0</td>\n      <td>NaN</td>\n      <td>bikes</td>\n    </tr>\n  </tbody>\n</table>\n</div>"
     },
     "execution_count": 159,
     "metadata": {},
     "output_type": "execute_result"
    }
   ],
   "source": [
    "final_grades['interests'] = ['bikes', 'dancing', np.nan, 'dancing', 'bikes']\n",
    "final_grades"
   ],
   "metadata": {
    "collapsed": false,
    "ExecuteTime": {
     "end_time": "2025-03-23T13:06:27.511410Z",
     "start_time": "2025-03-23T13:06:27.498028Z"
    }
   },
   "id": "454c796b1a798fc0",
   "execution_count": 159
  },
  {
   "cell_type": "markdown",
   "source": [
    "The data in `DataFrame` grouped by interests."
   ],
   "metadata": {
    "collapsed": false
   },
   "id": "2a03f40692da4dbf"
  },
  {
   "cell_type": "code",
   "outputs": [
    {
     "data": {
      "text/plain": "<pandas.core.groupby.generic.DataFrameGroupBy object at 0x000001FD5592A3C0>"
     },
     "execution_count": 160,
     "metadata": {},
     "output_type": "execute_result"
    }
   ],
   "source": [
    "grouped_grades = final_grades.groupby('interests')\n",
    "grouped_grades"
   ],
   "metadata": {
    "collapsed": false,
    "ExecuteTime": {
     "end_time": "2025-03-23T13:07:34.168996Z",
     "start_time": "2025-03-23T13:07:34.157698Z"
    }
   },
   "id": "e96e18bbd9e7af94",
   "execution_count": 160
  },
  {
   "cell_type": "code",
   "outputs": [
    {
     "data": {
      "text/plain": "            sep  oct   nov  dec\ninterests                      \nbikes       8.5  9.0  10.0  NaN\ndancing    10.0  9.0  10.0  NaN",
      "text/html": "<div>\n<style scoped>\n    .dataframe tbody tr th:only-of-type {\n        vertical-align: middle;\n    }\n\n    .dataframe tbody tr th {\n        vertical-align: top;\n    }\n\n    .dataframe thead th {\n        text-align: right;\n    }\n</style>\n<table border=\"1\" class=\"dataframe\">\n  <thead>\n    <tr style=\"text-align: right;\">\n      <th></th>\n      <th>sep</th>\n      <th>oct</th>\n      <th>nov</th>\n      <th>dec</th>\n    </tr>\n    <tr>\n      <th>interests</th>\n      <th></th>\n      <th></th>\n      <th></th>\n      <th></th>\n    </tr>\n  </thead>\n  <tbody>\n    <tr>\n      <th>bikes</th>\n      <td>8.5</td>\n      <td>9.0</td>\n      <td>10.0</td>\n      <td>NaN</td>\n    </tr>\n    <tr>\n      <th>dancing</th>\n      <td>10.0</td>\n      <td>9.0</td>\n      <td>10.0</td>\n      <td>NaN</td>\n    </tr>\n  </tbody>\n</table>\n</div>"
     },
     "execution_count": 161,
     "metadata": {},
     "output_type": "execute_result"
    }
   ],
   "source": [
    "grouped_grades.mean()"
   ],
   "metadata": {
    "collapsed": false,
    "ExecuteTime": {
     "end_time": "2025-03-23T13:07:56.235230Z",
     "start_time": "2025-03-23T13:07:56.219634Z"
    }
   },
   "id": "734ad8f054bcaa2e",
   "execution_count": 161
  },
  {
   "cell_type": "markdown",
   "source": [
    "## Pivot tables\n",
    "\n",
    "The pandas module supports spreadsheet-style pivot tables for quickly displaying summary data."
   ],
   "metadata": {
    "collapsed": false
   },
   "id": "3e975ff9c5191b52"
  },
  {
   "cell_type": "code",
   "outputs": [
    {
     "data": {
      "text/plain": "      name month  grade  additional points\n0    alice   sep    8.0                NaN\n1    alice   oct    8.0                NaN\n2    alice   nov    9.0                NaN\n3      bob   sep   10.0                0.0\n4      bob   oct    9.0                NaN\n5      bob   nov   10.0                2.0\n6    carol   sep    4.0                3.0\n7    carol   oct   11.0                3.0\n8    carol   nov    5.0                0.0\n9   darwin   sep    9.0                0.0\n10  darwin   oct   10.0                1.0\n11  darwin   nov   11.0                0.0",
      "text/html": "<div>\n<style scoped>\n    .dataframe tbody tr th:only-of-type {\n        vertical-align: middle;\n    }\n\n    .dataframe tbody tr th {\n        vertical-align: top;\n    }\n\n    .dataframe thead th {\n        text-align: right;\n    }\n</style>\n<table border=\"1\" class=\"dataframe\">\n  <thead>\n    <tr style=\"text-align: right;\">\n      <th></th>\n      <th>name</th>\n      <th>month</th>\n      <th>grade</th>\n      <th>additional points</th>\n    </tr>\n  </thead>\n  <tbody>\n    <tr>\n      <th>0</th>\n      <td>alice</td>\n      <td>sep</td>\n      <td>8.0</td>\n      <td>NaN</td>\n    </tr>\n    <tr>\n      <th>1</th>\n      <td>alice</td>\n      <td>oct</td>\n      <td>8.0</td>\n      <td>NaN</td>\n    </tr>\n    <tr>\n      <th>2</th>\n      <td>alice</td>\n      <td>nov</td>\n      <td>9.0</td>\n      <td>NaN</td>\n    </tr>\n    <tr>\n      <th>3</th>\n      <td>bob</td>\n      <td>sep</td>\n      <td>10.0</td>\n      <td>0.0</td>\n    </tr>\n    <tr>\n      <th>4</th>\n      <td>bob</td>\n      <td>oct</td>\n      <td>9.0</td>\n      <td>NaN</td>\n    </tr>\n    <tr>\n      <th>5</th>\n      <td>bob</td>\n      <td>nov</td>\n      <td>10.0</td>\n      <td>2.0</td>\n    </tr>\n    <tr>\n      <th>6</th>\n      <td>carol</td>\n      <td>sep</td>\n      <td>4.0</td>\n      <td>3.0</td>\n    </tr>\n    <tr>\n      <th>7</th>\n      <td>carol</td>\n      <td>oct</td>\n      <td>11.0</td>\n      <td>3.0</td>\n    </tr>\n    <tr>\n      <th>8</th>\n      <td>carol</td>\n      <td>nov</td>\n      <td>5.0</td>\n      <td>0.0</td>\n    </tr>\n    <tr>\n      <th>9</th>\n      <td>darwin</td>\n      <td>sep</td>\n      <td>9.0</td>\n      <td>0.0</td>\n    </tr>\n    <tr>\n      <th>10</th>\n      <td>darwin</td>\n      <td>oct</td>\n      <td>10.0</td>\n      <td>1.0</td>\n    </tr>\n    <tr>\n      <th>11</th>\n      <td>darwin</td>\n      <td>nov</td>\n      <td>11.0</td>\n      <td>0.0</td>\n    </tr>\n  </tbody>\n</table>\n</div>"
     },
     "execution_count": 174,
     "metadata": {},
     "output_type": "execute_result"
    }
   ],
   "source": [
    "more_grades = final_grades_clean.stack().reset_index()\n",
    "more_grades.columns = ['name', 'month', 'grade']\n",
    "more_grades['additional points'] = [np.nan, np.nan, np.nan, 0, np.nan, 2, 3, 3, 0, 0, 1, 0]\n",
    "more_grades"
   ],
   "metadata": {
    "collapsed": false,
    "ExecuteTime": {
     "end_time": "2025-03-23T13:21:20.371872Z",
     "start_time": "2025-03-23T13:21:20.355225Z"
    }
   },
   "id": "78ad9873d199b3",
   "execution_count": 174
  },
  {
   "cell_type": "markdown",
   "source": [
    "The `pd.pivot_table()` function can now be called on this `DataFrame` object and group the data by the `name` column. By default, the `pivot_table()` function calculates the average."
   ],
   "metadata": {
    "collapsed": false
   },
   "id": "a7a144099a9e1344"
  },
  {
   "cell_type": "code",
   "outputs": [
    {
     "data": {
      "text/plain": "        additional points      grade\nname                                \nalice                 NaN   8.333333\nbob              1.000000   9.666667\ncarol            2.000000   6.666667\ndarwin           0.333333  10.000000",
      "text/html": "<div>\n<style scoped>\n    .dataframe tbody tr th:only-of-type {\n        vertical-align: middle;\n    }\n\n    .dataframe tbody tr th {\n        vertical-align: top;\n    }\n\n    .dataframe thead th {\n        text-align: right;\n    }\n</style>\n<table border=\"1\" class=\"dataframe\">\n  <thead>\n    <tr style=\"text-align: right;\">\n      <th></th>\n      <th>additional points</th>\n      <th>grade</th>\n    </tr>\n    <tr>\n      <th>name</th>\n      <th></th>\n      <th></th>\n    </tr>\n  </thead>\n  <tbody>\n    <tr>\n      <th>alice</th>\n      <td>NaN</td>\n      <td>8.333333</td>\n    </tr>\n    <tr>\n      <th>bob</th>\n      <td>1.000000</td>\n      <td>9.666667</td>\n    </tr>\n    <tr>\n      <th>carol</th>\n      <td>2.000000</td>\n      <td>6.666667</td>\n    </tr>\n    <tr>\n      <th>darwin</th>\n      <td>0.333333</td>\n      <td>10.000000</td>\n    </tr>\n  </tbody>\n</table>\n</div>"
     },
     "execution_count": 183,
     "metadata": {},
     "output_type": "execute_result"
    }
   ],
   "source": [
    "pd.pivot_table(more_grades, index='name', values=['grade', 'additional points'])"
   ],
   "metadata": {
    "collapsed": false,
    "ExecuteTime": {
     "end_time": "2025-03-23T13:25:20.730239Z",
     "start_time": "2025-03-23T13:25:20.715250Z"
    }
   },
   "id": "fdf206350b26b1a4",
   "execution_count": 183
  },
  {
   "cell_type": "markdown",
   "source": [
    "The aggregation function can be changed by specifying the `aggfunc` argument."
   ],
   "metadata": {
    "collapsed": false
   },
   "id": "3877a927f3b575f"
  },
  {
   "cell_type": "code",
   "outputs": [
    {
     "data": {
      "text/plain": "        additional points  grade\nname                            \nalice                 NaN    9.0\nbob                   2.0   10.0\ncarol                 3.0   11.0\ndarwin                1.0   11.0",
      "text/html": "<div>\n<style scoped>\n    .dataframe tbody tr th:only-of-type {\n        vertical-align: middle;\n    }\n\n    .dataframe tbody tr th {\n        vertical-align: top;\n    }\n\n    .dataframe thead th {\n        text-align: right;\n    }\n</style>\n<table border=\"1\" class=\"dataframe\">\n  <thead>\n    <tr style=\"text-align: right;\">\n      <th></th>\n      <th>additional points</th>\n      <th>grade</th>\n    </tr>\n    <tr>\n      <th>name</th>\n      <th></th>\n      <th></th>\n    </tr>\n  </thead>\n  <tbody>\n    <tr>\n      <th>alice</th>\n      <td>NaN</td>\n      <td>9.0</td>\n    </tr>\n    <tr>\n      <th>bob</th>\n      <td>2.0</td>\n      <td>10.0</td>\n    </tr>\n    <tr>\n      <th>carol</th>\n      <td>3.0</td>\n      <td>11.0</td>\n    </tr>\n    <tr>\n      <th>darwin</th>\n      <td>1.0</td>\n      <td>11.0</td>\n    </tr>\n  </tbody>\n</table>\n</div>"
     },
     "execution_count": 185,
     "metadata": {},
     "output_type": "execute_result"
    }
   ],
   "source": [
    "pd.pivot_table(more_grades, index='name', values=['grade', 'additional points'], aggfunc='max')"
   ],
   "metadata": {
    "collapsed": false,
    "ExecuteTime": {
     "end_time": "2025-03-23T13:27:26.376024Z",
     "start_time": "2025-03-23T13:27:26.362076Z"
    }
   },
   "id": "69dad72210868180",
   "execution_count": 185
  },
  {
   "cell_type": "code",
   "outputs": [
    {
     "data": {
      "text/plain": "month     nov   oct    sep        All\nname                                 \nalice    9.00   8.0   8.00   8.333333\nbob     10.00   9.0  10.00   9.666667\ncarol    5.00  11.0   4.00   6.666667\ndarwin  11.00  10.0   9.00  10.000000\nAll      8.75   9.5   7.75   8.666667",
      "text/html": "<div>\n<style scoped>\n    .dataframe tbody tr th:only-of-type {\n        vertical-align: middle;\n    }\n\n    .dataframe tbody tr th {\n        vertical-align: top;\n    }\n\n    .dataframe thead th {\n        text-align: right;\n    }\n</style>\n<table border=\"1\" class=\"dataframe\">\n  <thead>\n    <tr style=\"text-align: right;\">\n      <th>month</th>\n      <th>nov</th>\n      <th>oct</th>\n      <th>sep</th>\n      <th>All</th>\n    </tr>\n    <tr>\n      <th>name</th>\n      <th></th>\n      <th></th>\n      <th></th>\n      <th></th>\n    </tr>\n  </thead>\n  <tbody>\n    <tr>\n      <th>alice</th>\n      <td>9.00</td>\n      <td>8.0</td>\n      <td>8.00</td>\n      <td>8.333333</td>\n    </tr>\n    <tr>\n      <th>bob</th>\n      <td>10.00</td>\n      <td>9.0</td>\n      <td>10.00</td>\n      <td>9.666667</td>\n    </tr>\n    <tr>\n      <th>carol</th>\n      <td>5.00</td>\n      <td>11.0</td>\n      <td>4.00</td>\n      <td>6.666667</td>\n    </tr>\n    <tr>\n      <th>darwin</th>\n      <td>11.00</td>\n      <td>10.0</td>\n      <td>9.00</td>\n      <td>10.000000</td>\n    </tr>\n    <tr>\n      <th>All</th>\n      <td>8.75</td>\n      <td>9.5</td>\n      <td>7.75</td>\n      <td>8.666667</td>\n    </tr>\n  </tbody>\n</table>\n</div>"
     },
     "execution_count": 188,
     "metadata": {},
     "output_type": "execute_result"
    }
   ],
   "source": [
    "pd.pivot_table(more_grades, index='name', values='grade', columns='month', margins=True)"
   ],
   "metadata": {
    "collapsed": false,
    "ExecuteTime": {
     "end_time": "2025-03-23T13:29:51.706185Z",
     "start_time": "2025-03-23T13:29:51.671539Z"
    }
   },
   "id": "220e6eb672c24208",
   "execution_count": 188
  },
  {
   "cell_type": "code",
   "outputs": [
    {
     "data": {
      "text/plain": "              additional points  grade\nname   month                          \nalice  nov                  NaN   9.00\n       oct                  NaN   8.00\n       sep                  NaN   8.00\nbob    nov                2.000  10.00\n       oct                  NaN   9.00\n       sep                0.000  10.00\ncarol  nov                0.000   5.00\n       oct                3.000  11.00\n       sep                3.000   4.00\ndarwin nov                0.000  11.00\n       oct                1.000  10.00\n       sep                0.000   9.00\nAll                       1.125   8.75",
      "text/html": "<div>\n<style scoped>\n    .dataframe tbody tr th:only-of-type {\n        vertical-align: middle;\n    }\n\n    .dataframe tbody tr th {\n        vertical-align: top;\n    }\n\n    .dataframe thead th {\n        text-align: right;\n    }\n</style>\n<table border=\"1\" class=\"dataframe\">\n  <thead>\n    <tr style=\"text-align: right;\">\n      <th></th>\n      <th></th>\n      <th>additional points</th>\n      <th>grade</th>\n    </tr>\n    <tr>\n      <th>name</th>\n      <th>month</th>\n      <th></th>\n      <th></th>\n    </tr>\n  </thead>\n  <tbody>\n    <tr>\n      <th rowspan=\"3\" valign=\"top\">alice</th>\n      <th>nov</th>\n      <td>NaN</td>\n      <td>9.00</td>\n    </tr>\n    <tr>\n      <th>oct</th>\n      <td>NaN</td>\n      <td>8.00</td>\n    </tr>\n    <tr>\n      <th>sep</th>\n      <td>NaN</td>\n      <td>8.00</td>\n    </tr>\n    <tr>\n      <th rowspan=\"3\" valign=\"top\">bob</th>\n      <th>nov</th>\n      <td>2.000</td>\n      <td>10.00</td>\n    </tr>\n    <tr>\n      <th>oct</th>\n      <td>NaN</td>\n      <td>9.00</td>\n    </tr>\n    <tr>\n      <th>sep</th>\n      <td>0.000</td>\n      <td>10.00</td>\n    </tr>\n    <tr>\n      <th rowspan=\"3\" valign=\"top\">carol</th>\n      <th>nov</th>\n      <td>0.000</td>\n      <td>5.00</td>\n    </tr>\n    <tr>\n      <th>oct</th>\n      <td>3.000</td>\n      <td>11.00</td>\n    </tr>\n    <tr>\n      <th>sep</th>\n      <td>3.000</td>\n      <td>4.00</td>\n    </tr>\n    <tr>\n      <th rowspan=\"3\" valign=\"top\">darwin</th>\n      <th>nov</th>\n      <td>0.000</td>\n      <td>11.00</td>\n    </tr>\n    <tr>\n      <th>oct</th>\n      <td>1.000</td>\n      <td>10.00</td>\n    </tr>\n    <tr>\n      <th>sep</th>\n      <td>0.000</td>\n      <td>9.00</td>\n    </tr>\n    <tr>\n      <th>All</th>\n      <th></th>\n      <td>1.125</td>\n      <td>8.75</td>\n    </tr>\n  </tbody>\n</table>\n</div>"
     },
     "execution_count": 189,
     "metadata": {},
     "output_type": "execute_result"
    }
   ],
   "source": [
    "pd.pivot_table(more_grades, index=('name', 'month'), margins=True)"
   ],
   "metadata": {
    "collapsed": false,
    "ExecuteTime": {
     "end_time": "2025-03-23T13:30:56.503645Z",
     "start_time": "2025-03-23T13:30:56.477965Z"
    }
   },
   "id": "dda6f9cd086484e4",
   "execution_count": 189
  },
  {
   "cell_type": "markdown",
   "source": [
    "## Overview Functions\n",
    "\n",
    "When using large `DataFrames`, it is sometimes useful to be able to quickly review their contents. The pandas module provides several functions for this."
   ],
   "metadata": {
    "collapsed": false
   },
   "id": "1b736869a7651b72"
  },
  {
   "cell_type": "code",
   "outputs": [
    {
     "data": {
      "text/plain": "         A     B     C any_tekst      D      E      F     G      H      I  \\\n0      NaN  11.0  44.0    Blabla   99.0    NaN   88.0  22.0  165.0  143.0   \n1     11.0  22.0  55.0    Blabla  110.0    NaN   99.0  33.0    NaN  154.0   \n2     22.0  33.0  66.0    Blabla  121.0   11.0  110.0  44.0    NaN  165.0   \n3     33.0  44.0  77.0    Blabla  132.0   22.0  121.0  55.0   11.0    NaN   \n4     44.0  55.0  88.0    Blabla  143.0   33.0  132.0  66.0   22.0    NaN   \n...    ...   ...   ...       ...    ...    ...    ...   ...    ...    ...   \n9995   NaN   NaN  33.0    Blabla   88.0  165.0   77.0  11.0  154.0  132.0   \n9996   NaN  11.0  44.0    Blabla   99.0    NaN   88.0  22.0  165.0  143.0   \n9997  11.0  22.0  55.0    Blabla  110.0    NaN   99.0  33.0    NaN  154.0   \n9998  22.0  33.0  66.0    Blabla  121.0   11.0  110.0  44.0    NaN  165.0   \n9999  33.0  44.0  77.0    Blabla  132.0   22.0  121.0  55.0   11.0    NaN   \n\n      ...     Q     R     S     T      U      V      W     X      Y      Z  \n0     ...  11.0   NaN  11.0  44.0   99.0    NaN   88.0  22.0  165.0  143.0  \n1     ...  22.0  11.0  22.0  55.0  110.0    NaN   99.0  33.0    NaN  154.0  \n2     ...  33.0  22.0  33.0  66.0  121.0   11.0  110.0  44.0    NaN  165.0  \n3     ...  44.0  33.0  44.0  77.0  132.0   22.0  121.0  55.0   11.0    NaN  \n4     ...  55.0  44.0  55.0  88.0  143.0   33.0  132.0  66.0   22.0    NaN  \n...   ...   ...   ...   ...   ...    ...    ...    ...   ...    ...    ...  \n9995  ...   NaN   NaN   NaN  33.0   88.0  165.0   77.0  11.0  154.0  132.0  \n9996  ...  11.0   NaN  11.0  44.0   99.0    NaN   88.0  22.0  165.0  143.0  \n9997  ...  22.0  11.0  22.0  55.0  110.0    NaN   99.0  33.0    NaN  154.0  \n9998  ...  33.0  22.0  33.0  66.0  121.0   11.0  110.0  44.0    NaN  165.0  \n9999  ...  44.0  33.0  44.0  77.0  132.0   22.0  121.0  55.0   11.0    NaN  \n\n[10000 rows x 27 columns]",
      "text/html": "<div>\n<style scoped>\n    .dataframe tbody tr th:only-of-type {\n        vertical-align: middle;\n    }\n\n    .dataframe tbody tr th {\n        vertical-align: top;\n    }\n\n    .dataframe thead th {\n        text-align: right;\n    }\n</style>\n<table border=\"1\" class=\"dataframe\">\n  <thead>\n    <tr style=\"text-align: right;\">\n      <th></th>\n      <th>A</th>\n      <th>B</th>\n      <th>C</th>\n      <th>any_tekst</th>\n      <th>D</th>\n      <th>E</th>\n      <th>F</th>\n      <th>G</th>\n      <th>H</th>\n      <th>I</th>\n      <th>...</th>\n      <th>Q</th>\n      <th>R</th>\n      <th>S</th>\n      <th>T</th>\n      <th>U</th>\n      <th>V</th>\n      <th>W</th>\n      <th>X</th>\n      <th>Y</th>\n      <th>Z</th>\n    </tr>\n  </thead>\n  <tbody>\n    <tr>\n      <th>0</th>\n      <td>NaN</td>\n      <td>11.0</td>\n      <td>44.0</td>\n      <td>Blabla</td>\n      <td>99.0</td>\n      <td>NaN</td>\n      <td>88.0</td>\n      <td>22.0</td>\n      <td>165.0</td>\n      <td>143.0</td>\n      <td>...</td>\n      <td>11.0</td>\n      <td>NaN</td>\n      <td>11.0</td>\n      <td>44.0</td>\n      <td>99.0</td>\n      <td>NaN</td>\n      <td>88.0</td>\n      <td>22.0</td>\n      <td>165.0</td>\n      <td>143.0</td>\n    </tr>\n    <tr>\n      <th>1</th>\n      <td>11.0</td>\n      <td>22.0</td>\n      <td>55.0</td>\n      <td>Blabla</td>\n      <td>110.0</td>\n      <td>NaN</td>\n      <td>99.0</td>\n      <td>33.0</td>\n      <td>NaN</td>\n      <td>154.0</td>\n      <td>...</td>\n      <td>22.0</td>\n      <td>11.0</td>\n      <td>22.0</td>\n      <td>55.0</td>\n      <td>110.0</td>\n      <td>NaN</td>\n      <td>99.0</td>\n      <td>33.0</td>\n      <td>NaN</td>\n      <td>154.0</td>\n    </tr>\n    <tr>\n      <th>2</th>\n      <td>22.0</td>\n      <td>33.0</td>\n      <td>66.0</td>\n      <td>Blabla</td>\n      <td>121.0</td>\n      <td>11.0</td>\n      <td>110.0</td>\n      <td>44.0</td>\n      <td>NaN</td>\n      <td>165.0</td>\n      <td>...</td>\n      <td>33.0</td>\n      <td>22.0</td>\n      <td>33.0</td>\n      <td>66.0</td>\n      <td>121.0</td>\n      <td>11.0</td>\n      <td>110.0</td>\n      <td>44.0</td>\n      <td>NaN</td>\n      <td>165.0</td>\n    </tr>\n    <tr>\n      <th>3</th>\n      <td>33.0</td>\n      <td>44.0</td>\n      <td>77.0</td>\n      <td>Blabla</td>\n      <td>132.0</td>\n      <td>22.0</td>\n      <td>121.0</td>\n      <td>55.0</td>\n      <td>11.0</td>\n      <td>NaN</td>\n      <td>...</td>\n      <td>44.0</td>\n      <td>33.0</td>\n      <td>44.0</td>\n      <td>77.0</td>\n      <td>132.0</td>\n      <td>22.0</td>\n      <td>121.0</td>\n      <td>55.0</td>\n      <td>11.0</td>\n      <td>NaN</td>\n    </tr>\n    <tr>\n      <th>4</th>\n      <td>44.0</td>\n      <td>55.0</td>\n      <td>88.0</td>\n      <td>Blabla</td>\n      <td>143.0</td>\n      <td>33.0</td>\n      <td>132.0</td>\n      <td>66.0</td>\n      <td>22.0</td>\n      <td>NaN</td>\n      <td>...</td>\n      <td>55.0</td>\n      <td>44.0</td>\n      <td>55.0</td>\n      <td>88.0</td>\n      <td>143.0</td>\n      <td>33.0</td>\n      <td>132.0</td>\n      <td>66.0</td>\n      <td>22.0</td>\n      <td>NaN</td>\n    </tr>\n    <tr>\n      <th>...</th>\n      <td>...</td>\n      <td>...</td>\n      <td>...</td>\n      <td>...</td>\n      <td>...</td>\n      <td>...</td>\n      <td>...</td>\n      <td>...</td>\n      <td>...</td>\n      <td>...</td>\n      <td>...</td>\n      <td>...</td>\n      <td>...</td>\n      <td>...</td>\n      <td>...</td>\n      <td>...</td>\n      <td>...</td>\n      <td>...</td>\n      <td>...</td>\n      <td>...</td>\n      <td>...</td>\n    </tr>\n    <tr>\n      <th>9995</th>\n      <td>NaN</td>\n      <td>NaN</td>\n      <td>33.0</td>\n      <td>Blabla</td>\n      <td>88.0</td>\n      <td>165.0</td>\n      <td>77.0</td>\n      <td>11.0</td>\n      <td>154.0</td>\n      <td>132.0</td>\n      <td>...</td>\n      <td>NaN</td>\n      <td>NaN</td>\n      <td>NaN</td>\n      <td>33.0</td>\n      <td>88.0</td>\n      <td>165.0</td>\n      <td>77.0</td>\n      <td>11.0</td>\n      <td>154.0</td>\n      <td>132.0</td>\n    </tr>\n    <tr>\n      <th>9996</th>\n      <td>NaN</td>\n      <td>11.0</td>\n      <td>44.0</td>\n      <td>Blabla</td>\n      <td>99.0</td>\n      <td>NaN</td>\n      <td>88.0</td>\n      <td>22.0</td>\n      <td>165.0</td>\n      <td>143.0</td>\n      <td>...</td>\n      <td>11.0</td>\n      <td>NaN</td>\n      <td>11.0</td>\n      <td>44.0</td>\n      <td>99.0</td>\n      <td>NaN</td>\n      <td>88.0</td>\n      <td>22.0</td>\n      <td>165.0</td>\n      <td>143.0</td>\n    </tr>\n    <tr>\n      <th>9997</th>\n      <td>11.0</td>\n      <td>22.0</td>\n      <td>55.0</td>\n      <td>Blabla</td>\n      <td>110.0</td>\n      <td>NaN</td>\n      <td>99.0</td>\n      <td>33.0</td>\n      <td>NaN</td>\n      <td>154.0</td>\n      <td>...</td>\n      <td>22.0</td>\n      <td>11.0</td>\n      <td>22.0</td>\n      <td>55.0</td>\n      <td>110.0</td>\n      <td>NaN</td>\n      <td>99.0</td>\n      <td>33.0</td>\n      <td>NaN</td>\n      <td>154.0</td>\n    </tr>\n    <tr>\n      <th>9998</th>\n      <td>22.0</td>\n      <td>33.0</td>\n      <td>66.0</td>\n      <td>Blabla</td>\n      <td>121.0</td>\n      <td>11.0</td>\n      <td>110.0</td>\n      <td>44.0</td>\n      <td>NaN</td>\n      <td>165.0</td>\n      <td>...</td>\n      <td>33.0</td>\n      <td>22.0</td>\n      <td>33.0</td>\n      <td>66.0</td>\n      <td>121.0</td>\n      <td>11.0</td>\n      <td>110.0</td>\n      <td>44.0</td>\n      <td>NaN</td>\n      <td>165.0</td>\n    </tr>\n    <tr>\n      <th>9999</th>\n      <td>33.0</td>\n      <td>44.0</td>\n      <td>77.0</td>\n      <td>Blabla</td>\n      <td>132.0</td>\n      <td>22.0</td>\n      <td>121.0</td>\n      <td>55.0</td>\n      <td>11.0</td>\n      <td>NaN</td>\n      <td>...</td>\n      <td>44.0</td>\n      <td>33.0</td>\n      <td>44.0</td>\n      <td>77.0</td>\n      <td>132.0</td>\n      <td>22.0</td>\n      <td>121.0</td>\n      <td>55.0</td>\n      <td>11.0</td>\n      <td>NaN</td>\n    </tr>\n  </tbody>\n</table>\n<p>10000 rows × 27 columns</p>\n</div>"
     },
     "execution_count": 190,
     "metadata": {},
     "output_type": "execute_result"
    }
   ],
   "source": [
    "much_data = np.fromfunction(lambda x, y: (x + y * y) % 17 * 11, (10000, 26))\n",
    "large_df = pd.DataFrame(much_data, columns=list('ABCDEFGHIJKLMNOPQRSTUVWXYZ'))\n",
    "large_df[large_df % 16 == 0] = np.nan\n",
    "large_df.insert(3,'any_tekst', 'Blabla')\n",
    "large_df"
   ],
   "metadata": {
    "collapsed": false,
    "ExecuteTime": {
     "end_time": "2025-03-23T13:32:47.451636Z",
     "start_time": "2025-03-23T13:32:47.385273Z"
    }
   },
   "id": "ccc307b79198fe6e",
   "execution_count": 190
  },
  {
   "cell_type": "markdown",
   "source": [
    "The `head()` method returns the first five lines."
   ],
   "metadata": {
    "collapsed": false
   },
   "id": "cb758dcdf8e29883"
  },
  {
   "cell_type": "code",
   "outputs": [
    {
     "data": {
      "text/plain": "      A     B     C any_tekst      D     E      F     G      H      I  ...  \\\n0   NaN  11.0  44.0    Blabla   99.0   NaN   88.0  22.0  165.0  143.0  ...   \n1  11.0  22.0  55.0    Blabla  110.0   NaN   99.0  33.0    NaN  154.0  ...   \n2  22.0  33.0  66.0    Blabla  121.0  11.0  110.0  44.0    NaN  165.0  ...   \n3  33.0  44.0  77.0    Blabla  132.0  22.0  121.0  55.0   11.0    NaN  ...   \n4  44.0  55.0  88.0    Blabla  143.0  33.0  132.0  66.0   22.0    NaN  ...   \n\n      Q     R     S     T      U     V      W     X      Y      Z  \n0  11.0   NaN  11.0  44.0   99.0   NaN   88.0  22.0  165.0  143.0  \n1  22.0  11.0  22.0  55.0  110.0   NaN   99.0  33.0    NaN  154.0  \n2  33.0  22.0  33.0  66.0  121.0  11.0  110.0  44.0    NaN  165.0  \n3  44.0  33.0  44.0  77.0  132.0  22.0  121.0  55.0   11.0    NaN  \n4  55.0  44.0  55.0  88.0  143.0  33.0  132.0  66.0   22.0    NaN  \n\n[5 rows x 27 columns]",
      "text/html": "<div>\n<style scoped>\n    .dataframe tbody tr th:only-of-type {\n        vertical-align: middle;\n    }\n\n    .dataframe tbody tr th {\n        vertical-align: top;\n    }\n\n    .dataframe thead th {\n        text-align: right;\n    }\n</style>\n<table border=\"1\" class=\"dataframe\">\n  <thead>\n    <tr style=\"text-align: right;\">\n      <th></th>\n      <th>A</th>\n      <th>B</th>\n      <th>C</th>\n      <th>any_tekst</th>\n      <th>D</th>\n      <th>E</th>\n      <th>F</th>\n      <th>G</th>\n      <th>H</th>\n      <th>I</th>\n      <th>...</th>\n      <th>Q</th>\n      <th>R</th>\n      <th>S</th>\n      <th>T</th>\n      <th>U</th>\n      <th>V</th>\n      <th>W</th>\n      <th>X</th>\n      <th>Y</th>\n      <th>Z</th>\n    </tr>\n  </thead>\n  <tbody>\n    <tr>\n      <th>0</th>\n      <td>NaN</td>\n      <td>11.0</td>\n      <td>44.0</td>\n      <td>Blabla</td>\n      <td>99.0</td>\n      <td>NaN</td>\n      <td>88.0</td>\n      <td>22.0</td>\n      <td>165.0</td>\n      <td>143.0</td>\n      <td>...</td>\n      <td>11.0</td>\n      <td>NaN</td>\n      <td>11.0</td>\n      <td>44.0</td>\n      <td>99.0</td>\n      <td>NaN</td>\n      <td>88.0</td>\n      <td>22.0</td>\n      <td>165.0</td>\n      <td>143.0</td>\n    </tr>\n    <tr>\n      <th>1</th>\n      <td>11.0</td>\n      <td>22.0</td>\n      <td>55.0</td>\n      <td>Blabla</td>\n      <td>110.0</td>\n      <td>NaN</td>\n      <td>99.0</td>\n      <td>33.0</td>\n      <td>NaN</td>\n      <td>154.0</td>\n      <td>...</td>\n      <td>22.0</td>\n      <td>11.0</td>\n      <td>22.0</td>\n      <td>55.0</td>\n      <td>110.0</td>\n      <td>NaN</td>\n      <td>99.0</td>\n      <td>33.0</td>\n      <td>NaN</td>\n      <td>154.0</td>\n    </tr>\n    <tr>\n      <th>2</th>\n      <td>22.0</td>\n      <td>33.0</td>\n      <td>66.0</td>\n      <td>Blabla</td>\n      <td>121.0</td>\n      <td>11.0</td>\n      <td>110.0</td>\n      <td>44.0</td>\n      <td>NaN</td>\n      <td>165.0</td>\n      <td>...</td>\n      <td>33.0</td>\n      <td>22.0</td>\n      <td>33.0</td>\n      <td>66.0</td>\n      <td>121.0</td>\n      <td>11.0</td>\n      <td>110.0</td>\n      <td>44.0</td>\n      <td>NaN</td>\n      <td>165.0</td>\n    </tr>\n    <tr>\n      <th>3</th>\n      <td>33.0</td>\n      <td>44.0</td>\n      <td>77.0</td>\n      <td>Blabla</td>\n      <td>132.0</td>\n      <td>22.0</td>\n      <td>121.0</td>\n      <td>55.0</td>\n      <td>11.0</td>\n      <td>NaN</td>\n      <td>...</td>\n      <td>44.0</td>\n      <td>33.0</td>\n      <td>44.0</td>\n      <td>77.0</td>\n      <td>132.0</td>\n      <td>22.0</td>\n      <td>121.0</td>\n      <td>55.0</td>\n      <td>11.0</td>\n      <td>NaN</td>\n    </tr>\n    <tr>\n      <th>4</th>\n      <td>44.0</td>\n      <td>55.0</td>\n      <td>88.0</td>\n      <td>Blabla</td>\n      <td>143.0</td>\n      <td>33.0</td>\n      <td>132.0</td>\n      <td>66.0</td>\n      <td>22.0</td>\n      <td>NaN</td>\n      <td>...</td>\n      <td>55.0</td>\n      <td>44.0</td>\n      <td>55.0</td>\n      <td>88.0</td>\n      <td>143.0</td>\n      <td>33.0</td>\n      <td>132.0</td>\n      <td>66.0</td>\n      <td>22.0</td>\n      <td>NaN</td>\n    </tr>\n  </tbody>\n</table>\n<p>5 rows × 27 columns</p>\n</div>"
     },
     "execution_count": 191,
     "metadata": {},
     "output_type": "execute_result"
    }
   ],
   "source": [
    "large_df.head()"
   ],
   "metadata": {
    "collapsed": false,
    "ExecuteTime": {
     "end_time": "2025-03-23T13:33:15.094221Z",
     "start_time": "2025-03-23T13:33:15.068921Z"
    }
   },
   "id": "11c8eb9be629825f",
   "execution_count": 191
  },
  {
   "cell_type": "markdown",
   "source": [
    "There is also a `tail()` function that lets look through the last five rows. Any number of rows can be defined."
   ],
   "metadata": {
    "collapsed": false
   },
   "id": "31df37a0d6789778"
  },
  {
   "cell_type": "code",
   "outputs": [
    {
     "data": {
      "text/plain": "         A     B     C any_tekst      D     E      F     G     H      I  ...  \\\n9998  22.0  33.0  66.0    Blabla  121.0  11.0  110.0  44.0   NaN  165.0  ...   \n9999  33.0  44.0  77.0    Blabla  132.0  22.0  121.0  55.0  11.0    NaN  ...   \n\n         Q     R     S     T      U     V      W     X     Y      Z  \n9998  33.0  22.0  33.0  66.0  121.0  11.0  110.0  44.0   NaN  165.0  \n9999  44.0  33.0  44.0  77.0  132.0  22.0  121.0  55.0  11.0    NaN  \n\n[2 rows x 27 columns]",
      "text/html": "<div>\n<style scoped>\n    .dataframe tbody tr th:only-of-type {\n        vertical-align: middle;\n    }\n\n    .dataframe tbody tr th {\n        vertical-align: top;\n    }\n\n    .dataframe thead th {\n        text-align: right;\n    }\n</style>\n<table border=\"1\" class=\"dataframe\">\n  <thead>\n    <tr style=\"text-align: right;\">\n      <th></th>\n      <th>A</th>\n      <th>B</th>\n      <th>C</th>\n      <th>any_tekst</th>\n      <th>D</th>\n      <th>E</th>\n      <th>F</th>\n      <th>G</th>\n      <th>H</th>\n      <th>I</th>\n      <th>...</th>\n      <th>Q</th>\n      <th>R</th>\n      <th>S</th>\n      <th>T</th>\n      <th>U</th>\n      <th>V</th>\n      <th>W</th>\n      <th>X</th>\n      <th>Y</th>\n      <th>Z</th>\n    </tr>\n  </thead>\n  <tbody>\n    <tr>\n      <th>9998</th>\n      <td>22.0</td>\n      <td>33.0</td>\n      <td>66.0</td>\n      <td>Blabla</td>\n      <td>121.0</td>\n      <td>11.0</td>\n      <td>110.0</td>\n      <td>44.0</td>\n      <td>NaN</td>\n      <td>165.0</td>\n      <td>...</td>\n      <td>33.0</td>\n      <td>22.0</td>\n      <td>33.0</td>\n      <td>66.0</td>\n      <td>121.0</td>\n      <td>11.0</td>\n      <td>110.0</td>\n      <td>44.0</td>\n      <td>NaN</td>\n      <td>165.0</td>\n    </tr>\n    <tr>\n      <th>9999</th>\n      <td>33.0</td>\n      <td>44.0</td>\n      <td>77.0</td>\n      <td>Blabla</td>\n      <td>132.0</td>\n      <td>22.0</td>\n      <td>121.0</td>\n      <td>55.0</td>\n      <td>11.0</td>\n      <td>NaN</td>\n      <td>...</td>\n      <td>44.0</td>\n      <td>33.0</td>\n      <td>44.0</td>\n      <td>77.0</td>\n      <td>132.0</td>\n      <td>22.0</td>\n      <td>121.0</td>\n      <td>55.0</td>\n      <td>11.0</td>\n      <td>NaN</td>\n    </tr>\n  </tbody>\n</table>\n<p>2 rows × 27 columns</p>\n</div>"
     },
     "execution_count": 192,
     "metadata": {},
     "output_type": "execute_result"
    }
   ],
   "source": [
    "large_df.tail(n=2)"
   ],
   "metadata": {
    "collapsed": false,
    "ExecuteTime": {
     "end_time": "2025-03-23T13:34:13.197912Z",
     "start_time": "2025-03-23T13:34:13.171985Z"
    }
   },
   "id": "a0f2a5d9227de907",
   "execution_count": 192
  },
  {
   "cell_type": "markdown",
   "source": [
    "The `info()` method displays a summary of the contents of each column."
   ],
   "metadata": {
    "collapsed": false
   },
   "id": "2a3c7d3a0e9f2c37"
  },
  {
   "cell_type": "code",
   "outputs": [
    {
     "name": "stdout",
     "output_type": "stream",
     "text": [
      "<class 'pandas.core.frame.DataFrame'>\n",
      "RangeIndex: 10000 entries, 0 to 9999\n",
      "Data columns (total 27 columns):\n",
      " #   Column     Non-Null Count  Dtype  \n",
      "---  ------     --------------  -----  \n",
      " 0   A          8823 non-null   float64\n",
      " 1   B          8824 non-null   float64\n",
      " 2   C          8824 non-null   float64\n",
      " 3   any_tekst  10000 non-null  object \n",
      " 4   D          8824 non-null   float64\n",
      " 5   E          8822 non-null   float64\n",
      " 6   F          8824 non-null   float64\n",
      " 7   G          8824 non-null   float64\n",
      " 8   H          8822 non-null   float64\n",
      " 9   I          8823 non-null   float64\n",
      " 10  J          8823 non-null   float64\n",
      " 11  K          8822 non-null   float64\n",
      " 12  L          8824 non-null   float64\n",
      " 13  M          8824 non-null   float64\n",
      " 14  N          8822 non-null   float64\n",
      " 15  O          8824 non-null   float64\n",
      " 16  P          8824 non-null   float64\n",
      " 17  Q          8824 non-null   float64\n",
      " 18  R          8823 non-null   float64\n",
      " 19  S          8824 non-null   float64\n",
      " 20  T          8824 non-null   float64\n",
      " 21  U          8824 non-null   float64\n",
      " 22  V          8822 non-null   float64\n",
      " 23  W          8824 non-null   float64\n",
      " 24  X          8824 non-null   float64\n",
      " 25  Y          8822 non-null   float64\n",
      " 26  Z          8823 non-null   float64\n",
      "dtypes: float64(26), object(1)\n",
      "memory usage: 2.1+ MB\n"
     ]
    }
   ],
   "source": [
    "large_df.info()"
   ],
   "metadata": {
    "collapsed": false,
    "ExecuteTime": {
     "end_time": "2025-03-23T13:34:35.769999Z",
     "start_time": "2025-03-23T13:34:35.756989Z"
    }
   },
   "id": "2cdf6dac9266ea48",
   "execution_count": 193
  },
  {
   "cell_type": "markdown",
   "source": [
    "There is also a `describe()` method that elegantly summarizes the main groups of values in each column:\n",
    "* `count`: the number of non-zero values (not `NaN` values),\n",
    "* `mean`: the average of non-zero values,\n",
    "* `std`: standard deviation of non-zero values,\n",
    "* `min`: the minimum values,\n",
    "* `25%`, `50%`, `75%`: the 25th, 50th and 75th percentileof non-zero values\n",
    "* `max`: the maximum values."
   ],
   "metadata": {
    "collapsed": false
   },
   "id": "82b0935ee2bf7d80"
  },
  {
   "cell_type": "code",
   "outputs": [
    {
     "data": {
      "text/plain": "                 A            B            C            D            E  \\\ncount  8823.000000  8824.000000  8824.000000  8824.000000  8822.000000   \nmean     87.977559    87.972575    87.987534    88.012466    87.983791   \nstd      47.535911    47.535523    47.521679    47.521679    47.535001   \nmin      11.000000    11.000000    11.000000    11.000000    11.000000   \n25%      44.000000    44.000000    44.000000    44.000000    44.000000   \n50%      88.000000    88.000000    88.000000    88.000000    88.000000   \n75%     132.000000   132.000000   132.000000   132.000000   132.000000   \nmax     165.000000   165.000000   165.000000   165.000000   165.000000   \n\n                 F            G            H            I            J  ...  \\\ncount  8824.000000  8824.000000  8822.000000  8823.000000  8823.000000  ...   \nmean     88.007480    87.977561    88.000000    88.022441    88.022441  ...   \nstd      47.519371    47.529755    47.536879    47.535911    47.535911  ...   \nmin      11.000000    11.000000    11.000000    11.000000    11.000000  ...   \n25%      44.000000    44.000000    44.000000    44.000000    44.000000  ...   \n50%      88.000000    88.000000    88.000000    88.000000    88.000000  ...   \n75%     132.000000   132.000000   132.000000   132.000000   132.000000  ...   \nmax     165.000000   165.000000   165.000000   165.000000   165.000000  ...   \n\n                 Q            R            S            T            U  \\\ncount  8824.000000  8823.000000  8824.000000  8824.000000  8824.000000   \nmean     87.972575    87.977559    87.972575    87.987534    88.012466   \nstd      47.535523    47.535911    47.535523    47.521679    47.521679   \nmin      11.000000    11.000000    11.000000    11.000000    11.000000   \n25%      44.000000    44.000000    44.000000    44.000000    44.000000   \n50%      88.000000    88.000000    88.000000    88.000000    88.000000   \n75%     132.000000   132.000000   132.000000   132.000000   132.000000   \nmax     165.000000   165.000000   165.000000   165.000000   165.000000   \n\n                 V            W            X            Y            Z  \ncount  8822.000000  8824.000000  8824.000000  8822.000000  8823.000000  \nmean     87.983791    88.007480    87.977561    88.000000    88.022441  \nstd      47.535001    47.519371    47.529755    47.536879    47.535911  \nmin      11.000000    11.000000    11.000000    11.000000    11.000000  \n25%      44.000000    44.000000    44.000000    44.000000    44.000000  \n50%      88.000000    88.000000    88.000000    88.000000    88.000000  \n75%     132.000000   132.000000   132.000000   132.000000   132.000000  \nmax     165.000000   165.000000   165.000000   165.000000   165.000000  \n\n[8 rows x 26 columns]",
      "text/html": "<div>\n<style scoped>\n    .dataframe tbody tr th:only-of-type {\n        vertical-align: middle;\n    }\n\n    .dataframe tbody tr th {\n        vertical-align: top;\n    }\n\n    .dataframe thead th {\n        text-align: right;\n    }\n</style>\n<table border=\"1\" class=\"dataframe\">\n  <thead>\n    <tr style=\"text-align: right;\">\n      <th></th>\n      <th>A</th>\n      <th>B</th>\n      <th>C</th>\n      <th>D</th>\n      <th>E</th>\n      <th>F</th>\n      <th>G</th>\n      <th>H</th>\n      <th>I</th>\n      <th>J</th>\n      <th>...</th>\n      <th>Q</th>\n      <th>R</th>\n      <th>S</th>\n      <th>T</th>\n      <th>U</th>\n      <th>V</th>\n      <th>W</th>\n      <th>X</th>\n      <th>Y</th>\n      <th>Z</th>\n    </tr>\n  </thead>\n  <tbody>\n    <tr>\n      <th>count</th>\n      <td>8823.000000</td>\n      <td>8824.000000</td>\n      <td>8824.000000</td>\n      <td>8824.000000</td>\n      <td>8822.000000</td>\n      <td>8824.000000</td>\n      <td>8824.000000</td>\n      <td>8822.000000</td>\n      <td>8823.000000</td>\n      <td>8823.000000</td>\n      <td>...</td>\n      <td>8824.000000</td>\n      <td>8823.000000</td>\n      <td>8824.000000</td>\n      <td>8824.000000</td>\n      <td>8824.000000</td>\n      <td>8822.000000</td>\n      <td>8824.000000</td>\n      <td>8824.000000</td>\n      <td>8822.000000</td>\n      <td>8823.000000</td>\n    </tr>\n    <tr>\n      <th>mean</th>\n      <td>87.977559</td>\n      <td>87.972575</td>\n      <td>87.987534</td>\n      <td>88.012466</td>\n      <td>87.983791</td>\n      <td>88.007480</td>\n      <td>87.977561</td>\n      <td>88.000000</td>\n      <td>88.022441</td>\n      <td>88.022441</td>\n      <td>...</td>\n      <td>87.972575</td>\n      <td>87.977559</td>\n      <td>87.972575</td>\n      <td>87.987534</td>\n      <td>88.012466</td>\n      <td>87.983791</td>\n      <td>88.007480</td>\n      <td>87.977561</td>\n      <td>88.000000</td>\n      <td>88.022441</td>\n    </tr>\n    <tr>\n      <th>std</th>\n      <td>47.535911</td>\n      <td>47.535523</td>\n      <td>47.521679</td>\n      <td>47.521679</td>\n      <td>47.535001</td>\n      <td>47.519371</td>\n      <td>47.529755</td>\n      <td>47.536879</td>\n      <td>47.535911</td>\n      <td>47.535911</td>\n      <td>...</td>\n      <td>47.535523</td>\n      <td>47.535911</td>\n      <td>47.535523</td>\n      <td>47.521679</td>\n      <td>47.521679</td>\n      <td>47.535001</td>\n      <td>47.519371</td>\n      <td>47.529755</td>\n      <td>47.536879</td>\n      <td>47.535911</td>\n    </tr>\n    <tr>\n      <th>min</th>\n      <td>11.000000</td>\n      <td>11.000000</td>\n      <td>11.000000</td>\n      <td>11.000000</td>\n      <td>11.000000</td>\n      <td>11.000000</td>\n      <td>11.000000</td>\n      <td>11.000000</td>\n      <td>11.000000</td>\n      <td>11.000000</td>\n      <td>...</td>\n      <td>11.000000</td>\n      <td>11.000000</td>\n      <td>11.000000</td>\n      <td>11.000000</td>\n      <td>11.000000</td>\n      <td>11.000000</td>\n      <td>11.000000</td>\n      <td>11.000000</td>\n      <td>11.000000</td>\n      <td>11.000000</td>\n    </tr>\n    <tr>\n      <th>25%</th>\n      <td>44.000000</td>\n      <td>44.000000</td>\n      <td>44.000000</td>\n      <td>44.000000</td>\n      <td>44.000000</td>\n      <td>44.000000</td>\n      <td>44.000000</td>\n      <td>44.000000</td>\n      <td>44.000000</td>\n      <td>44.000000</td>\n      <td>...</td>\n      <td>44.000000</td>\n      <td>44.000000</td>\n      <td>44.000000</td>\n      <td>44.000000</td>\n      <td>44.000000</td>\n      <td>44.000000</td>\n      <td>44.000000</td>\n      <td>44.000000</td>\n      <td>44.000000</td>\n      <td>44.000000</td>\n    </tr>\n    <tr>\n      <th>50%</th>\n      <td>88.000000</td>\n      <td>88.000000</td>\n      <td>88.000000</td>\n      <td>88.000000</td>\n      <td>88.000000</td>\n      <td>88.000000</td>\n      <td>88.000000</td>\n      <td>88.000000</td>\n      <td>88.000000</td>\n      <td>88.000000</td>\n      <td>...</td>\n      <td>88.000000</td>\n      <td>88.000000</td>\n      <td>88.000000</td>\n      <td>88.000000</td>\n      <td>88.000000</td>\n      <td>88.000000</td>\n      <td>88.000000</td>\n      <td>88.000000</td>\n      <td>88.000000</td>\n      <td>88.000000</td>\n    </tr>\n    <tr>\n      <th>75%</th>\n      <td>132.000000</td>\n      <td>132.000000</td>\n      <td>132.000000</td>\n      <td>132.000000</td>\n      <td>132.000000</td>\n      <td>132.000000</td>\n      <td>132.000000</td>\n      <td>132.000000</td>\n      <td>132.000000</td>\n      <td>132.000000</td>\n      <td>...</td>\n      <td>132.000000</td>\n      <td>132.000000</td>\n      <td>132.000000</td>\n      <td>132.000000</td>\n      <td>132.000000</td>\n      <td>132.000000</td>\n      <td>132.000000</td>\n      <td>132.000000</td>\n      <td>132.000000</td>\n      <td>132.000000</td>\n    </tr>\n    <tr>\n      <th>max</th>\n      <td>165.000000</td>\n      <td>165.000000</td>\n      <td>165.000000</td>\n      <td>165.000000</td>\n      <td>165.000000</td>\n      <td>165.000000</td>\n      <td>165.000000</td>\n      <td>165.000000</td>\n      <td>165.000000</td>\n      <td>165.000000</td>\n      <td>...</td>\n      <td>165.000000</td>\n      <td>165.000000</td>\n      <td>165.000000</td>\n      <td>165.000000</td>\n      <td>165.000000</td>\n      <td>165.000000</td>\n      <td>165.000000</td>\n      <td>165.000000</td>\n      <td>165.000000</td>\n      <td>165.000000</td>\n    </tr>\n  </tbody>\n</table>\n<p>8 rows × 26 columns</p>\n</div>"
     },
     "execution_count": 194,
     "metadata": {},
     "output_type": "execute_result"
    }
   ],
   "source": [
    "large_df.describe()"
   ],
   "metadata": {
    "collapsed": false,
    "ExecuteTime": {
     "end_time": "2025-03-23T13:35:24.494303Z",
     "start_time": "2025-03-23T13:35:24.410492Z"
    }
   },
   "id": "7865f85944df4c84",
   "execution_count": 194
  },
  {
   "cell_type": "markdown",
   "source": [
    "# Saving and Loading\n",
    "\n",
    "The pandas module can save `DataFrame` objects in various forms, including file formats such as CSV, Excel, JSON, HTML, and HDF5, as well as to a SQL database."
   ],
   "metadata": {
    "collapsed": false
   },
   "id": "dfbc93f7e9ccfc2b"
  },
  {
   "cell_type": "code",
   "outputs": [
    {
     "data": {
      "text/plain": "      interests  weight  birth date  kids\nalice     Bikes    68.5        1985   NaN\nbob     Dancing    83.1        1984   3.0",
      "text/html": "<div>\n<style scoped>\n    .dataframe tbody tr th:only-of-type {\n        vertical-align: middle;\n    }\n\n    .dataframe tbody tr th {\n        vertical-align: top;\n    }\n\n    .dataframe thead th {\n        text-align: right;\n    }\n</style>\n<table border=\"1\" class=\"dataframe\">\n  <thead>\n    <tr style=\"text-align: right;\">\n      <th></th>\n      <th>interests</th>\n      <th>weight</th>\n      <th>birth date</th>\n      <th>kids</th>\n    </tr>\n  </thead>\n  <tbody>\n    <tr>\n      <th>alice</th>\n      <td>Bikes</td>\n      <td>68.5</td>\n      <td>1985</td>\n      <td>NaN</td>\n    </tr>\n    <tr>\n      <th>bob</th>\n      <td>Dancing</td>\n      <td>83.1</td>\n      <td>1984</td>\n      <td>3.0</td>\n    </tr>\n  </tbody>\n</table>\n</div>"
     },
     "execution_count": 195,
     "metadata": {},
     "output_type": "execute_result"
    }
   ],
   "source": [
    "my_df = pd.DataFrame(\n",
    "    [['Bikes', 68.5, 1985, np.nan], ['Dancing', 83.1, 1984, 3]], \n",
    "    columns=['interests','weight','birth date','kids'],\n",
    "    index=['alice', 'bob']\n",
    ")\n",
    "my_df"
   ],
   "metadata": {
    "collapsed": false,
    "ExecuteTime": {
     "end_time": "2025-03-23T13:36:54.339390Z",
     "start_time": "2025-03-23T13:36:54.327247Z"
    }
   },
   "id": "9fc77a25add638b3",
   "execution_count": 195
  },
  {
   "cell_type": "markdown",
   "source": [
    "## Saving\n",
    "\n",
    "Saving this object in CSV, HTML and JSON formats:"
   ],
   "metadata": {
    "collapsed": false
   },
   "id": "1d20797d9136e98e"
  },
  {
   "cell_type": "code",
   "outputs": [],
   "source": [
    "my_df.to_csv('object_df.csv')\n",
    "my_df.to_html('object_df.html')\n",
    "my_df.to_json('object_df.json')"
   ],
   "metadata": {
    "collapsed": false,
    "ExecuteTime": {
     "end_time": "2025-03-23T13:37:47.036814Z",
     "start_time": "2025-03-23T13:37:46.981881Z"
    }
   },
   "id": "e8c6f6f1dff0e6c0",
   "execution_count": 196
  },
  {
   "cell_type": "code",
   "outputs": [
    {
     "name": "stdout",
     "output_type": "stream",
     "text": [
      "# object_df.csv\n",
      ",interests,weight,birth date,kids\n",
      "alice,Bikes,68.5,1985,\n",
      "bob,Dancing,83.1,1984,3.0\n",
      "\n",
      "\n",
      "# object_df.html\n",
      "<table border=\"1\" class=\"dataframe\">\n",
      "  <thead>\n",
      "    <tr style=\"text-align: right;\">\n",
      "      <th></th>\n",
      "      <th>interests</th>\n",
      "      <th>weight</th>\n",
      "      <th>birth date</th>\n",
      "      <th>kids</th>\n",
      "    </tr>\n",
      "  </thead>\n",
      "  <tbody>\n",
      "    <tr>\n",
      "      <th>alice</th>\n",
      "      <td>Bikes</td>\n",
      "      <td>68.5</td>\n",
      "      <td>1985</td>\n",
      "      <td>NaN</td>\n",
      "    </tr>\n",
      "    <tr>\n",
      "      <th>bob</th>\n",
      "      <td>Dancing</td>\n",
      "      <td>83.1</td>\n",
      "      <td>1984</td>\n",
      "      <td>3.0</td>\n",
      "    </tr>\n",
      "  </tbody>\n",
      "</table>\n",
      "\n",
      "# object_df.json\n",
      "{\"interests\":{\"alice\":\"Bikes\",\"bob\":\"Dancing\"},\"weight\":{\"alice\":68.5,\"bob\":83.1},\"birth date\":{\"alice\":1985,\"bob\":1984},\"kids\":{\"alice\":null,\"bob\":3.0}}\n"
     ]
    }
   ],
   "source": [
    "for filename in ('object_df.csv', 'object_df.html', 'object_df.json'):\n",
    "    print('#', filename)\n",
    "    with open(filename, 'rt') as f:\n",
    "        print(f.read())\n",
    "        print()"
   ],
   "metadata": {
    "collapsed": false,
    "ExecuteTime": {
     "end_time": "2025-03-23T13:38:21.264368Z",
     "start_time": "2025-03-23T13:38:21.257025Z"
    }
   },
   "id": "fac8eac3680f1867",
   "execution_count": 197
  },
  {
   "cell_type": "markdown",
   "source": [
    "Index is preserved in the CSV file as the first (unnamed) column, the `<th>` tags in the HTML file, and as keys in the JSON format.\n",
    "\n",
    "Saving a `<DataFrame>` object in other formats is very similar, but some require additional libraries to be installed."
   ],
   "metadata": {
    "collapsed": false
   },
   "id": "e963be22eeec4973"
  },
  {
   "cell_type": "code",
   "outputs": [
    {
     "name": "stdout",
     "output_type": "stream",
     "text": [
      "No module named 'openpyxl'\n"
     ]
    }
   ],
   "source": [
    "try:\n",
    "    my_df.to_excel('object_df.xlsx', sheet_name='People')\n",
    "except ImportError as e:\n",
    "    print(e)"
   ],
   "metadata": {
    "collapsed": false,
    "ExecuteTime": {
     "end_time": "2025-03-23T13:39:52.077140Z",
     "start_time": "2025-03-23T13:39:52.055032Z"
    }
   },
   "id": "544c8973761ac6ea",
   "execution_count": 198
  },
  {
   "cell_type": "markdown",
   "source": [
    "## Loading"
   ],
   "metadata": {
    "collapsed": false
   },
   "id": "8e89db53dd941468"
  },
  {
   "cell_type": "code",
   "outputs": [
    {
     "data": {
      "text/plain": "      interests  weight  birth date  kids\nalice     Bikes    68.5        1985   NaN\nbob     Dancing    83.1        1984   3.0",
      "text/html": "<div>\n<style scoped>\n    .dataframe tbody tr th:only-of-type {\n        vertical-align: middle;\n    }\n\n    .dataframe tbody tr th {\n        vertical-align: top;\n    }\n\n    .dataframe thead th {\n        text-align: right;\n    }\n</style>\n<table border=\"1\" class=\"dataframe\">\n  <thead>\n    <tr style=\"text-align: right;\">\n      <th></th>\n      <th>interests</th>\n      <th>weight</th>\n      <th>birth date</th>\n      <th>kids</th>\n    </tr>\n  </thead>\n  <tbody>\n    <tr>\n      <th>alice</th>\n      <td>Bikes</td>\n      <td>68.5</td>\n      <td>1985</td>\n      <td>NaN</td>\n    </tr>\n    <tr>\n      <th>bob</th>\n      <td>Dancing</td>\n      <td>83.1</td>\n      <td>1984</td>\n      <td>3.0</td>\n    </tr>\n  </tbody>\n</table>\n</div>"
     },
     "execution_count": 199,
     "metadata": {},
     "output_type": "execute_result"
    }
   ],
   "source": [
    "my_df_loaded = pd.read_csv('object_df.csv', index_col=0)\n",
    "my_df_loaded"
   ],
   "metadata": {
    "collapsed": false,
    "ExecuteTime": {
     "end_time": "2025-03-23T13:40:26.120610Z",
     "start_time": "2025-03-23T13:40:26.100824Z"
    }
   },
   "id": "92be49a877f6409c",
   "execution_count": 199
  },
  {
   "cell_type": "markdown",
   "source": [
    "There are similar functions available: `read_json`, `read_html`, `read_excel`. Reading data directly from the Internet is also possible."
   ],
   "metadata": {
    "collapsed": false
   },
   "id": "989e02d30af84a90"
  },
  {
   "cell_type": "code",
   "outputs": [
    {
     "data": {
      "text/plain": "                     State  Population        lat         lon\nCity                                                         \nMarysville      Washington       63269  48.051764 -122.177082\nPerris          California       72326  33.782519 -117.228648\nCleveland             Ohio      390113  41.499320  -81.694361\nWorcester    Massachusetts      182544  42.262593  -71.802293\nColumbia    South Carolina      133358  34.000710  -81.034814",
      "text/html": "<div>\n<style scoped>\n    .dataframe tbody tr th:only-of-type {\n        vertical-align: middle;\n    }\n\n    .dataframe tbody tr th {\n        vertical-align: top;\n    }\n\n    .dataframe thead th {\n        text-align: right;\n    }\n</style>\n<table border=\"1\" class=\"dataframe\">\n  <thead>\n    <tr style=\"text-align: right;\">\n      <th></th>\n      <th>State</th>\n      <th>Population</th>\n      <th>lat</th>\n      <th>lon</th>\n    </tr>\n    <tr>\n      <th>City</th>\n      <th></th>\n      <th></th>\n      <th></th>\n      <th></th>\n    </tr>\n  </thead>\n  <tbody>\n    <tr>\n      <th>Marysville</th>\n      <td>Washington</td>\n      <td>63269</td>\n      <td>48.051764</td>\n      <td>-122.177082</td>\n    </tr>\n    <tr>\n      <th>Perris</th>\n      <td>California</td>\n      <td>72326</td>\n      <td>33.782519</td>\n      <td>-117.228648</td>\n    </tr>\n    <tr>\n      <th>Cleveland</th>\n      <td>Ohio</td>\n      <td>390113</td>\n      <td>41.499320</td>\n      <td>-81.694361</td>\n    </tr>\n    <tr>\n      <th>Worcester</th>\n      <td>Massachusetts</td>\n      <td>182544</td>\n      <td>42.262593</td>\n      <td>-71.802293</td>\n    </tr>\n    <tr>\n      <th>Columbia</th>\n      <td>South Carolina</td>\n      <td>133358</td>\n      <td>34.000710</td>\n      <td>-81.034814</td>\n    </tr>\n  </tbody>\n</table>\n</div>"
     },
     "execution_count": 200,
     "metadata": {},
     "output_type": "execute_result"
    }
   ],
   "source": [
    "us_cities = None\n",
    "\n",
    "try:\n",
    "    csv_url = \"https://raw.githubusercontent.com/plotly/datasets/master/us-cities-top-1k.csv\"\n",
    "    us_cities = pd.read_csv(csv_url, index_col=0)\n",
    "    us_cities = us_cities.head()\n",
    "except IOError as e:\n",
    "    print(e)\n",
    "    \n",
    "us_cities"
   ],
   "metadata": {
    "collapsed": false,
    "ExecuteTime": {
     "end_time": "2025-03-23T13:41:43.578282Z",
     "start_time": "2025-03-23T13:41:42.964045Z"
    }
   },
   "id": "3ebd027e5c46da0d",
   "execution_count": 200
  },
  {
   "cell_type": "markdown",
   "source": [
    "# Joining `DataFrame` objects\n",
    "\n",
    "## Joining in SQL style\n",
    "\n",
    "One of the most powerful capabilities of the pandas module is its ability to perform SQL-like joins on `DataFrame` objects. There are different types of joins available: inner, left/right outer, and full."
   ],
   "metadata": {
    "collapsed": false
   },
   "id": "6ee74383e71c74c3"
  },
  {
   "cell_type": "code",
   "outputs": [
    {
     "data": {
      "text/plain": "  state            city   latitude   longitude\n0    CA   San Francisco  37.781334 -122.416728\n1    NY        New York  40.705649  -74.008344\n2    FL           Miami  25.791100  -80.320733\n3    OH       Cleveland  41.473508  -81.739791\n4    UT  Salt Lake City  40.755851 -111.896657",
      "text/html": "<div>\n<style scoped>\n    .dataframe tbody tr th:only-of-type {\n        vertical-align: middle;\n    }\n\n    .dataframe tbody tr th {\n        vertical-align: top;\n    }\n\n    .dataframe thead th {\n        text-align: right;\n    }\n</style>\n<table border=\"1\" class=\"dataframe\">\n  <thead>\n    <tr style=\"text-align: right;\">\n      <th></th>\n      <th>state</th>\n      <th>city</th>\n      <th>latitude</th>\n      <th>longitude</th>\n    </tr>\n  </thead>\n  <tbody>\n    <tr>\n      <th>0</th>\n      <td>CA</td>\n      <td>San Francisco</td>\n      <td>37.781334</td>\n      <td>-122.416728</td>\n    </tr>\n    <tr>\n      <th>1</th>\n      <td>NY</td>\n      <td>New York</td>\n      <td>40.705649</td>\n      <td>-74.008344</td>\n    </tr>\n    <tr>\n      <th>2</th>\n      <td>FL</td>\n      <td>Miami</td>\n      <td>25.791100</td>\n      <td>-80.320733</td>\n    </tr>\n    <tr>\n      <th>3</th>\n      <td>OH</td>\n      <td>Cleveland</td>\n      <td>41.473508</td>\n      <td>-81.739791</td>\n    </tr>\n    <tr>\n      <th>4</th>\n      <td>UT</td>\n      <td>Salt Lake City</td>\n      <td>40.755851</td>\n      <td>-111.896657</td>\n    </tr>\n  </tbody>\n</table>\n</div>"
     },
     "execution_count": 202,
     "metadata": {},
     "output_type": "execute_result"
    }
   ],
   "source": [
    "city_loc = pd.DataFrame(\n",
    "    [\n",
    "        ['CA', 'San Francisco', 37.781334, -122.416728],\n",
    "        ['NY', 'New York', 40.705649, -74.008344],\n",
    "        ['FL', 'Miami', 25.791100, -80.320733],\n",
    "        ['OH', 'Cleveland', 41.473508, -81.739791],\n",
    "        ['UT', 'Salt Lake City', 40.755851, -111.896657]\n",
    "    ], columns=['state', 'city', 'latitude', 'longitude'])\n",
    "city_loc"
   ],
   "metadata": {
    "collapsed": false,
    "ExecuteTime": {
     "end_time": "2025-03-23T13:44:10.905773Z",
     "start_time": "2025-03-23T13:44:10.891710Z"
    }
   },
   "id": "35e17e6c9d828e5a",
   "execution_count": 202
  },
  {
   "cell_type": "code",
   "outputs": [
    {
     "data": {
      "text/plain": "   population           city       state\n3      808976  San Francisco  California\n4     8363710       New York    New York\n5      413201          Miami     Florida\n6     2242193        Houston       Texas",
      "text/html": "<div>\n<style scoped>\n    .dataframe tbody tr th:only-of-type {\n        vertical-align: middle;\n    }\n\n    .dataframe tbody tr th {\n        vertical-align: top;\n    }\n\n    .dataframe thead th {\n        text-align: right;\n    }\n</style>\n<table border=\"1\" class=\"dataframe\">\n  <thead>\n    <tr style=\"text-align: right;\">\n      <th></th>\n      <th>population</th>\n      <th>city</th>\n      <th>state</th>\n    </tr>\n  </thead>\n  <tbody>\n    <tr>\n      <th>3</th>\n      <td>808976</td>\n      <td>San Francisco</td>\n      <td>California</td>\n    </tr>\n    <tr>\n      <th>4</th>\n      <td>8363710</td>\n      <td>New York</td>\n      <td>New York</td>\n    </tr>\n    <tr>\n      <th>5</th>\n      <td>413201</td>\n      <td>Miami</td>\n      <td>Florida</td>\n    </tr>\n    <tr>\n      <th>6</th>\n      <td>2242193</td>\n      <td>Houston</td>\n      <td>Texas</td>\n    </tr>\n  </tbody>\n</table>\n</div>"
     },
     "execution_count": 203,
     "metadata": {},
     "output_type": "execute_result"
    }
   ],
   "source": [
    "city_pop = pd.DataFrame(\n",
    "    [\n",
    "        [808976, 'San Francisco', 'California'],\n",
    "        [8363710, 'New York', 'New York'],\n",
    "        [413201, 'Miami', 'Florida'],\n",
    "        [2242193, 'Houston', 'Texas']\n",
    "    ], index=[3, 4, 5, 6], columns=['population', 'city', 'state'])\n",
    "city_pop"
   ],
   "metadata": {
    "collapsed": false,
    "ExecuteTime": {
     "end_time": "2025-03-23T13:45:08.250218Z",
     "start_time": "2025-03-23T13:45:08.237590Z"
    }
   },
   "id": "3c1ed48f69d07ec4",
   "execution_count": 203
  },
  {
   "cell_type": "markdown",
   "source": [
    "Combining these `DataFrame` objects using the `merge()` function:"
   ],
   "metadata": {
    "collapsed": false
   },
   "id": "46316412d35e5d7f"
  },
  {
   "cell_type": "code",
   "outputs": [
    {
     "data": {
      "text/plain": "  state_x           city   latitude   longitude  population     state_y\n0      CA  San Francisco  37.781334 -122.416728      808976  California\n1      NY       New York  40.705649  -74.008344     8363710    New York\n2      FL          Miami  25.791100  -80.320733      413201     Florida",
      "text/html": "<div>\n<style scoped>\n    .dataframe tbody tr th:only-of-type {\n        vertical-align: middle;\n    }\n\n    .dataframe tbody tr th {\n        vertical-align: top;\n    }\n\n    .dataframe thead th {\n        text-align: right;\n    }\n</style>\n<table border=\"1\" class=\"dataframe\">\n  <thead>\n    <tr style=\"text-align: right;\">\n      <th></th>\n      <th>state_x</th>\n      <th>city</th>\n      <th>latitude</th>\n      <th>longitude</th>\n      <th>population</th>\n      <th>state_y</th>\n    </tr>\n  </thead>\n  <tbody>\n    <tr>\n      <th>0</th>\n      <td>CA</td>\n      <td>San Francisco</td>\n      <td>37.781334</td>\n      <td>-122.416728</td>\n      <td>808976</td>\n      <td>California</td>\n    </tr>\n    <tr>\n      <th>1</th>\n      <td>NY</td>\n      <td>New York</td>\n      <td>40.705649</td>\n      <td>-74.008344</td>\n      <td>8363710</td>\n      <td>New York</td>\n    </tr>\n    <tr>\n      <th>2</th>\n      <td>FL</td>\n      <td>Miami</td>\n      <td>25.791100</td>\n      <td>-80.320733</td>\n      <td>413201</td>\n      <td>Florida</td>\n    </tr>\n  </tbody>\n</table>\n</div>"
     },
     "execution_count": 204,
     "metadata": {},
     "output_type": "execute_result"
    }
   ],
   "source": [
    "pd.merge(left=city_loc, right=city_pop, on='city')"
   ],
   "metadata": {
    "collapsed": false,
    "ExecuteTime": {
     "end_time": "2025-03-23T13:45:58.385636Z",
     "start_time": "2025-03-23T13:45:58.367207Z"
    }
   },
   "id": "e6bb08700cf2264d",
   "execution_count": 204
  },
  {
   "cell_type": "markdown",
   "source": [
    "Both `DataFrame` objects contain a `state` column, so they are effectively renamed `state_x` and `state_y`.\n",
    "\n",
    "The cities Cleveland, Salt Lake City, and Houston are omitted because they are not in *both* `DataFrame` objects. This is equivalent to an SQL `INNER JOIN`. To use a `FULL OUTER JOIN`, which ensures that no city is omitted and that `NaN` valuesare added, there must be specified the `how=\"outer\"` attribute:"
   ],
   "metadata": {
    "collapsed": false
   },
   "id": "e63b81893eb5de"
  },
  {
   "cell_type": "code",
   "outputs": [
    {
     "data": {
      "text/plain": "  state_x            city   latitude   longitude  population     state_y\n0      OH       Cleveland  41.473508  -81.739791         NaN         NaN\n1     NaN         Houston        NaN         NaN   2242193.0       Texas\n2      FL           Miami  25.791100  -80.320733    413201.0     Florida\n3      NY        New York  40.705649  -74.008344   8363710.0    New York\n4      UT  Salt Lake City  40.755851 -111.896657         NaN         NaN\n5      CA   San Francisco  37.781334 -122.416728    808976.0  California",
      "text/html": "<div>\n<style scoped>\n    .dataframe tbody tr th:only-of-type {\n        vertical-align: middle;\n    }\n\n    .dataframe tbody tr th {\n        vertical-align: top;\n    }\n\n    .dataframe thead th {\n        text-align: right;\n    }\n</style>\n<table border=\"1\" class=\"dataframe\">\n  <thead>\n    <tr style=\"text-align: right;\">\n      <th></th>\n      <th>state_x</th>\n      <th>city</th>\n      <th>latitude</th>\n      <th>longitude</th>\n      <th>population</th>\n      <th>state_y</th>\n    </tr>\n  </thead>\n  <tbody>\n    <tr>\n      <th>0</th>\n      <td>OH</td>\n      <td>Cleveland</td>\n      <td>41.473508</td>\n      <td>-81.739791</td>\n      <td>NaN</td>\n      <td>NaN</td>\n    </tr>\n    <tr>\n      <th>1</th>\n      <td>NaN</td>\n      <td>Houston</td>\n      <td>NaN</td>\n      <td>NaN</td>\n      <td>2242193.0</td>\n      <td>Texas</td>\n    </tr>\n    <tr>\n      <th>2</th>\n      <td>FL</td>\n      <td>Miami</td>\n      <td>25.791100</td>\n      <td>-80.320733</td>\n      <td>413201.0</td>\n      <td>Florida</td>\n    </tr>\n    <tr>\n      <th>3</th>\n      <td>NY</td>\n      <td>New York</td>\n      <td>40.705649</td>\n      <td>-74.008344</td>\n      <td>8363710.0</td>\n      <td>New York</td>\n    </tr>\n    <tr>\n      <th>4</th>\n      <td>UT</td>\n      <td>Salt Lake City</td>\n      <td>40.755851</td>\n      <td>-111.896657</td>\n      <td>NaN</td>\n      <td>NaN</td>\n    </tr>\n    <tr>\n      <th>5</th>\n      <td>CA</td>\n      <td>San Francisco</td>\n      <td>37.781334</td>\n      <td>-122.416728</td>\n      <td>808976.0</td>\n      <td>California</td>\n    </tr>\n  </tbody>\n</table>\n</div>"
     },
     "execution_count": 205,
     "metadata": {},
     "output_type": "execute_result"
    }
   ],
   "source": [
    "all_cities = pd.merge(left=city_loc, right=city_pop, on='city', how='outer')\n",
    "all_cities"
   ],
   "metadata": {
    "collapsed": false,
    "ExecuteTime": {
     "end_time": "2025-03-23T13:48:06.081741Z",
     "start_time": "2025-03-23T13:48:06.064296Z"
    }
   },
   "id": "8e9f6a5eccf08c",
   "execution_count": 205
  },
  {
   "cell_type": "markdown",
   "source": [
    "Using the `how=\"left\"` attribute there is possibility to specify `LEFT OUTER JOIN`: as a result, only cities present in the first `DataFrame` object will be displayed. By analogy, thanks to the `how=\"right\"` attribute, only cities from the right `DataFrame` object will be taken into account."
   ],
   "metadata": {
    "collapsed": false
   },
   "id": "24d2cc60dadca7d5"
  },
  {
   "cell_type": "code",
   "outputs": [
    {
     "data": {
      "text/plain": "  state_x           city   latitude   longitude  population     state_y\n0      CA  San Francisco  37.781334 -122.416728      808976  California\n1      NY       New York  40.705649  -74.008344     8363710    New York\n2      FL          Miami  25.791100  -80.320733      413201     Florida\n3     NaN        Houston        NaN         NaN     2242193       Texas",
      "text/html": "<div>\n<style scoped>\n    .dataframe tbody tr th:only-of-type {\n        vertical-align: middle;\n    }\n\n    .dataframe tbody tr th {\n        vertical-align: top;\n    }\n\n    .dataframe thead th {\n        text-align: right;\n    }\n</style>\n<table border=\"1\" class=\"dataframe\">\n  <thead>\n    <tr style=\"text-align: right;\">\n      <th></th>\n      <th>state_x</th>\n      <th>city</th>\n      <th>latitude</th>\n      <th>longitude</th>\n      <th>population</th>\n      <th>state_y</th>\n    </tr>\n  </thead>\n  <tbody>\n    <tr>\n      <th>0</th>\n      <td>CA</td>\n      <td>San Francisco</td>\n      <td>37.781334</td>\n      <td>-122.416728</td>\n      <td>808976</td>\n      <td>California</td>\n    </tr>\n    <tr>\n      <th>1</th>\n      <td>NY</td>\n      <td>New York</td>\n      <td>40.705649</td>\n      <td>-74.008344</td>\n      <td>8363710</td>\n      <td>New York</td>\n    </tr>\n    <tr>\n      <th>2</th>\n      <td>FL</td>\n      <td>Miami</td>\n      <td>25.791100</td>\n      <td>-80.320733</td>\n      <td>413201</td>\n      <td>Florida</td>\n    </tr>\n    <tr>\n      <th>3</th>\n      <td>NaN</td>\n      <td>Houston</td>\n      <td>NaN</td>\n      <td>NaN</td>\n      <td>2242193</td>\n      <td>Texas</td>\n    </tr>\n  </tbody>\n</table>\n</div>"
     },
     "execution_count": 206,
     "metadata": {},
     "output_type": "execute_result"
    }
   ],
   "source": [
    "pd.merge(left=city_loc, right=city_pop, on='city', how='right')"
   ],
   "metadata": {
    "collapsed": false,
    "ExecuteTime": {
     "end_time": "2025-03-23T13:49:14.617264Z",
     "start_time": "2025-03-23T13:49:14.601516Z"
    }
   },
   "id": "f351644d3199b9f5",
   "execution_count": 206
  },
  {
   "cell_type": "markdown",
   "source": [
    "If the key used to perform the join is actually an index of one (or both) `DataFrame` objects, there is need to use the `left_index=True` and/or `right_index=True` attributes. If the column names are not the same, there is need to use the `left_on` and `right_on` attributes."
   ],
   "metadata": {
    "collapsed": false
   },
   "id": "642266c188882cf2"
  },
  {
   "cell_type": "code",
   "outputs": [
    {
     "data": {
      "text/plain": "  state_x           city   latitude   longitude  population           name  \\\n0      CA  San Francisco  37.781334 -122.416728      808976  San Francisco   \n1      NY       New York  40.705649  -74.008344     8363710       New York   \n2      FL          Miami  25.791100  -80.320733      413201          Miami   \n\n      state_y  \n0  California  \n1    New York  \n2     Florida  ",
      "text/html": "<div>\n<style scoped>\n    .dataframe tbody tr th:only-of-type {\n        vertical-align: middle;\n    }\n\n    .dataframe tbody tr th {\n        vertical-align: top;\n    }\n\n    .dataframe thead th {\n        text-align: right;\n    }\n</style>\n<table border=\"1\" class=\"dataframe\">\n  <thead>\n    <tr style=\"text-align: right;\">\n      <th></th>\n      <th>state_x</th>\n      <th>city</th>\n      <th>latitude</th>\n      <th>longitude</th>\n      <th>population</th>\n      <th>name</th>\n      <th>state_y</th>\n    </tr>\n  </thead>\n  <tbody>\n    <tr>\n      <th>0</th>\n      <td>CA</td>\n      <td>San Francisco</td>\n      <td>37.781334</td>\n      <td>-122.416728</td>\n      <td>808976</td>\n      <td>San Francisco</td>\n      <td>California</td>\n    </tr>\n    <tr>\n      <th>1</th>\n      <td>NY</td>\n      <td>New York</td>\n      <td>40.705649</td>\n      <td>-74.008344</td>\n      <td>8363710</td>\n      <td>New York</td>\n      <td>New York</td>\n    </tr>\n    <tr>\n      <th>2</th>\n      <td>FL</td>\n      <td>Miami</td>\n      <td>25.791100</td>\n      <td>-80.320733</td>\n      <td>413201</td>\n      <td>Miami</td>\n      <td>Florida</td>\n    </tr>\n  </tbody>\n</table>\n</div>"
     },
     "execution_count": 207,
     "metadata": {},
     "output_type": "execute_result"
    }
   ],
   "source": [
    "city_pop2 = city_pop.copy()\n",
    "city_pop2.columns = ['population', 'name', 'state']\n",
    "pd.merge(left=city_loc, right=city_pop2, left_on='city', right_on='name')"
   ],
   "metadata": {
    "collapsed": false,
    "ExecuteTime": {
     "end_time": "2025-03-23T13:52:16.079184Z",
     "start_time": "2025-03-23T13:52:16.064010Z"
    }
   },
   "id": "32166f25a675b8fb",
   "execution_count": 207
  },
  {
   "cell_type": "markdown",
   "source": [
    "## Concatenation\n",
    "\n",
    "Instead of combining `DataFrame` objects, there is possibility to concatenate them. "
   ],
   "metadata": {
    "collapsed": false
   },
   "id": "5d06f31b072abf7a"
  },
  {
   "cell_type": "code",
   "outputs": [
    {
     "data": {
      "text/plain": "        state            city   latitude   longitude  population\n0          CA   San Francisco  37.781334 -122.416728         NaN\n1          NY        New York  40.705649  -74.008344         NaN\n2          FL           Miami  25.791100  -80.320733         NaN\n3          OH       Cleveland  41.473508  -81.739791         NaN\n4          UT  Salt Lake City  40.755851 -111.896657         NaN\n3  California   San Francisco        NaN         NaN    808976.0\n4    New York        New York        NaN         NaN   8363710.0\n5     Florida           Miami        NaN         NaN    413201.0\n6       Texas         Houston        NaN         NaN   2242193.0",
      "text/html": "<div>\n<style scoped>\n    .dataframe tbody tr th:only-of-type {\n        vertical-align: middle;\n    }\n\n    .dataframe tbody tr th {\n        vertical-align: top;\n    }\n\n    .dataframe thead th {\n        text-align: right;\n    }\n</style>\n<table border=\"1\" class=\"dataframe\">\n  <thead>\n    <tr style=\"text-align: right;\">\n      <th></th>\n      <th>state</th>\n      <th>city</th>\n      <th>latitude</th>\n      <th>longitude</th>\n      <th>population</th>\n    </tr>\n  </thead>\n  <tbody>\n    <tr>\n      <th>0</th>\n      <td>CA</td>\n      <td>San Francisco</td>\n      <td>37.781334</td>\n      <td>-122.416728</td>\n      <td>NaN</td>\n    </tr>\n    <tr>\n      <th>1</th>\n      <td>NY</td>\n      <td>New York</td>\n      <td>40.705649</td>\n      <td>-74.008344</td>\n      <td>NaN</td>\n    </tr>\n    <tr>\n      <th>2</th>\n      <td>FL</td>\n      <td>Miami</td>\n      <td>25.791100</td>\n      <td>-80.320733</td>\n      <td>NaN</td>\n    </tr>\n    <tr>\n      <th>3</th>\n      <td>OH</td>\n      <td>Cleveland</td>\n      <td>41.473508</td>\n      <td>-81.739791</td>\n      <td>NaN</td>\n    </tr>\n    <tr>\n      <th>4</th>\n      <td>UT</td>\n      <td>Salt Lake City</td>\n      <td>40.755851</td>\n      <td>-111.896657</td>\n      <td>NaN</td>\n    </tr>\n    <tr>\n      <th>3</th>\n      <td>California</td>\n      <td>San Francisco</td>\n      <td>NaN</td>\n      <td>NaN</td>\n      <td>808976.0</td>\n    </tr>\n    <tr>\n      <th>4</th>\n      <td>New York</td>\n      <td>New York</td>\n      <td>NaN</td>\n      <td>NaN</td>\n      <td>8363710.0</td>\n    </tr>\n    <tr>\n      <th>5</th>\n      <td>Florida</td>\n      <td>Miami</td>\n      <td>NaN</td>\n      <td>NaN</td>\n      <td>413201.0</td>\n    </tr>\n    <tr>\n      <th>6</th>\n      <td>Texas</td>\n      <td>Houston</td>\n      <td>NaN</td>\n      <td>NaN</td>\n      <td>2242193.0</td>\n    </tr>\n  </tbody>\n</table>\n</div>"
     },
     "execution_count": 208,
     "metadata": {},
     "output_type": "execute_result"
    }
   ],
   "source": [
    "result_concat = pd.concat([city_loc, city_pop])\n",
    "result_concat"
   ],
   "metadata": {
    "collapsed": false,
    "ExecuteTime": {
     "end_time": "2025-03-23T13:53:11.283547Z",
     "start_time": "2025-03-23T13:53:11.270617Z"
    }
   },
   "id": "3424927899e2bceb",
   "execution_count": 208
  },
  {
   "cell_type": "markdown",
   "source": [
    "This operation linked the data horizontally (by columns) but not vertically (by rows). In this example, it end up with multiple rows having the same index (i.e. 3)."
   ],
   "metadata": {
    "collapsed": false
   },
   "id": "5334660a9684d004"
  },
  {
   "cell_type": "code",
   "outputs": [
    {
     "data": {
      "text/plain": "        state           city   latitude  longitude  population\n3          OH      Cleveland  41.473508 -81.739791         NaN\n3  California  San Francisco        NaN        NaN    808976.0",
      "text/html": "<div>\n<style scoped>\n    .dataframe tbody tr th:only-of-type {\n        vertical-align: middle;\n    }\n\n    .dataframe tbody tr th {\n        vertical-align: top;\n    }\n\n    .dataframe thead th {\n        text-align: right;\n    }\n</style>\n<table border=\"1\" class=\"dataframe\">\n  <thead>\n    <tr style=\"text-align: right;\">\n      <th></th>\n      <th>state</th>\n      <th>city</th>\n      <th>latitude</th>\n      <th>longitude</th>\n      <th>population</th>\n    </tr>\n  </thead>\n  <tbody>\n    <tr>\n      <th>3</th>\n      <td>OH</td>\n      <td>Cleveland</td>\n      <td>41.473508</td>\n      <td>-81.739791</td>\n      <td>NaN</td>\n    </tr>\n    <tr>\n      <th>3</th>\n      <td>California</td>\n      <td>San Francisco</td>\n      <td>NaN</td>\n      <td>NaN</td>\n      <td>808976.0</td>\n    </tr>\n  </tbody>\n</table>\n</div>"
     },
     "execution_count": 209,
     "metadata": {},
     "output_type": "execute_result"
    }
   ],
   "source": [
    "result_concat.loc[3]"
   ],
   "metadata": {
    "collapsed": false,
    "ExecuteTime": {
     "end_time": "2025-03-23T13:54:06.091396Z",
     "start_time": "2025-03-23T13:54:06.080377Z"
    }
   },
   "id": "8052773175ffa6e7",
   "execution_count": 209
  },
  {
   "cell_type": "markdown",
   "source": [
    "Alternatively, the index can be ignored."
   ],
   "metadata": {
    "collapsed": false
   },
   "id": "e59f5b62c497bd41"
  },
  {
   "cell_type": "code",
   "outputs": [
    {
     "data": {
      "text/plain": "        state            city   latitude   longitude  population\n0          CA   San Francisco  37.781334 -122.416728         NaN\n1          NY        New York  40.705649  -74.008344         NaN\n2          FL           Miami  25.791100  -80.320733         NaN\n3          OH       Cleveland  41.473508  -81.739791         NaN\n4          UT  Salt Lake City  40.755851 -111.896657         NaN\n5  California   San Francisco        NaN         NaN    808976.0\n6    New York        New York        NaN         NaN   8363710.0\n7     Florida           Miami        NaN         NaN    413201.0\n8       Texas         Houston        NaN         NaN   2242193.0",
      "text/html": "<div>\n<style scoped>\n    .dataframe tbody tr th:only-of-type {\n        vertical-align: middle;\n    }\n\n    .dataframe tbody tr th {\n        vertical-align: top;\n    }\n\n    .dataframe thead th {\n        text-align: right;\n    }\n</style>\n<table border=\"1\" class=\"dataframe\">\n  <thead>\n    <tr style=\"text-align: right;\">\n      <th></th>\n      <th>state</th>\n      <th>city</th>\n      <th>latitude</th>\n      <th>longitude</th>\n      <th>population</th>\n    </tr>\n  </thead>\n  <tbody>\n    <tr>\n      <th>0</th>\n      <td>CA</td>\n      <td>San Francisco</td>\n      <td>37.781334</td>\n      <td>-122.416728</td>\n      <td>NaN</td>\n    </tr>\n    <tr>\n      <th>1</th>\n      <td>NY</td>\n      <td>New York</td>\n      <td>40.705649</td>\n      <td>-74.008344</td>\n      <td>NaN</td>\n    </tr>\n    <tr>\n      <th>2</th>\n      <td>FL</td>\n      <td>Miami</td>\n      <td>25.791100</td>\n      <td>-80.320733</td>\n      <td>NaN</td>\n    </tr>\n    <tr>\n      <th>3</th>\n      <td>OH</td>\n      <td>Cleveland</td>\n      <td>41.473508</td>\n      <td>-81.739791</td>\n      <td>NaN</td>\n    </tr>\n    <tr>\n      <th>4</th>\n      <td>UT</td>\n      <td>Salt Lake City</td>\n      <td>40.755851</td>\n      <td>-111.896657</td>\n      <td>NaN</td>\n    </tr>\n    <tr>\n      <th>5</th>\n      <td>California</td>\n      <td>San Francisco</td>\n      <td>NaN</td>\n      <td>NaN</td>\n      <td>808976.0</td>\n    </tr>\n    <tr>\n      <th>6</th>\n      <td>New York</td>\n      <td>New York</td>\n      <td>NaN</td>\n      <td>NaN</td>\n      <td>8363710.0</td>\n    </tr>\n    <tr>\n      <th>7</th>\n      <td>Florida</td>\n      <td>Miami</td>\n      <td>NaN</td>\n      <td>NaN</td>\n      <td>413201.0</td>\n    </tr>\n    <tr>\n      <th>8</th>\n      <td>Texas</td>\n      <td>Houston</td>\n      <td>NaN</td>\n      <td>NaN</td>\n      <td>2242193.0</td>\n    </tr>\n  </tbody>\n</table>\n</div>"
     },
     "execution_count": 210,
     "metadata": {},
     "output_type": "execute_result"
    }
   ],
   "source": [
    "pd.concat([city_loc, city_pop], ignore_index=True)"
   ],
   "metadata": {
    "collapsed": false,
    "ExecuteTime": {
     "end_time": "2025-03-23T13:54:41.093208Z",
     "start_time": "2025-03-23T13:54:41.077159Z"
    }
   },
   "id": "aaf0f56843192b31",
   "execution_count": 210
  },
  {
   "cell_type": "markdown",
   "source": [
    "If a given column does not exist in the `DataFrame` object, it behaves as if it were filled with `NaN` values. If the `join=\"inner\"` attribute will be specified, only columns that exist in *both* `DataFrame` objects will be returned."
   ],
   "metadata": {
    "collapsed": false
   },
   "id": "bc457e707b4c53c"
  },
  {
   "cell_type": "code",
   "outputs": [
    {
     "data": {
      "text/plain": "        state            city\n0          CA   San Francisco\n1          NY        New York\n2          FL           Miami\n3          OH       Cleveland\n4          UT  Salt Lake City\n3  California   San Francisco\n4    New York        New York\n5     Florida           Miami\n6       Texas         Houston",
      "text/html": "<div>\n<style scoped>\n    .dataframe tbody tr th:only-of-type {\n        vertical-align: middle;\n    }\n\n    .dataframe tbody tr th {\n        vertical-align: top;\n    }\n\n    .dataframe thead th {\n        text-align: right;\n    }\n</style>\n<table border=\"1\" class=\"dataframe\">\n  <thead>\n    <tr style=\"text-align: right;\">\n      <th></th>\n      <th>state</th>\n      <th>city</th>\n    </tr>\n  </thead>\n  <tbody>\n    <tr>\n      <th>0</th>\n      <td>CA</td>\n      <td>San Francisco</td>\n    </tr>\n    <tr>\n      <th>1</th>\n      <td>NY</td>\n      <td>New York</td>\n    </tr>\n    <tr>\n      <th>2</th>\n      <td>FL</td>\n      <td>Miami</td>\n    </tr>\n    <tr>\n      <th>3</th>\n      <td>OH</td>\n      <td>Cleveland</td>\n    </tr>\n    <tr>\n      <th>4</th>\n      <td>UT</td>\n      <td>Salt Lake City</td>\n    </tr>\n    <tr>\n      <th>3</th>\n      <td>California</td>\n      <td>San Francisco</td>\n    </tr>\n    <tr>\n      <th>4</th>\n      <td>New York</td>\n      <td>New York</td>\n    </tr>\n    <tr>\n      <th>5</th>\n      <td>Florida</td>\n      <td>Miami</td>\n    </tr>\n    <tr>\n      <th>6</th>\n      <td>Texas</td>\n      <td>Houston</td>\n    </tr>\n  </tbody>\n</table>\n</div>"
     },
     "execution_count": 211,
     "metadata": {},
     "output_type": "execute_result"
    }
   ],
   "source": [
    "pd.concat([city_loc, city_pop], join=\"inner\")"
   ],
   "metadata": {
    "collapsed": false,
    "ExecuteTime": {
     "end_time": "2025-03-23T13:55:37.898018Z",
     "start_time": "2025-03-23T13:55:37.886954Z"
    }
   },
   "id": "b40a93a635b3b6c0",
   "execution_count": 211
  },
  {
   "cell_type": "markdown",
   "source": [
    "To perform horizontal concatenation set the attribute `axis=1`."
   ],
   "metadata": {
    "collapsed": false
   },
   "id": "7cb1cc192dc5fee3"
  },
  {
   "cell_type": "code",
   "outputs": [
    {
     "data": {
      "text/plain": "  state            city   latitude   longitude  population           city  \\\n0    CA   San Francisco  37.781334 -122.416728         NaN            NaN   \n1    NY        New York  40.705649  -74.008344         NaN            NaN   \n2    FL           Miami  25.791100  -80.320733         NaN            NaN   \n3    OH       Cleveland  41.473508  -81.739791    808976.0  San Francisco   \n4    UT  Salt Lake City  40.755851 -111.896657   8363710.0       New York   \n5   NaN             NaN        NaN         NaN    413201.0          Miami   \n6   NaN             NaN        NaN         NaN   2242193.0        Houston   \n\n        state  \n0         NaN  \n1         NaN  \n2         NaN  \n3  California  \n4    New York  \n5     Florida  \n6       Texas  ",
      "text/html": "<div>\n<style scoped>\n    .dataframe tbody tr th:only-of-type {\n        vertical-align: middle;\n    }\n\n    .dataframe tbody tr th {\n        vertical-align: top;\n    }\n\n    .dataframe thead th {\n        text-align: right;\n    }\n</style>\n<table border=\"1\" class=\"dataframe\">\n  <thead>\n    <tr style=\"text-align: right;\">\n      <th></th>\n      <th>state</th>\n      <th>city</th>\n      <th>latitude</th>\n      <th>longitude</th>\n      <th>population</th>\n      <th>city</th>\n      <th>state</th>\n    </tr>\n  </thead>\n  <tbody>\n    <tr>\n      <th>0</th>\n      <td>CA</td>\n      <td>San Francisco</td>\n      <td>37.781334</td>\n      <td>-122.416728</td>\n      <td>NaN</td>\n      <td>NaN</td>\n      <td>NaN</td>\n    </tr>\n    <tr>\n      <th>1</th>\n      <td>NY</td>\n      <td>New York</td>\n      <td>40.705649</td>\n      <td>-74.008344</td>\n      <td>NaN</td>\n      <td>NaN</td>\n      <td>NaN</td>\n    </tr>\n    <tr>\n      <th>2</th>\n      <td>FL</td>\n      <td>Miami</td>\n      <td>25.791100</td>\n      <td>-80.320733</td>\n      <td>NaN</td>\n      <td>NaN</td>\n      <td>NaN</td>\n    </tr>\n    <tr>\n      <th>3</th>\n      <td>OH</td>\n      <td>Cleveland</td>\n      <td>41.473508</td>\n      <td>-81.739791</td>\n      <td>808976.0</td>\n      <td>San Francisco</td>\n      <td>California</td>\n    </tr>\n    <tr>\n      <th>4</th>\n      <td>UT</td>\n      <td>Salt Lake City</td>\n      <td>40.755851</td>\n      <td>-111.896657</td>\n      <td>8363710.0</td>\n      <td>New York</td>\n      <td>New York</td>\n    </tr>\n    <tr>\n      <th>5</th>\n      <td>NaN</td>\n      <td>NaN</td>\n      <td>NaN</td>\n      <td>NaN</td>\n      <td>413201.0</td>\n      <td>Miami</td>\n      <td>Florida</td>\n    </tr>\n    <tr>\n      <th>6</th>\n      <td>NaN</td>\n      <td>NaN</td>\n      <td>NaN</td>\n      <td>NaN</td>\n      <td>2242193.0</td>\n      <td>Houston</td>\n      <td>Texas</td>\n    </tr>\n  </tbody>\n</table>\n</div>"
     },
     "execution_count": 212,
     "metadata": {},
     "output_type": "execute_result"
    }
   ],
   "source": [
    "pd.concat([city_loc, city_pop], axis=1)"
   ],
   "metadata": {
    "collapsed": false,
    "ExecuteTime": {
     "end_time": "2025-03-23T13:56:29.309341Z",
     "start_time": "2025-03-23T13:56:29.296350Z"
    }
   },
   "id": "f7909d48983c9041",
   "execution_count": 212
  },
  {
   "cell_type": "markdown",
   "source": [
    "In this case, this operation doesn't make sense at all, because the indices don't match very well (i.e., the cities Cleveland and San Francisco are on the same row, because they have index label `3`)."
   ],
   "metadata": {
    "collapsed": false
   },
   "id": "f10d95798352eb4d"
  },
  {
   "cell_type": "code",
   "outputs": [
    {
     "data": {
      "text/plain": "               state   latitude   longitude  population       state\ncity                                                               \nSan Francisco     CA  37.781334 -122.416728    808976.0  California\nNew York          NY  40.705649  -74.008344   8363710.0    New York\nMiami             FL  25.791100  -80.320733    413201.0     Florida\nCleveland         OH  41.473508  -81.739791         NaN         NaN\nSalt Lake City    UT  40.755851 -111.896657         NaN         NaN\nHouston          NaN        NaN         NaN   2242193.0       Texas",
      "text/html": "<div>\n<style scoped>\n    .dataframe tbody tr th:only-of-type {\n        vertical-align: middle;\n    }\n\n    .dataframe tbody tr th {\n        vertical-align: top;\n    }\n\n    .dataframe thead th {\n        text-align: right;\n    }\n</style>\n<table border=\"1\" class=\"dataframe\">\n  <thead>\n    <tr style=\"text-align: right;\">\n      <th></th>\n      <th>state</th>\n      <th>latitude</th>\n      <th>longitude</th>\n      <th>population</th>\n      <th>state</th>\n    </tr>\n    <tr>\n      <th>city</th>\n      <th></th>\n      <th></th>\n      <th></th>\n      <th></th>\n      <th></th>\n    </tr>\n  </thead>\n  <tbody>\n    <tr>\n      <th>San Francisco</th>\n      <td>CA</td>\n      <td>37.781334</td>\n      <td>-122.416728</td>\n      <td>808976.0</td>\n      <td>California</td>\n    </tr>\n    <tr>\n      <th>New York</th>\n      <td>NY</td>\n      <td>40.705649</td>\n      <td>-74.008344</td>\n      <td>8363710.0</td>\n      <td>New York</td>\n    </tr>\n    <tr>\n      <th>Miami</th>\n      <td>FL</td>\n      <td>25.791100</td>\n      <td>-80.320733</td>\n      <td>413201.0</td>\n      <td>Florida</td>\n    </tr>\n    <tr>\n      <th>Cleveland</th>\n      <td>OH</td>\n      <td>41.473508</td>\n      <td>-81.739791</td>\n      <td>NaN</td>\n      <td>NaN</td>\n    </tr>\n    <tr>\n      <th>Salt Lake City</th>\n      <td>UT</td>\n      <td>40.755851</td>\n      <td>-111.896657</td>\n      <td>NaN</td>\n      <td>NaN</td>\n    </tr>\n    <tr>\n      <th>Houston</th>\n      <td>NaN</td>\n      <td>NaN</td>\n      <td>NaN</td>\n      <td>2242193.0</td>\n      <td>Texas</td>\n    </tr>\n  </tbody>\n</table>\n</div>"
     },
     "execution_count": 213,
     "metadata": {},
     "output_type": "execute_result"
    }
   ],
   "source": [
    "pd.concat([city_loc.set_index('city'), city_pop.set_index('city')], axis=1)"
   ],
   "metadata": {
    "collapsed": false,
    "ExecuteTime": {
     "end_time": "2025-03-23T13:57:38.357103Z",
     "start_time": "2025-03-23T13:57:38.341497Z"
    }
   },
   "id": "a307b6823db32f5c",
   "execution_count": 213
  },
  {
   "cell_type": "markdown",
   "source": [
    "This process is very similar to the `FULL OUTER JOIN` statement, except that the `state` columns were not renamed to `state_x` and `state_y`, and the `city` column became the index."
   ],
   "metadata": {
    "collapsed": false
   },
   "id": "db81ba58c621a12a"
  },
  {
   "cell_type": "markdown",
   "source": [
    "# Categories\n",
    "\n",
    "Values representing categories, e.g. `1` - female and `2` - male, or `\"A\"` - good, `\"B\"` - average, `\"C\"` - bad are used quite often. These categorical values can be hard to read and tedious to process."
   ],
   "metadata": {
    "collapsed": false
   },
   "id": "938bb1b22a54f259"
  },
  {
   "cell_type": "code",
   "outputs": [
    {
     "data": {
      "text/plain": "   population           city       state  eco_code\n3      808976  San Francisco  California        17\n4     8363710       New York    New York        17\n5      413201          Miami     Florida        34\n6     2242193        Houston       Texas        20",
      "text/html": "<div>\n<style scoped>\n    .dataframe tbody tr th:only-of-type {\n        vertical-align: middle;\n    }\n\n    .dataframe tbody tr th {\n        vertical-align: top;\n    }\n\n    .dataframe thead th {\n        text-align: right;\n    }\n</style>\n<table border=\"1\" class=\"dataframe\">\n  <thead>\n    <tr style=\"text-align: right;\">\n      <th></th>\n      <th>population</th>\n      <th>city</th>\n      <th>state</th>\n      <th>eco_code</th>\n    </tr>\n  </thead>\n  <tbody>\n    <tr>\n      <th>3</th>\n      <td>808976</td>\n      <td>San Francisco</td>\n      <td>California</td>\n      <td>17</td>\n    </tr>\n    <tr>\n      <th>4</th>\n      <td>8363710</td>\n      <td>New York</td>\n      <td>New York</td>\n      <td>17</td>\n    </tr>\n    <tr>\n      <th>5</th>\n      <td>413201</td>\n      <td>Miami</td>\n      <td>Florida</td>\n      <td>34</td>\n    </tr>\n    <tr>\n      <th>6</th>\n      <td>2242193</td>\n      <td>Houston</td>\n      <td>Texas</td>\n      <td>20</td>\n    </tr>\n  </tbody>\n</table>\n</div>"
     },
     "execution_count": 214,
     "metadata": {},
     "output_type": "execute_result"
    }
   ],
   "source": [
    "city_eco = city_pop.copy()\n",
    "city_eco['eco_code'] = [17, 17, 34, 20]\n",
    "city_eco"
   ],
   "metadata": {
    "collapsed": false,
    "ExecuteTime": {
     "end_time": "2025-03-23T13:59:35.699500Z",
     "start_time": "2025-03-23T13:59:35.688716Z"
    }
   },
   "id": "2a867a82dd476c3b",
   "execution_count": 214
  },
  {
   "cell_type": "markdown",
   "source": [
    "Currently, the `eco_code` column contains numerical values that are hard to understand."
   ],
   "metadata": {
    "collapsed": false
   },
   "id": "e802a313ef46de5"
  },
  {
   "cell_type": "code",
   "outputs": [
    {
     "data": {
      "text/plain": "Index([17, 20, 34], dtype='int64')"
     },
     "execution_count": 215,
     "metadata": {},
     "output_type": "execute_result"
    }
   ],
   "source": [
    "city_eco['economy'] = city_eco['eco_code'].astype('category')\n",
    "city_eco['economy'].cat.categories"
   ],
   "metadata": {
    "collapsed": false,
    "ExecuteTime": {
     "end_time": "2025-03-23T14:00:50.324964Z",
     "start_time": "2025-03-23T14:00:50.315090Z"
    }
   },
   "id": "8c845b2b3e3faa33",
   "execution_count": 215
  },
  {
   "cell_type": "markdown",
   "source": [
    "Now each category can has some meaningful name."
   ],
   "metadata": {
    "collapsed": false
   },
   "id": "2054aa33136e5bd3"
  },
  {
   "cell_type": "code",
   "outputs": [
    {
     "data": {
      "text/plain": "   population           city       state  eco_code  economy\n3      808976  San Francisco  California        17  Finance\n4     8363710       New York    New York        17  Finance\n5      413201          Miami     Florida        34  Tourism\n6     2242193        Houston       Texas        20   Energy",
      "text/html": "<div>\n<style scoped>\n    .dataframe tbody tr th:only-of-type {\n        vertical-align: middle;\n    }\n\n    .dataframe tbody tr th {\n        vertical-align: top;\n    }\n\n    .dataframe thead th {\n        text-align: right;\n    }\n</style>\n<table border=\"1\" class=\"dataframe\">\n  <thead>\n    <tr style=\"text-align: right;\">\n      <th></th>\n      <th>population</th>\n      <th>city</th>\n      <th>state</th>\n      <th>eco_code</th>\n      <th>economy</th>\n    </tr>\n  </thead>\n  <tbody>\n    <tr>\n      <th>3</th>\n      <td>808976</td>\n      <td>San Francisco</td>\n      <td>California</td>\n      <td>17</td>\n      <td>Finance</td>\n    </tr>\n    <tr>\n      <th>4</th>\n      <td>8363710</td>\n      <td>New York</td>\n      <td>New York</td>\n      <td>17</td>\n      <td>Finance</td>\n    </tr>\n    <tr>\n      <th>5</th>\n      <td>413201</td>\n      <td>Miami</td>\n      <td>Florida</td>\n      <td>34</td>\n      <td>Tourism</td>\n    </tr>\n    <tr>\n      <th>6</th>\n      <td>2242193</td>\n      <td>Houston</td>\n      <td>Texas</td>\n      <td>20</td>\n      <td>Energy</td>\n    </tr>\n  </tbody>\n</table>\n</div>"
     },
     "execution_count": 221,
     "metadata": {},
     "output_type": "execute_result"
    }
   ],
   "source": [
    "city_eco['economy'] = city_eco['economy'].cat.rename_categories(['Finance', 'Energy', 'Tourism'])\n",
    "city_eco"
   ],
   "metadata": {
    "collapsed": false,
    "ExecuteTime": {
     "end_time": "2025-03-23T14:04:51.414678Z",
     "start_time": "2025-03-23T14:04:51.398987Z"
    }
   },
   "id": "a8ed62771b8798fb",
   "execution_count": 221
  },
  {
   "cell_type": "markdown",
   "source": [
    "Categorical values have been sorted in categorical order, not *not* alphabetical order."
   ],
   "metadata": {
    "collapsed": false
   },
   "id": "f3f6e5358e2bf1a8"
  },
  {
   "cell_type": "code",
   "outputs": [
    {
     "data": {
      "text/plain": "   population           city       state  eco_code  economy\n5      413201          Miami     Florida        34  Tourism\n6     2242193        Houston       Texas        20   Energy\n3      808976  San Francisco  California        17  Finance\n4     8363710       New York    New York        17  Finance",
      "text/html": "<div>\n<style scoped>\n    .dataframe tbody tr th:only-of-type {\n        vertical-align: middle;\n    }\n\n    .dataframe tbody tr th {\n        vertical-align: top;\n    }\n\n    .dataframe thead th {\n        text-align: right;\n    }\n</style>\n<table border=\"1\" class=\"dataframe\">\n  <thead>\n    <tr style=\"text-align: right;\">\n      <th></th>\n      <th>population</th>\n      <th>city</th>\n      <th>state</th>\n      <th>eco_code</th>\n      <th>economy</th>\n    </tr>\n  </thead>\n  <tbody>\n    <tr>\n      <th>5</th>\n      <td>413201</td>\n      <td>Miami</td>\n      <td>Florida</td>\n      <td>34</td>\n      <td>Tourism</td>\n    </tr>\n    <tr>\n      <th>6</th>\n      <td>2242193</td>\n      <td>Houston</td>\n      <td>Texas</td>\n      <td>20</td>\n      <td>Energy</td>\n    </tr>\n    <tr>\n      <th>3</th>\n      <td>808976</td>\n      <td>San Francisco</td>\n      <td>California</td>\n      <td>17</td>\n      <td>Finance</td>\n    </tr>\n    <tr>\n      <th>4</th>\n      <td>8363710</td>\n      <td>New York</td>\n      <td>New York</td>\n      <td>17</td>\n      <td>Finance</td>\n    </tr>\n  </tbody>\n</table>\n</div>"
     },
     "execution_count": 222,
     "metadata": {},
     "output_type": "execute_result"
    }
   ],
   "source": [
    "city_eco.sort_values(by='economy', ascending=False)"
   ],
   "metadata": {
    "collapsed": false,
    "ExecuteTime": {
     "end_time": "2025-03-23T14:06:14.213162Z",
     "start_time": "2025-03-23T14:06:14.200841Z"
    }
   },
   "id": "625f6d22e275705f",
   "execution_count": 222
  }
 ],
 "metadata": {
  "kernelspec": {
   "display_name": "Python 3",
   "language": "python",
   "name": "python3"
  },
  "language_info": {
   "codemirror_mode": {
    "name": "ipython",
    "version": 2
   },
   "file_extension": ".py",
   "mimetype": "text/x-python",
   "name": "python",
   "nbconvert_exporter": "python",
   "pygments_lexer": "ipython2",
   "version": "2.7.6"
  }
 },
 "nbformat": 4,
 "nbformat_minor": 5
}
